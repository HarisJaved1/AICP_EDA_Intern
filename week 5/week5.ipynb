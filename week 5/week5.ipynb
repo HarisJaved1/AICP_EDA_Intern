{
 "cells": [
  {
   "cell_type": "code",
   "execution_count": 109,
   "metadata": {},
   "outputs": [],
   "source": [
    "import pandas as pd\n",
    "import plotly.express as px\n",
    "import plotly.graph_objects as go\n",
    "import plotly.io as pio\n",
    "from wordcloud import WordCloud\n",
    "pio.templates.default = \"plotly_white\"\n",
    "import matplotlib.pyplot as plt\n",
    "import numpy as np"
   ]
  },
  {
   "cell_type": "code",
   "execution_count": 2,
   "metadata": {},
   "outputs": [
    {
     "data": {
      "text/html": [
       "<div>\n",
       "<style scoped>\n",
       "    .dataframe tbody tr th:only-of-type {\n",
       "        vertical-align: middle;\n",
       "    }\n",
       "\n",
       "    .dataframe tbody tr th {\n",
       "        vertical-align: top;\n",
       "    }\n",
       "\n",
       "    .dataframe thead th {\n",
       "        text-align: right;\n",
       "    }\n",
       "</style>\n",
       "<table border=\"1\" class=\"dataframe\">\n",
       "  <thead>\n",
       "    <tr style=\"text-align: right;\">\n",
       "      <th></th>\n",
       "      <th>Impressions</th>\n",
       "      <th>From Home</th>\n",
       "      <th>From Hashtags</th>\n",
       "      <th>From Explore</th>\n",
       "      <th>From Other</th>\n",
       "      <th>Saves</th>\n",
       "      <th>Comments</th>\n",
       "      <th>Shares</th>\n",
       "      <th>Likes</th>\n",
       "      <th>Profile Visits</th>\n",
       "      <th>Follows</th>\n",
       "      <th>Caption</th>\n",
       "      <th>Hashtags</th>\n",
       "    </tr>\n",
       "  </thead>\n",
       "  <tbody>\n",
       "    <tr>\n",
       "      <th>0</th>\n",
       "      <td>3920</td>\n",
       "      <td>2586</td>\n",
       "      <td>1028</td>\n",
       "      <td>619</td>\n",
       "      <td>56</td>\n",
       "      <td>98</td>\n",
       "      <td>9</td>\n",
       "      <td>5</td>\n",
       "      <td>162</td>\n",
       "      <td>35</td>\n",
       "      <td>2</td>\n",
       "      <td>Here are some of the most important data visua...</td>\n",
       "      <td>#finance #money #business #investing #investme...</td>\n",
       "    </tr>\n",
       "    <tr>\n",
       "      <th>1</th>\n",
       "      <td>5394</td>\n",
       "      <td>2727</td>\n",
       "      <td>1838</td>\n",
       "      <td>1174</td>\n",
       "      <td>78</td>\n",
       "      <td>194</td>\n",
       "      <td>7</td>\n",
       "      <td>14</td>\n",
       "      <td>224</td>\n",
       "      <td>48</td>\n",
       "      <td>10</td>\n",
       "      <td>Here are some of the best data science project...</td>\n",
       "      <td>#healthcare #health #covid #data #datascience ...</td>\n",
       "    </tr>\n",
       "  </tbody>\n",
       "</table>\n",
       "</div>"
      ],
      "text/plain": [
       "   Impressions  From Home  From Hashtags  From Explore  From Other  Saves  \\\n",
       "0         3920       2586           1028           619          56     98   \n",
       "1         5394       2727           1838          1174          78    194   \n",
       "\n",
       "   Comments  Shares  Likes  Profile Visits  Follows  \\\n",
       "0         9       5    162              35        2   \n",
       "1         7      14    224              48       10   \n",
       "\n",
       "                                             Caption  \\\n",
       "0  Here are some of the most important data visua...   \n",
       "1  Here are some of the best data science project...   \n",
       "\n",
       "                                            Hashtags  \n",
       "0  #finance #money #business #investing #investme...  \n",
       "1  #healthcare #health #covid #data #datascience ...  "
      ]
     },
     "execution_count": 2,
     "metadata": {},
     "output_type": "execute_result"
    }
   ],
   "source": [
    "df = pd.read_csv(\"instadata.csv\", encoding=\"cp1252\")\n",
    "df.head(2)"
   ]
  },
  {
   "cell_type": "code",
   "execution_count": 3,
   "metadata": {},
   "outputs": [
    {
     "data": {
      "text/html": [
       "<div>\n",
       "<style scoped>\n",
       "    .dataframe tbody tr th:only-of-type {\n",
       "        vertical-align: middle;\n",
       "    }\n",
       "\n",
       "    .dataframe tbody tr th {\n",
       "        vertical-align: top;\n",
       "    }\n",
       "\n",
       "    .dataframe thead th {\n",
       "        text-align: right;\n",
       "    }\n",
       "</style>\n",
       "<table border=\"1\" class=\"dataframe\">\n",
       "  <thead>\n",
       "    <tr style=\"text-align: right;\">\n",
       "      <th></th>\n",
       "      <th>Impressions</th>\n",
       "      <th>From Home</th>\n",
       "      <th>From Hashtags</th>\n",
       "      <th>From Explore</th>\n",
       "      <th>From Other</th>\n",
       "      <th>Saves</th>\n",
       "      <th>Comments</th>\n",
       "      <th>Shares</th>\n",
       "      <th>Likes</th>\n",
       "      <th>Profile Visits</th>\n",
       "      <th>Follows</th>\n",
       "    </tr>\n",
       "  </thead>\n",
       "  <tbody>\n",
       "    <tr>\n",
       "      <th>count</th>\n",
       "      <td>119.000000</td>\n",
       "      <td>119.000000</td>\n",
       "      <td>119.000000</td>\n",
       "      <td>119.000000</td>\n",
       "      <td>119.000000</td>\n",
       "      <td>119.000000</td>\n",
       "      <td>119.000000</td>\n",
       "      <td>119.000000</td>\n",
       "      <td>119.000000</td>\n",
       "      <td>119.000000</td>\n",
       "      <td>119.000000</td>\n",
       "    </tr>\n",
       "    <tr>\n",
       "      <th>mean</th>\n",
       "      <td>5703.991597</td>\n",
       "      <td>2475.789916</td>\n",
       "      <td>1887.512605</td>\n",
       "      <td>1078.100840</td>\n",
       "      <td>171.092437</td>\n",
       "      <td>153.310924</td>\n",
       "      <td>6.663866</td>\n",
       "      <td>9.361345</td>\n",
       "      <td>173.781513</td>\n",
       "      <td>50.621849</td>\n",
       "      <td>20.756303</td>\n",
       "    </tr>\n",
       "    <tr>\n",
       "      <th>std</th>\n",
       "      <td>4843.780105</td>\n",
       "      <td>1489.386348</td>\n",
       "      <td>1884.361443</td>\n",
       "      <td>2613.026132</td>\n",
       "      <td>289.431031</td>\n",
       "      <td>156.317731</td>\n",
       "      <td>3.544576</td>\n",
       "      <td>10.089205</td>\n",
       "      <td>82.378947</td>\n",
       "      <td>87.088402</td>\n",
       "      <td>40.921580</td>\n",
       "    </tr>\n",
       "    <tr>\n",
       "      <th>min</th>\n",
       "      <td>1941.000000</td>\n",
       "      <td>1133.000000</td>\n",
       "      <td>116.000000</td>\n",
       "      <td>0.000000</td>\n",
       "      <td>9.000000</td>\n",
       "      <td>22.000000</td>\n",
       "      <td>0.000000</td>\n",
       "      <td>0.000000</td>\n",
       "      <td>72.000000</td>\n",
       "      <td>4.000000</td>\n",
       "      <td>0.000000</td>\n",
       "    </tr>\n",
       "    <tr>\n",
       "      <th>25%</th>\n",
       "      <td>3467.000000</td>\n",
       "      <td>1945.000000</td>\n",
       "      <td>726.000000</td>\n",
       "      <td>157.500000</td>\n",
       "      <td>38.000000</td>\n",
       "      <td>65.000000</td>\n",
       "      <td>4.000000</td>\n",
       "      <td>3.000000</td>\n",
       "      <td>121.500000</td>\n",
       "      <td>15.000000</td>\n",
       "      <td>4.000000</td>\n",
       "    </tr>\n",
       "    <tr>\n",
       "      <th>50%</th>\n",
       "      <td>4289.000000</td>\n",
       "      <td>2207.000000</td>\n",
       "      <td>1278.000000</td>\n",
       "      <td>326.000000</td>\n",
       "      <td>74.000000</td>\n",
       "      <td>109.000000</td>\n",
       "      <td>6.000000</td>\n",
       "      <td>6.000000</td>\n",
       "      <td>151.000000</td>\n",
       "      <td>23.000000</td>\n",
       "      <td>8.000000</td>\n",
       "    </tr>\n",
       "    <tr>\n",
       "      <th>75%</th>\n",
       "      <td>6138.000000</td>\n",
       "      <td>2602.500000</td>\n",
       "      <td>2363.500000</td>\n",
       "      <td>689.500000</td>\n",
       "      <td>196.000000</td>\n",
       "      <td>169.000000</td>\n",
       "      <td>8.000000</td>\n",
       "      <td>13.500000</td>\n",
       "      <td>204.000000</td>\n",
       "      <td>42.000000</td>\n",
       "      <td>18.000000</td>\n",
       "    </tr>\n",
       "    <tr>\n",
       "      <th>max</th>\n",
       "      <td>36919.000000</td>\n",
       "      <td>13473.000000</td>\n",
       "      <td>11817.000000</td>\n",
       "      <td>17414.000000</td>\n",
       "      <td>2547.000000</td>\n",
       "      <td>1095.000000</td>\n",
       "      <td>19.000000</td>\n",
       "      <td>75.000000</td>\n",
       "      <td>549.000000</td>\n",
       "      <td>611.000000</td>\n",
       "      <td>260.000000</td>\n",
       "    </tr>\n",
       "  </tbody>\n",
       "</table>\n",
       "</div>"
      ],
      "text/plain": [
       "        Impressions     From Home  From Hashtags  From Explore   From Other  \\\n",
       "count    119.000000    119.000000     119.000000    119.000000   119.000000   \n",
       "mean    5703.991597   2475.789916    1887.512605   1078.100840   171.092437   \n",
       "std     4843.780105   1489.386348    1884.361443   2613.026132   289.431031   \n",
       "min     1941.000000   1133.000000     116.000000      0.000000     9.000000   \n",
       "25%     3467.000000   1945.000000     726.000000    157.500000    38.000000   \n",
       "50%     4289.000000   2207.000000    1278.000000    326.000000    74.000000   \n",
       "75%     6138.000000   2602.500000    2363.500000    689.500000   196.000000   \n",
       "max    36919.000000  13473.000000   11817.000000  17414.000000  2547.000000   \n",
       "\n",
       "             Saves    Comments      Shares       Likes  Profile Visits  \\\n",
       "count   119.000000  119.000000  119.000000  119.000000      119.000000   \n",
       "mean    153.310924    6.663866    9.361345  173.781513       50.621849   \n",
       "std     156.317731    3.544576   10.089205   82.378947       87.088402   \n",
       "min      22.000000    0.000000    0.000000   72.000000        4.000000   \n",
       "25%      65.000000    4.000000    3.000000  121.500000       15.000000   \n",
       "50%     109.000000    6.000000    6.000000  151.000000       23.000000   \n",
       "75%     169.000000    8.000000   13.500000  204.000000       42.000000   \n",
       "max    1095.000000   19.000000   75.000000  549.000000      611.000000   \n",
       "\n",
       "          Follows  \n",
       "count  119.000000  \n",
       "mean    20.756303  \n",
       "std     40.921580  \n",
       "min      0.000000  \n",
       "25%      4.000000  \n",
       "50%      8.000000  \n",
       "75%     18.000000  \n",
       "max    260.000000  "
      ]
     },
     "execution_count": 3,
     "metadata": {},
     "output_type": "execute_result"
    }
   ],
   "source": [
    "#Showing the stats of this dataset\n",
    "df.describe()"
   ]
  },
  {
   "cell_type": "code",
   "execution_count": 4,
   "metadata": {},
   "outputs": [
    {
     "data": {
      "text/plain": [
       "Impressions       0\n",
       "From Home         0\n",
       "From Hashtags     0\n",
       "From Explore      0\n",
       "From Other        0\n",
       "Saves             0\n",
       "Comments          0\n",
       "Shares            0\n",
       "Likes             0\n",
       "Profile Visits    0\n",
       "Follows           0\n",
       "Caption           0\n",
       "Hashtags          0\n",
       "dtype: int64"
      ]
     },
     "execution_count": 4,
     "metadata": {},
     "output_type": "execute_result"
    }
   ],
   "source": [
    "#Checking to see if ther are any missing values\n",
    "df.isnull().sum()\n",
    "\n",
    "#This shows there are no missing values \n",
    "#You can also use data.info() to get more statistics about this data"
   ]
  },
  {
   "cell_type": "code",
   "execution_count": 175,
   "metadata": {},
   "outputs": [
    {
     "data": {
      "application/vnd.plotly.v1+json": {
       "config": {
        "plotlyServerURL": "https://plot.ly"
       },
       "data": [
        {
         "alignmentgroup": "True",
         "bingroup": "x",
         "hovertemplate": "Impressions=%{x}<br>count=%{y}<extra></extra>",
         "legendgroup": "",
         "marker": {
          "color": "#636efa",
          "pattern": {
           "shape": ""
          }
         },
         "name": "",
         "offsetgroup": "",
         "orientation": "v",
         "showlegend": false,
         "type": "histogram",
         "x": [
          3920,
          5394,
          4021,
          4528,
          2518,
          3884,
          2621,
          3541,
          3749,
          4115,
          2218,
          3234,
          4344,
          3216,
          9453,
          5055,
          4002,
          3169,
          6168,
          2407,
          2064,
          3973,
          7281,
          3052,
          4628,
          4082,
          5394,
          2766,
          3924,
          3015,
          6666,
          3854,
          4355,
          4343,
          6108,
          2523,
          2327,
          3990,
          2191,
          1941,
          16062,
          4998,
          4289,
          3880,
          3786,
          4298,
          3630,
          2826,
          7407,
          10386,
          2998,
          7018,
          2941,
          6432,
          10667,
          3988,
          4978,
          3388,
          4467,
          3246,
          5072,
          6339,
          4239,
          3454,
          7571,
          3333,
          3818,
          10933,
          5058,
          3601,
          3480,
          3525,
          3606,
          5542,
          6559,
          3623,
          10493,
          4446,
          2957,
          5538,
          4681,
          5273,
          5055,
          4002,
          3169,
          6168,
          2407,
          3630,
          2826,
          7407,
          10386,
          2998,
          3052,
          4628,
          4082,
          5394,
          2766,
          3924,
          3015,
          5409,
          5323,
          8001,
          4150,
          4609,
          6348,
          11068,
          7231,
          17396,
          6814,
          17713,
          5563,
          4842,
          11149,
          10206,
          13700,
          5731,
          4139,
          32695,
          36919
         ],
         "xaxis": "x",
         "yaxis": "y"
        }
       ],
       "layout": {
        "barmode": "relative",
        "legend": {
         "tracegroupgap": 0
        },
        "template": {
         "data": {
          "bar": [
           {
            "error_x": {
             "color": "#2a3f5f"
            },
            "error_y": {
             "color": "#2a3f5f"
            },
            "marker": {
             "line": {
              "color": "white",
              "width": 0.5
             },
             "pattern": {
              "fillmode": "overlay",
              "size": 10,
              "solidity": 0.2
             }
            },
            "type": "bar"
           }
          ],
          "barpolar": [
           {
            "marker": {
             "line": {
              "color": "white",
              "width": 0.5
             },
             "pattern": {
              "fillmode": "overlay",
              "size": 10,
              "solidity": 0.2
             }
            },
            "type": "barpolar"
           }
          ],
          "carpet": [
           {
            "aaxis": {
             "endlinecolor": "#2a3f5f",
             "gridcolor": "#C8D4E3",
             "linecolor": "#C8D4E3",
             "minorgridcolor": "#C8D4E3",
             "startlinecolor": "#2a3f5f"
            },
            "baxis": {
             "endlinecolor": "#2a3f5f",
             "gridcolor": "#C8D4E3",
             "linecolor": "#C8D4E3",
             "minorgridcolor": "#C8D4E3",
             "startlinecolor": "#2a3f5f"
            },
            "type": "carpet"
           }
          ],
          "choropleth": [
           {
            "colorbar": {
             "outlinewidth": 0,
             "ticks": ""
            },
            "type": "choropleth"
           }
          ],
          "contour": [
           {
            "colorbar": {
             "outlinewidth": 0,
             "ticks": ""
            },
            "colorscale": [
             [
              0,
              "#0d0887"
             ],
             [
              0.1111111111111111,
              "#46039f"
             ],
             [
              0.2222222222222222,
              "#7201a8"
             ],
             [
              0.3333333333333333,
              "#9c179e"
             ],
             [
              0.4444444444444444,
              "#bd3786"
             ],
             [
              0.5555555555555556,
              "#d8576b"
             ],
             [
              0.6666666666666666,
              "#ed7953"
             ],
             [
              0.7777777777777778,
              "#fb9f3a"
             ],
             [
              0.8888888888888888,
              "#fdca26"
             ],
             [
              1,
              "#f0f921"
             ]
            ],
            "type": "contour"
           }
          ],
          "contourcarpet": [
           {
            "colorbar": {
             "outlinewidth": 0,
             "ticks": ""
            },
            "type": "contourcarpet"
           }
          ],
          "heatmap": [
           {
            "colorbar": {
             "outlinewidth": 0,
             "ticks": ""
            },
            "colorscale": [
             [
              0,
              "#0d0887"
             ],
             [
              0.1111111111111111,
              "#46039f"
             ],
             [
              0.2222222222222222,
              "#7201a8"
             ],
             [
              0.3333333333333333,
              "#9c179e"
             ],
             [
              0.4444444444444444,
              "#bd3786"
             ],
             [
              0.5555555555555556,
              "#d8576b"
             ],
             [
              0.6666666666666666,
              "#ed7953"
             ],
             [
              0.7777777777777778,
              "#fb9f3a"
             ],
             [
              0.8888888888888888,
              "#fdca26"
             ],
             [
              1,
              "#f0f921"
             ]
            ],
            "type": "heatmap"
           }
          ],
          "heatmapgl": [
           {
            "colorbar": {
             "outlinewidth": 0,
             "ticks": ""
            },
            "colorscale": [
             [
              0,
              "#0d0887"
             ],
             [
              0.1111111111111111,
              "#46039f"
             ],
             [
              0.2222222222222222,
              "#7201a8"
             ],
             [
              0.3333333333333333,
              "#9c179e"
             ],
             [
              0.4444444444444444,
              "#bd3786"
             ],
             [
              0.5555555555555556,
              "#d8576b"
             ],
             [
              0.6666666666666666,
              "#ed7953"
             ],
             [
              0.7777777777777778,
              "#fb9f3a"
             ],
             [
              0.8888888888888888,
              "#fdca26"
             ],
             [
              1,
              "#f0f921"
             ]
            ],
            "type": "heatmapgl"
           }
          ],
          "histogram": [
           {
            "marker": {
             "pattern": {
              "fillmode": "overlay",
              "size": 10,
              "solidity": 0.2
             }
            },
            "type": "histogram"
           }
          ],
          "histogram2d": [
           {
            "colorbar": {
             "outlinewidth": 0,
             "ticks": ""
            },
            "colorscale": [
             [
              0,
              "#0d0887"
             ],
             [
              0.1111111111111111,
              "#46039f"
             ],
             [
              0.2222222222222222,
              "#7201a8"
             ],
             [
              0.3333333333333333,
              "#9c179e"
             ],
             [
              0.4444444444444444,
              "#bd3786"
             ],
             [
              0.5555555555555556,
              "#d8576b"
             ],
             [
              0.6666666666666666,
              "#ed7953"
             ],
             [
              0.7777777777777778,
              "#fb9f3a"
             ],
             [
              0.8888888888888888,
              "#fdca26"
             ],
             [
              1,
              "#f0f921"
             ]
            ],
            "type": "histogram2d"
           }
          ],
          "histogram2dcontour": [
           {
            "colorbar": {
             "outlinewidth": 0,
             "ticks": ""
            },
            "colorscale": [
             [
              0,
              "#0d0887"
             ],
             [
              0.1111111111111111,
              "#46039f"
             ],
             [
              0.2222222222222222,
              "#7201a8"
             ],
             [
              0.3333333333333333,
              "#9c179e"
             ],
             [
              0.4444444444444444,
              "#bd3786"
             ],
             [
              0.5555555555555556,
              "#d8576b"
             ],
             [
              0.6666666666666666,
              "#ed7953"
             ],
             [
              0.7777777777777778,
              "#fb9f3a"
             ],
             [
              0.8888888888888888,
              "#fdca26"
             ],
             [
              1,
              "#f0f921"
             ]
            ],
            "type": "histogram2dcontour"
           }
          ],
          "mesh3d": [
           {
            "colorbar": {
             "outlinewidth": 0,
             "ticks": ""
            },
            "type": "mesh3d"
           }
          ],
          "parcoords": [
           {
            "line": {
             "colorbar": {
              "outlinewidth": 0,
              "ticks": ""
             }
            },
            "type": "parcoords"
           }
          ],
          "pie": [
           {
            "automargin": true,
            "type": "pie"
           }
          ],
          "scatter": [
           {
            "fillpattern": {
             "fillmode": "overlay",
             "size": 10,
             "solidity": 0.2
            },
            "type": "scatter"
           }
          ],
          "scatter3d": [
           {
            "line": {
             "colorbar": {
              "outlinewidth": 0,
              "ticks": ""
             }
            },
            "marker": {
             "colorbar": {
              "outlinewidth": 0,
              "ticks": ""
             }
            },
            "type": "scatter3d"
           }
          ],
          "scattercarpet": [
           {
            "marker": {
             "colorbar": {
              "outlinewidth": 0,
              "ticks": ""
             }
            },
            "type": "scattercarpet"
           }
          ],
          "scattergeo": [
           {
            "marker": {
             "colorbar": {
              "outlinewidth": 0,
              "ticks": ""
             }
            },
            "type": "scattergeo"
           }
          ],
          "scattergl": [
           {
            "marker": {
             "colorbar": {
              "outlinewidth": 0,
              "ticks": ""
             }
            },
            "type": "scattergl"
           }
          ],
          "scattermapbox": [
           {
            "marker": {
             "colorbar": {
              "outlinewidth": 0,
              "ticks": ""
             }
            },
            "type": "scattermapbox"
           }
          ],
          "scatterpolar": [
           {
            "marker": {
             "colorbar": {
              "outlinewidth": 0,
              "ticks": ""
             }
            },
            "type": "scatterpolar"
           }
          ],
          "scatterpolargl": [
           {
            "marker": {
             "colorbar": {
              "outlinewidth": 0,
              "ticks": ""
             }
            },
            "type": "scatterpolargl"
           }
          ],
          "scatterternary": [
           {
            "marker": {
             "colorbar": {
              "outlinewidth": 0,
              "ticks": ""
             }
            },
            "type": "scatterternary"
           }
          ],
          "surface": [
           {
            "colorbar": {
             "outlinewidth": 0,
             "ticks": ""
            },
            "colorscale": [
             [
              0,
              "#0d0887"
             ],
             [
              0.1111111111111111,
              "#46039f"
             ],
             [
              0.2222222222222222,
              "#7201a8"
             ],
             [
              0.3333333333333333,
              "#9c179e"
             ],
             [
              0.4444444444444444,
              "#bd3786"
             ],
             [
              0.5555555555555556,
              "#d8576b"
             ],
             [
              0.6666666666666666,
              "#ed7953"
             ],
             [
              0.7777777777777778,
              "#fb9f3a"
             ],
             [
              0.8888888888888888,
              "#fdca26"
             ],
             [
              1,
              "#f0f921"
             ]
            ],
            "type": "surface"
           }
          ],
          "table": [
           {
            "cells": {
             "fill": {
              "color": "#EBF0F8"
             },
             "line": {
              "color": "white"
             }
            },
            "header": {
             "fill": {
              "color": "#C8D4E3"
             },
             "line": {
              "color": "white"
             }
            },
            "type": "table"
           }
          ]
         },
         "layout": {
          "annotationdefaults": {
           "arrowcolor": "#2a3f5f",
           "arrowhead": 0,
           "arrowwidth": 1
          },
          "autotypenumbers": "strict",
          "coloraxis": {
           "colorbar": {
            "outlinewidth": 0,
            "ticks": ""
           }
          },
          "colorscale": {
           "diverging": [
            [
             0,
             "#8e0152"
            ],
            [
             0.1,
             "#c51b7d"
            ],
            [
             0.2,
             "#de77ae"
            ],
            [
             0.3,
             "#f1b6da"
            ],
            [
             0.4,
             "#fde0ef"
            ],
            [
             0.5,
             "#f7f7f7"
            ],
            [
             0.6,
             "#e6f5d0"
            ],
            [
             0.7,
             "#b8e186"
            ],
            [
             0.8,
             "#7fbc41"
            ],
            [
             0.9,
             "#4d9221"
            ],
            [
             1,
             "#276419"
            ]
           ],
           "sequential": [
            [
             0,
             "#0d0887"
            ],
            [
             0.1111111111111111,
             "#46039f"
            ],
            [
             0.2222222222222222,
             "#7201a8"
            ],
            [
             0.3333333333333333,
             "#9c179e"
            ],
            [
             0.4444444444444444,
             "#bd3786"
            ],
            [
             0.5555555555555556,
             "#d8576b"
            ],
            [
             0.6666666666666666,
             "#ed7953"
            ],
            [
             0.7777777777777778,
             "#fb9f3a"
            ],
            [
             0.8888888888888888,
             "#fdca26"
            ],
            [
             1,
             "#f0f921"
            ]
           ],
           "sequentialminus": [
            [
             0,
             "#0d0887"
            ],
            [
             0.1111111111111111,
             "#46039f"
            ],
            [
             0.2222222222222222,
             "#7201a8"
            ],
            [
             0.3333333333333333,
             "#9c179e"
            ],
            [
             0.4444444444444444,
             "#bd3786"
            ],
            [
             0.5555555555555556,
             "#d8576b"
            ],
            [
             0.6666666666666666,
             "#ed7953"
            ],
            [
             0.7777777777777778,
             "#fb9f3a"
            ],
            [
             0.8888888888888888,
             "#fdca26"
            ],
            [
             1,
             "#f0f921"
            ]
           ]
          },
          "colorway": [
           "#636efa",
           "#EF553B",
           "#00cc96",
           "#ab63fa",
           "#FFA15A",
           "#19d3f3",
           "#FF6692",
           "#B6E880",
           "#FF97FF",
           "#FECB52"
          ],
          "font": {
           "color": "#2a3f5f"
          },
          "geo": {
           "bgcolor": "white",
           "lakecolor": "white",
           "landcolor": "white",
           "showlakes": true,
           "showland": true,
           "subunitcolor": "#C8D4E3"
          },
          "hoverlabel": {
           "align": "left"
          },
          "hovermode": "closest",
          "mapbox": {
           "style": "light"
          },
          "paper_bgcolor": "white",
          "plot_bgcolor": "white",
          "polar": {
           "angularaxis": {
            "gridcolor": "#EBF0F8",
            "linecolor": "#EBF0F8",
            "ticks": ""
           },
           "bgcolor": "white",
           "radialaxis": {
            "gridcolor": "#EBF0F8",
            "linecolor": "#EBF0F8",
            "ticks": ""
           }
          },
          "scene": {
           "xaxis": {
            "backgroundcolor": "white",
            "gridcolor": "#DFE8F3",
            "gridwidth": 2,
            "linecolor": "#EBF0F8",
            "showbackground": true,
            "ticks": "",
            "zerolinecolor": "#EBF0F8"
           },
           "yaxis": {
            "backgroundcolor": "white",
            "gridcolor": "#DFE8F3",
            "gridwidth": 2,
            "linecolor": "#EBF0F8",
            "showbackground": true,
            "ticks": "",
            "zerolinecolor": "#EBF0F8"
           },
           "zaxis": {
            "backgroundcolor": "white",
            "gridcolor": "#DFE8F3",
            "gridwidth": 2,
            "linecolor": "#EBF0F8",
            "showbackground": true,
            "ticks": "",
            "zerolinecolor": "#EBF0F8"
           }
          },
          "shapedefaults": {
           "line": {
            "color": "#2a3f5f"
           }
          },
          "ternary": {
           "aaxis": {
            "gridcolor": "#DFE8F3",
            "linecolor": "#A2B1C6",
            "ticks": ""
           },
           "baxis": {
            "gridcolor": "#DFE8F3",
            "linecolor": "#A2B1C6",
            "ticks": ""
           },
           "bgcolor": "white",
           "caxis": {
            "gridcolor": "#DFE8F3",
            "linecolor": "#A2B1C6",
            "ticks": ""
           }
          },
          "title": {
           "x": 0.05
          },
          "xaxis": {
           "automargin": true,
           "gridcolor": "#EBF0F8",
           "linecolor": "#EBF0F8",
           "ticks": "",
           "title": {
            "standoff": 15
           },
           "zerolinecolor": "#EBF0F8",
           "zerolinewidth": 2
          },
          "yaxis": {
           "automargin": true,
           "gridcolor": "#EBF0F8",
           "linecolor": "#EBF0F8",
           "ticks": "",
           "title": {
            "standoff": 15
           },
           "zerolinecolor": "#EBF0F8",
           "zerolinewidth": 2
          }
         }
        },
        "title": {
         "text": "Distribution of Impressions"
        },
        "xaxis": {
         "anchor": "y",
         "domain": [
          0,
          1
         ],
         "gridwidth": true,
         "title": {
          "text": "Impressions"
         }
        },
        "yaxis": {
         "anchor": "x",
         "domain": [
          0,
          1
         ],
         "gridwidth": true,
         "title": {
          "text": "count"
         }
        }
       }
      }
     },
     "metadata": {},
     "output_type": "display_data"
    }
   ],
   "source": [
    "#Distribution of Impressions. \n",
    "fig = px.histogram(data_frame=df, x=\"Impressions\", title=\"Distribution of Impressions\")\n",
    "\n",
    "fig.update_layout(xaxis_gridwidth=True, yaxis_gridwidth=True)\n",
    "fig.show()"
   ]
  },
  {
   "cell_type": "code",
   "execution_count": 39,
   "metadata": {},
   "outputs": [
    {
     "data": {
      "application/vnd.plotly.v1+json": {
       "config": {
        "plotlyServerURL": "https://plot.ly"
       },
       "data": [
        {
         "hovertemplate": "index=%{x}<br>Impressions=%{y}<extra></extra>",
         "legendgroup": "",
         "line": {
          "color": "#636efa",
          "dash": "solid"
         },
         "marker": {
          "symbol": "circle"
         },
         "mode": "lines",
         "name": "",
         "orientation": "v",
         "showlegend": false,
         "type": "scatter",
         "x": [
          0,
          1,
          2,
          3,
          4,
          5,
          6,
          7,
          8,
          9,
          10,
          11,
          12,
          13,
          14,
          15,
          16,
          17,
          18,
          19,
          20,
          21,
          22,
          23,
          24,
          25,
          26,
          27,
          28,
          29,
          30,
          31,
          32,
          33,
          34,
          35,
          36,
          37,
          38,
          39,
          40,
          41,
          42,
          43,
          44,
          45,
          46,
          47,
          48,
          49,
          50,
          51,
          52,
          53,
          54,
          55,
          56,
          57,
          58,
          59,
          60,
          61,
          62,
          63,
          64,
          65,
          66,
          67,
          68,
          69,
          70,
          71,
          72,
          73,
          74,
          75,
          76,
          77,
          78,
          79,
          80,
          81,
          82,
          83,
          84,
          85,
          86,
          87,
          88,
          89,
          90,
          91,
          92,
          93,
          94,
          95,
          96,
          97,
          98,
          99,
          100,
          101,
          102,
          103,
          104,
          105,
          106,
          107,
          108,
          109,
          110,
          111,
          112,
          113,
          114,
          115,
          116,
          117,
          118
         ],
         "xaxis": "x",
         "y": [
          3920,
          5394,
          4021,
          4528,
          2518,
          3884,
          2621,
          3541,
          3749,
          4115,
          2218,
          3234,
          4344,
          3216,
          9453,
          5055,
          4002,
          3169,
          6168,
          2407,
          2064,
          3973,
          7281,
          3052,
          4628,
          4082,
          5394,
          2766,
          3924,
          3015,
          6666,
          3854,
          4355,
          4343,
          6108,
          2523,
          2327,
          3990,
          2191,
          1941,
          16062,
          4998,
          4289,
          3880,
          3786,
          4298,
          3630,
          2826,
          7407,
          10386,
          2998,
          7018,
          2941,
          6432,
          10667,
          3988,
          4978,
          3388,
          4467,
          3246,
          5072,
          6339,
          4239,
          3454,
          7571,
          3333,
          3818,
          10933,
          5058,
          3601,
          3480,
          3525,
          3606,
          5542,
          6559,
          3623,
          10493,
          4446,
          2957,
          5538,
          4681,
          5273,
          5055,
          4002,
          3169,
          6168,
          2407,
          3630,
          2826,
          7407,
          10386,
          2998,
          3052,
          4628,
          4082,
          5394,
          2766,
          3924,
          3015,
          5409,
          5323,
          8001,
          4150,
          4609,
          6348,
          11068,
          7231,
          17396,
          6814,
          17713,
          5563,
          4842,
          11149,
          10206,
          13700,
          5731,
          4139,
          32695,
          36919
         ],
         "yaxis": "y"
        }
       ],
       "layout": {
        "legend": {
         "tracegroupgap": 0
        },
        "template": {
         "data": {
          "bar": [
           {
            "error_x": {
             "color": "#2a3f5f"
            },
            "error_y": {
             "color": "#2a3f5f"
            },
            "marker": {
             "line": {
              "color": "white",
              "width": 0.5
             },
             "pattern": {
              "fillmode": "overlay",
              "size": 10,
              "solidity": 0.2
             }
            },
            "type": "bar"
           }
          ],
          "barpolar": [
           {
            "marker": {
             "line": {
              "color": "white",
              "width": 0.5
             },
             "pattern": {
              "fillmode": "overlay",
              "size": 10,
              "solidity": 0.2
             }
            },
            "type": "barpolar"
           }
          ],
          "carpet": [
           {
            "aaxis": {
             "endlinecolor": "#2a3f5f",
             "gridcolor": "#C8D4E3",
             "linecolor": "#C8D4E3",
             "minorgridcolor": "#C8D4E3",
             "startlinecolor": "#2a3f5f"
            },
            "baxis": {
             "endlinecolor": "#2a3f5f",
             "gridcolor": "#C8D4E3",
             "linecolor": "#C8D4E3",
             "minorgridcolor": "#C8D4E3",
             "startlinecolor": "#2a3f5f"
            },
            "type": "carpet"
           }
          ],
          "choropleth": [
           {
            "colorbar": {
             "outlinewidth": 0,
             "ticks": ""
            },
            "type": "choropleth"
           }
          ],
          "contour": [
           {
            "colorbar": {
             "outlinewidth": 0,
             "ticks": ""
            },
            "colorscale": [
             [
              0,
              "#0d0887"
             ],
             [
              0.1111111111111111,
              "#46039f"
             ],
             [
              0.2222222222222222,
              "#7201a8"
             ],
             [
              0.3333333333333333,
              "#9c179e"
             ],
             [
              0.4444444444444444,
              "#bd3786"
             ],
             [
              0.5555555555555556,
              "#d8576b"
             ],
             [
              0.6666666666666666,
              "#ed7953"
             ],
             [
              0.7777777777777778,
              "#fb9f3a"
             ],
             [
              0.8888888888888888,
              "#fdca26"
             ],
             [
              1,
              "#f0f921"
             ]
            ],
            "type": "contour"
           }
          ],
          "contourcarpet": [
           {
            "colorbar": {
             "outlinewidth": 0,
             "ticks": ""
            },
            "type": "contourcarpet"
           }
          ],
          "heatmap": [
           {
            "colorbar": {
             "outlinewidth": 0,
             "ticks": ""
            },
            "colorscale": [
             [
              0,
              "#0d0887"
             ],
             [
              0.1111111111111111,
              "#46039f"
             ],
             [
              0.2222222222222222,
              "#7201a8"
             ],
             [
              0.3333333333333333,
              "#9c179e"
             ],
             [
              0.4444444444444444,
              "#bd3786"
             ],
             [
              0.5555555555555556,
              "#d8576b"
             ],
             [
              0.6666666666666666,
              "#ed7953"
             ],
             [
              0.7777777777777778,
              "#fb9f3a"
             ],
             [
              0.8888888888888888,
              "#fdca26"
             ],
             [
              1,
              "#f0f921"
             ]
            ],
            "type": "heatmap"
           }
          ],
          "heatmapgl": [
           {
            "colorbar": {
             "outlinewidth": 0,
             "ticks": ""
            },
            "colorscale": [
             [
              0,
              "#0d0887"
             ],
             [
              0.1111111111111111,
              "#46039f"
             ],
             [
              0.2222222222222222,
              "#7201a8"
             ],
             [
              0.3333333333333333,
              "#9c179e"
             ],
             [
              0.4444444444444444,
              "#bd3786"
             ],
             [
              0.5555555555555556,
              "#d8576b"
             ],
             [
              0.6666666666666666,
              "#ed7953"
             ],
             [
              0.7777777777777778,
              "#fb9f3a"
             ],
             [
              0.8888888888888888,
              "#fdca26"
             ],
             [
              1,
              "#f0f921"
             ]
            ],
            "type": "heatmapgl"
           }
          ],
          "histogram": [
           {
            "marker": {
             "pattern": {
              "fillmode": "overlay",
              "size": 10,
              "solidity": 0.2
             }
            },
            "type": "histogram"
           }
          ],
          "histogram2d": [
           {
            "colorbar": {
             "outlinewidth": 0,
             "ticks": ""
            },
            "colorscale": [
             [
              0,
              "#0d0887"
             ],
             [
              0.1111111111111111,
              "#46039f"
             ],
             [
              0.2222222222222222,
              "#7201a8"
             ],
             [
              0.3333333333333333,
              "#9c179e"
             ],
             [
              0.4444444444444444,
              "#bd3786"
             ],
             [
              0.5555555555555556,
              "#d8576b"
             ],
             [
              0.6666666666666666,
              "#ed7953"
             ],
             [
              0.7777777777777778,
              "#fb9f3a"
             ],
             [
              0.8888888888888888,
              "#fdca26"
             ],
             [
              1,
              "#f0f921"
             ]
            ],
            "type": "histogram2d"
           }
          ],
          "histogram2dcontour": [
           {
            "colorbar": {
             "outlinewidth": 0,
             "ticks": ""
            },
            "colorscale": [
             [
              0,
              "#0d0887"
             ],
             [
              0.1111111111111111,
              "#46039f"
             ],
             [
              0.2222222222222222,
              "#7201a8"
             ],
             [
              0.3333333333333333,
              "#9c179e"
             ],
             [
              0.4444444444444444,
              "#bd3786"
             ],
             [
              0.5555555555555556,
              "#d8576b"
             ],
             [
              0.6666666666666666,
              "#ed7953"
             ],
             [
              0.7777777777777778,
              "#fb9f3a"
             ],
             [
              0.8888888888888888,
              "#fdca26"
             ],
             [
              1,
              "#f0f921"
             ]
            ],
            "type": "histogram2dcontour"
           }
          ],
          "mesh3d": [
           {
            "colorbar": {
             "outlinewidth": 0,
             "ticks": ""
            },
            "type": "mesh3d"
           }
          ],
          "parcoords": [
           {
            "line": {
             "colorbar": {
              "outlinewidth": 0,
              "ticks": ""
             }
            },
            "type": "parcoords"
           }
          ],
          "pie": [
           {
            "automargin": true,
            "type": "pie"
           }
          ],
          "scatter": [
           {
            "fillpattern": {
             "fillmode": "overlay",
             "size": 10,
             "solidity": 0.2
            },
            "type": "scatter"
           }
          ],
          "scatter3d": [
           {
            "line": {
             "colorbar": {
              "outlinewidth": 0,
              "ticks": ""
             }
            },
            "marker": {
             "colorbar": {
              "outlinewidth": 0,
              "ticks": ""
             }
            },
            "type": "scatter3d"
           }
          ],
          "scattercarpet": [
           {
            "marker": {
             "colorbar": {
              "outlinewidth": 0,
              "ticks": ""
             }
            },
            "type": "scattercarpet"
           }
          ],
          "scattergeo": [
           {
            "marker": {
             "colorbar": {
              "outlinewidth": 0,
              "ticks": ""
             }
            },
            "type": "scattergeo"
           }
          ],
          "scattergl": [
           {
            "marker": {
             "colorbar": {
              "outlinewidth": 0,
              "ticks": ""
             }
            },
            "type": "scattergl"
           }
          ],
          "scattermapbox": [
           {
            "marker": {
             "colorbar": {
              "outlinewidth": 0,
              "ticks": ""
             }
            },
            "type": "scattermapbox"
           }
          ],
          "scatterpolar": [
           {
            "marker": {
             "colorbar": {
              "outlinewidth": 0,
              "ticks": ""
             }
            },
            "type": "scatterpolar"
           }
          ],
          "scatterpolargl": [
           {
            "marker": {
             "colorbar": {
              "outlinewidth": 0,
              "ticks": ""
             }
            },
            "type": "scatterpolargl"
           }
          ],
          "scatterternary": [
           {
            "marker": {
             "colorbar": {
              "outlinewidth": 0,
              "ticks": ""
             }
            },
            "type": "scatterternary"
           }
          ],
          "surface": [
           {
            "colorbar": {
             "outlinewidth": 0,
             "ticks": ""
            },
            "colorscale": [
             [
              0,
              "#0d0887"
             ],
             [
              0.1111111111111111,
              "#46039f"
             ],
             [
              0.2222222222222222,
              "#7201a8"
             ],
             [
              0.3333333333333333,
              "#9c179e"
             ],
             [
              0.4444444444444444,
              "#bd3786"
             ],
             [
              0.5555555555555556,
              "#d8576b"
             ],
             [
              0.6666666666666666,
              "#ed7953"
             ],
             [
              0.7777777777777778,
              "#fb9f3a"
             ],
             [
              0.8888888888888888,
              "#fdca26"
             ],
             [
              1,
              "#f0f921"
             ]
            ],
            "type": "surface"
           }
          ],
          "table": [
           {
            "cells": {
             "fill": {
              "color": "#EBF0F8"
             },
             "line": {
              "color": "white"
             }
            },
            "header": {
             "fill": {
              "color": "#C8D4E3"
             },
             "line": {
              "color": "white"
             }
            },
            "type": "table"
           }
          ]
         },
         "layout": {
          "annotationdefaults": {
           "arrowcolor": "#2a3f5f",
           "arrowhead": 0,
           "arrowwidth": 1
          },
          "autotypenumbers": "strict",
          "coloraxis": {
           "colorbar": {
            "outlinewidth": 0,
            "ticks": ""
           }
          },
          "colorscale": {
           "diverging": [
            [
             0,
             "#8e0152"
            ],
            [
             0.1,
             "#c51b7d"
            ],
            [
             0.2,
             "#de77ae"
            ],
            [
             0.3,
             "#f1b6da"
            ],
            [
             0.4,
             "#fde0ef"
            ],
            [
             0.5,
             "#f7f7f7"
            ],
            [
             0.6,
             "#e6f5d0"
            ],
            [
             0.7,
             "#b8e186"
            ],
            [
             0.8,
             "#7fbc41"
            ],
            [
             0.9,
             "#4d9221"
            ],
            [
             1,
             "#276419"
            ]
           ],
           "sequential": [
            [
             0,
             "#0d0887"
            ],
            [
             0.1111111111111111,
             "#46039f"
            ],
            [
             0.2222222222222222,
             "#7201a8"
            ],
            [
             0.3333333333333333,
             "#9c179e"
            ],
            [
             0.4444444444444444,
             "#bd3786"
            ],
            [
             0.5555555555555556,
             "#d8576b"
            ],
            [
             0.6666666666666666,
             "#ed7953"
            ],
            [
             0.7777777777777778,
             "#fb9f3a"
            ],
            [
             0.8888888888888888,
             "#fdca26"
            ],
            [
             1,
             "#f0f921"
            ]
           ],
           "sequentialminus": [
            [
             0,
             "#0d0887"
            ],
            [
             0.1111111111111111,
             "#46039f"
            ],
            [
             0.2222222222222222,
             "#7201a8"
            ],
            [
             0.3333333333333333,
             "#9c179e"
            ],
            [
             0.4444444444444444,
             "#bd3786"
            ],
            [
             0.5555555555555556,
             "#d8576b"
            ],
            [
             0.6666666666666666,
             "#ed7953"
            ],
            [
             0.7777777777777778,
             "#fb9f3a"
            ],
            [
             0.8888888888888888,
             "#fdca26"
            ],
            [
             1,
             "#f0f921"
            ]
           ]
          },
          "colorway": [
           "#636efa",
           "#EF553B",
           "#00cc96",
           "#ab63fa",
           "#FFA15A",
           "#19d3f3",
           "#FF6692",
           "#B6E880",
           "#FF97FF",
           "#FECB52"
          ],
          "font": {
           "color": "#2a3f5f"
          },
          "geo": {
           "bgcolor": "white",
           "lakecolor": "white",
           "landcolor": "white",
           "showlakes": true,
           "showland": true,
           "subunitcolor": "#C8D4E3"
          },
          "hoverlabel": {
           "align": "left"
          },
          "hovermode": "closest",
          "mapbox": {
           "style": "light"
          },
          "paper_bgcolor": "white",
          "plot_bgcolor": "white",
          "polar": {
           "angularaxis": {
            "gridcolor": "#EBF0F8",
            "linecolor": "#EBF0F8",
            "ticks": ""
           },
           "bgcolor": "white",
           "radialaxis": {
            "gridcolor": "#EBF0F8",
            "linecolor": "#EBF0F8",
            "ticks": ""
           }
          },
          "scene": {
           "xaxis": {
            "backgroundcolor": "white",
            "gridcolor": "#DFE8F3",
            "gridwidth": 2,
            "linecolor": "#EBF0F8",
            "showbackground": true,
            "ticks": "",
            "zerolinecolor": "#EBF0F8"
           },
           "yaxis": {
            "backgroundcolor": "white",
            "gridcolor": "#DFE8F3",
            "gridwidth": 2,
            "linecolor": "#EBF0F8",
            "showbackground": true,
            "ticks": "",
            "zerolinecolor": "#EBF0F8"
           },
           "zaxis": {
            "backgroundcolor": "white",
            "gridcolor": "#DFE8F3",
            "gridwidth": 2,
            "linecolor": "#EBF0F8",
            "showbackground": true,
            "ticks": "",
            "zerolinecolor": "#EBF0F8"
           }
          },
          "shapedefaults": {
           "line": {
            "color": "#2a3f5f"
           }
          },
          "ternary": {
           "aaxis": {
            "gridcolor": "#DFE8F3",
            "linecolor": "#A2B1C6",
            "ticks": ""
           },
           "baxis": {
            "gridcolor": "#DFE8F3",
            "linecolor": "#A2B1C6",
            "ticks": ""
           },
           "bgcolor": "white",
           "caxis": {
            "gridcolor": "#DFE8F3",
            "linecolor": "#A2B1C6",
            "ticks": ""
           }
          },
          "title": {
           "x": 0.05
          },
          "xaxis": {
           "automargin": true,
           "gridcolor": "#EBF0F8",
           "linecolor": "#EBF0F8",
           "ticks": "",
           "title": {
            "standoff": 15
           },
           "zerolinecolor": "#EBF0F8",
           "zerolinewidth": 2
          },
          "yaxis": {
           "automargin": true,
           "gridcolor": "#EBF0F8",
           "linecolor": "#EBF0F8",
           "ticks": "",
           "title": {
            "standoff": 15
           },
           "zerolinecolor": "#EBF0F8",
           "zerolinewidth": 2
          }
         }
        },
        "title": {
         "text": "Impressions Over Time"
        },
        "xaxis": {
         "anchor": "y",
         "domain": [
          0,
          1
         ],
         "title": {
          "text": "index"
         }
        },
        "yaxis": {
         "anchor": "x",
         "domain": [
          0,
          1
         ],
         "title": {
          "text": "Impressions"
         }
        }
       }
      }
     },
     "metadata": {},
     "output_type": "display_data"
    }
   ],
   "source": [
    "#The distribution of the Impressions:\n",
    "fig = px.line(data_frame=df, y=\"Impressions\", title=\"Impressions Over Time\")\n",
    "fig.show()"
   ]
  },
  {
   "cell_type": "code",
   "execution_count": 43,
   "metadata": {},
   "outputs": [
    {
     "data": {
      "application/vnd.plotly.v1+json": {
       "config": {
        "plotlyServerURL": "https://plot.ly"
       },
       "data": [
        {
         "hovertemplate": "variable=Likes<br>index=%{x}<br>value=%{y}<extra></extra>",
         "legendgroup": "Likes",
         "line": {
          "color": "#636efa",
          "dash": "solid"
         },
         "marker": {
          "symbol": "circle"
         },
         "mode": "lines",
         "name": "Likes",
         "orientation": "v",
         "showlegend": true,
         "type": "scatter",
         "x": [
          0,
          1,
          2,
          3,
          4,
          5,
          6,
          7,
          8,
          9,
          10,
          11,
          12,
          13,
          14,
          15,
          16,
          17,
          18,
          19,
          20,
          21,
          22,
          23,
          24,
          25,
          26,
          27,
          28,
          29,
          30,
          31,
          32,
          33,
          34,
          35,
          36,
          37,
          38,
          39,
          40,
          41,
          42,
          43,
          44,
          45,
          46,
          47,
          48,
          49,
          50,
          51,
          52,
          53,
          54,
          55,
          56,
          57,
          58,
          59,
          60,
          61,
          62,
          63,
          64,
          65,
          66,
          67,
          68,
          69,
          70,
          71,
          72,
          73,
          74,
          75,
          76,
          77,
          78,
          79,
          80,
          81,
          82,
          83,
          84,
          85,
          86,
          87,
          88,
          89,
          90,
          91,
          92,
          93,
          94,
          95,
          96,
          97,
          98,
          99,
          100,
          101,
          102,
          103,
          104,
          105,
          106,
          107,
          108,
          109,
          110,
          111,
          112,
          113,
          114,
          115,
          116,
          117,
          118
         ],
         "xaxis": "x",
         "y": [
          162,
          224,
          131,
          213,
          123,
          144,
          76,
          124,
          159,
          191,
          81,
          151,
          162,
          142,
          294,
          159,
          205,
          121,
          151,
          72,
          76,
          91,
          195,
          129,
          160,
          175,
          147,
          114,
          151,
          92,
          214,
          150,
          122,
          152,
          196,
          86,
          85,
          156,
          72,
          82,
          416,
          180,
          150,
          127,
          167,
          225,
          137,
          114,
          263,
          328,
          126,
          236,
          99,
          212,
          297,
          142,
          186,
          112,
          149,
          132,
          115,
          248,
          178,
          107,
          269,
          96,
          134,
          301,
          187,
          94,
          114,
          96,
          138,
          122,
          257,
          95,
          244,
          190,
          118,
          178,
          170,
          250,
          159,
          205,
          121,
          151,
          72,
          137,
          114,
          263,
          328,
          126,
          129,
          160,
          175,
          147,
          114,
          151,
          92,
          275,
          192,
          203,
          145,
          168,
          194,
          250,
          171,
          416,
          249,
          308,
          163,
          86,
          210,
          172,
          373,
          148,
          92,
          549,
          443
         ],
         "yaxis": "y"
        },
        {
         "hovertemplate": "variable=Saves<br>index=%{x}<br>value=%{y}<extra></extra>",
         "legendgroup": "Saves",
         "line": {
          "color": "#EF553B",
          "dash": "solid"
         },
         "marker": {
          "symbol": "circle"
         },
         "mode": "lines",
         "name": "Saves",
         "orientation": "v",
         "showlegend": true,
         "type": "scatter",
         "x": [
          0,
          1,
          2,
          3,
          4,
          5,
          6,
          7,
          8,
          9,
          10,
          11,
          12,
          13,
          14,
          15,
          16,
          17,
          18,
          19,
          20,
          21,
          22,
          23,
          24,
          25,
          26,
          27,
          28,
          29,
          30,
          31,
          32,
          33,
          34,
          35,
          36,
          37,
          38,
          39,
          40,
          41,
          42,
          43,
          44,
          45,
          46,
          47,
          48,
          49,
          50,
          51,
          52,
          53,
          54,
          55,
          56,
          57,
          58,
          59,
          60,
          61,
          62,
          63,
          64,
          65,
          66,
          67,
          68,
          69,
          70,
          71,
          72,
          73,
          74,
          75,
          76,
          77,
          78,
          79,
          80,
          81,
          82,
          83,
          84,
          85,
          86,
          87,
          88,
          89,
          90,
          91,
          92,
          93,
          94,
          95,
          96,
          97,
          98,
          99,
          100,
          101,
          102,
          103,
          104,
          105,
          106,
          107,
          108,
          109,
          110,
          111,
          112,
          113,
          114,
          115,
          116,
          117,
          118
         ],
         "xaxis": "x",
         "y": [
          98,
          194,
          41,
          172,
          96,
          74,
          22,
          135,
          155,
          122,
          28,
          122,
          119,
          121,
          100,
          101,
          111,
          106,
          82,
          40,
          49,
          72,
          167,
          63,
          144,
          135,
          61,
          40,
          139,
          52,
          84,
          81,
          79,
          105,
          90,
          34,
          45,
          98,
          35,
          49,
          252,
          167,
          111,
          90,
          144,
          263,
          137,
          67,
          288,
          668,
          42,
          342,
          48,
          250,
          219,
          118,
          143,
          99,
          89,
          148,
          42,
          171,
          109,
          38,
          421,
          38,
          116,
          225,
          144,
          51,
          104,
          33,
          174,
          46,
          179,
          34,
          99,
          174,
          70,
          149,
          207,
          318,
          101,
          111,
          106,
          82,
          40,
          137,
          67,
          288,
          668,
          42,
          63,
          144,
          135,
          61,
          40,
          139,
          52,
          393,
          152,
          83,
          74,
          94,
          188,
          214,
          73,
          285,
          469,
          504,
          149,
          55,
          273,
          182,
          573,
          135,
          36,
          1095,
          653
         ],
         "yaxis": "y"
        },
        {
         "hovertemplate": "variable=Follows<br>index=%{x}<br>value=%{y}<extra></extra>",
         "legendgroup": "Follows",
         "line": {
          "color": "#00cc96",
          "dash": "solid"
         },
         "marker": {
          "symbol": "circle"
         },
         "mode": "lines",
         "name": "Follows",
         "orientation": "v",
         "showlegend": true,
         "type": "scatter",
         "x": [
          0,
          1,
          2,
          3,
          4,
          5,
          6,
          7,
          8,
          9,
          10,
          11,
          12,
          13,
          14,
          15,
          16,
          17,
          18,
          19,
          20,
          21,
          22,
          23,
          24,
          25,
          26,
          27,
          28,
          29,
          30,
          31,
          32,
          33,
          34,
          35,
          36,
          37,
          38,
          39,
          40,
          41,
          42,
          43,
          44,
          45,
          46,
          47,
          48,
          49,
          50,
          51,
          52,
          53,
          54,
          55,
          56,
          57,
          58,
          59,
          60,
          61,
          62,
          63,
          64,
          65,
          66,
          67,
          68,
          69,
          70,
          71,
          72,
          73,
          74,
          75,
          76,
          77,
          78,
          79,
          80,
          81,
          82,
          83,
          84,
          85,
          86,
          87,
          88,
          89,
          90,
          91,
          92,
          93,
          94,
          95,
          96,
          97,
          98,
          99,
          100,
          101,
          102,
          103,
          104,
          105,
          106,
          107,
          108,
          109,
          110,
          111,
          112,
          113,
          114,
          115,
          116,
          117,
          118
         ],
         "xaxis": "x",
         "y": [
          2,
          10,
          12,
          8,
          0,
          2,
          0,
          6,
          4,
          6,
          4,
          0,
          2,
          4,
          42,
          6,
          2,
          2,
          30,
          0,
          0,
          24,
          100,
          2,
          4,
          6,
          6,
          6,
          2,
          2,
          20,
          2,
          4,
          8,
          26,
          2,
          2,
          4,
          0,
          2,
          94,
          8,
          18,
          10,
          4,
          4,
          4,
          4,
          18,
          38,
          10,
          12,
          4,
          4,
          74,
          0,
          6,
          6,
          0,
          6,
          12,
          10,
          8,
          8,
          46,
          12,
          10,
          94,
          6,
          10,
          6,
          4,
          12,
          16,
          12,
          8,
          32,
          8,
          16,
          6,
          10,
          10,
          6,
          2,
          2,
          30,
          0,
          4,
          4,
          18,
          38,
          10,
          2,
          4,
          6,
          6,
          6,
          2,
          2,
          14,
          8,
          14,
          28,
          18,
          12,
          34,
          26,
          260,
          16,
          96,
          20,
          30,
          58,
          100,
          80,
          18,
          10,
          214,
          228
         ],
         "yaxis": "y"
        }
       ],
       "layout": {
        "legend": {
         "title": {
          "text": "variable"
         },
         "tracegroupgap": 0
        },
        "template": {
         "data": {
          "bar": [
           {
            "error_x": {
             "color": "#2a3f5f"
            },
            "error_y": {
             "color": "#2a3f5f"
            },
            "marker": {
             "line": {
              "color": "white",
              "width": 0.5
             },
             "pattern": {
              "fillmode": "overlay",
              "size": 10,
              "solidity": 0.2
             }
            },
            "type": "bar"
           }
          ],
          "barpolar": [
           {
            "marker": {
             "line": {
              "color": "white",
              "width": 0.5
             },
             "pattern": {
              "fillmode": "overlay",
              "size": 10,
              "solidity": 0.2
             }
            },
            "type": "barpolar"
           }
          ],
          "carpet": [
           {
            "aaxis": {
             "endlinecolor": "#2a3f5f",
             "gridcolor": "#C8D4E3",
             "linecolor": "#C8D4E3",
             "minorgridcolor": "#C8D4E3",
             "startlinecolor": "#2a3f5f"
            },
            "baxis": {
             "endlinecolor": "#2a3f5f",
             "gridcolor": "#C8D4E3",
             "linecolor": "#C8D4E3",
             "minorgridcolor": "#C8D4E3",
             "startlinecolor": "#2a3f5f"
            },
            "type": "carpet"
           }
          ],
          "choropleth": [
           {
            "colorbar": {
             "outlinewidth": 0,
             "ticks": ""
            },
            "type": "choropleth"
           }
          ],
          "contour": [
           {
            "colorbar": {
             "outlinewidth": 0,
             "ticks": ""
            },
            "colorscale": [
             [
              0,
              "#0d0887"
             ],
             [
              0.1111111111111111,
              "#46039f"
             ],
             [
              0.2222222222222222,
              "#7201a8"
             ],
             [
              0.3333333333333333,
              "#9c179e"
             ],
             [
              0.4444444444444444,
              "#bd3786"
             ],
             [
              0.5555555555555556,
              "#d8576b"
             ],
             [
              0.6666666666666666,
              "#ed7953"
             ],
             [
              0.7777777777777778,
              "#fb9f3a"
             ],
             [
              0.8888888888888888,
              "#fdca26"
             ],
             [
              1,
              "#f0f921"
             ]
            ],
            "type": "contour"
           }
          ],
          "contourcarpet": [
           {
            "colorbar": {
             "outlinewidth": 0,
             "ticks": ""
            },
            "type": "contourcarpet"
           }
          ],
          "heatmap": [
           {
            "colorbar": {
             "outlinewidth": 0,
             "ticks": ""
            },
            "colorscale": [
             [
              0,
              "#0d0887"
             ],
             [
              0.1111111111111111,
              "#46039f"
             ],
             [
              0.2222222222222222,
              "#7201a8"
             ],
             [
              0.3333333333333333,
              "#9c179e"
             ],
             [
              0.4444444444444444,
              "#bd3786"
             ],
             [
              0.5555555555555556,
              "#d8576b"
             ],
             [
              0.6666666666666666,
              "#ed7953"
             ],
             [
              0.7777777777777778,
              "#fb9f3a"
             ],
             [
              0.8888888888888888,
              "#fdca26"
             ],
             [
              1,
              "#f0f921"
             ]
            ],
            "type": "heatmap"
           }
          ],
          "heatmapgl": [
           {
            "colorbar": {
             "outlinewidth": 0,
             "ticks": ""
            },
            "colorscale": [
             [
              0,
              "#0d0887"
             ],
             [
              0.1111111111111111,
              "#46039f"
             ],
             [
              0.2222222222222222,
              "#7201a8"
             ],
             [
              0.3333333333333333,
              "#9c179e"
             ],
             [
              0.4444444444444444,
              "#bd3786"
             ],
             [
              0.5555555555555556,
              "#d8576b"
             ],
             [
              0.6666666666666666,
              "#ed7953"
             ],
             [
              0.7777777777777778,
              "#fb9f3a"
             ],
             [
              0.8888888888888888,
              "#fdca26"
             ],
             [
              1,
              "#f0f921"
             ]
            ],
            "type": "heatmapgl"
           }
          ],
          "histogram": [
           {
            "marker": {
             "pattern": {
              "fillmode": "overlay",
              "size": 10,
              "solidity": 0.2
             }
            },
            "type": "histogram"
           }
          ],
          "histogram2d": [
           {
            "colorbar": {
             "outlinewidth": 0,
             "ticks": ""
            },
            "colorscale": [
             [
              0,
              "#0d0887"
             ],
             [
              0.1111111111111111,
              "#46039f"
             ],
             [
              0.2222222222222222,
              "#7201a8"
             ],
             [
              0.3333333333333333,
              "#9c179e"
             ],
             [
              0.4444444444444444,
              "#bd3786"
             ],
             [
              0.5555555555555556,
              "#d8576b"
             ],
             [
              0.6666666666666666,
              "#ed7953"
             ],
             [
              0.7777777777777778,
              "#fb9f3a"
             ],
             [
              0.8888888888888888,
              "#fdca26"
             ],
             [
              1,
              "#f0f921"
             ]
            ],
            "type": "histogram2d"
           }
          ],
          "histogram2dcontour": [
           {
            "colorbar": {
             "outlinewidth": 0,
             "ticks": ""
            },
            "colorscale": [
             [
              0,
              "#0d0887"
             ],
             [
              0.1111111111111111,
              "#46039f"
             ],
             [
              0.2222222222222222,
              "#7201a8"
             ],
             [
              0.3333333333333333,
              "#9c179e"
             ],
             [
              0.4444444444444444,
              "#bd3786"
             ],
             [
              0.5555555555555556,
              "#d8576b"
             ],
             [
              0.6666666666666666,
              "#ed7953"
             ],
             [
              0.7777777777777778,
              "#fb9f3a"
             ],
             [
              0.8888888888888888,
              "#fdca26"
             ],
             [
              1,
              "#f0f921"
             ]
            ],
            "type": "histogram2dcontour"
           }
          ],
          "mesh3d": [
           {
            "colorbar": {
             "outlinewidth": 0,
             "ticks": ""
            },
            "type": "mesh3d"
           }
          ],
          "parcoords": [
           {
            "line": {
             "colorbar": {
              "outlinewidth": 0,
              "ticks": ""
             }
            },
            "type": "parcoords"
           }
          ],
          "pie": [
           {
            "automargin": true,
            "type": "pie"
           }
          ],
          "scatter": [
           {
            "fillpattern": {
             "fillmode": "overlay",
             "size": 10,
             "solidity": 0.2
            },
            "type": "scatter"
           }
          ],
          "scatter3d": [
           {
            "line": {
             "colorbar": {
              "outlinewidth": 0,
              "ticks": ""
             }
            },
            "marker": {
             "colorbar": {
              "outlinewidth": 0,
              "ticks": ""
             }
            },
            "type": "scatter3d"
           }
          ],
          "scattercarpet": [
           {
            "marker": {
             "colorbar": {
              "outlinewidth": 0,
              "ticks": ""
             }
            },
            "type": "scattercarpet"
           }
          ],
          "scattergeo": [
           {
            "marker": {
             "colorbar": {
              "outlinewidth": 0,
              "ticks": ""
             }
            },
            "type": "scattergeo"
           }
          ],
          "scattergl": [
           {
            "marker": {
             "colorbar": {
              "outlinewidth": 0,
              "ticks": ""
             }
            },
            "type": "scattergl"
           }
          ],
          "scattermapbox": [
           {
            "marker": {
             "colorbar": {
              "outlinewidth": 0,
              "ticks": ""
             }
            },
            "type": "scattermapbox"
           }
          ],
          "scatterpolar": [
           {
            "marker": {
             "colorbar": {
              "outlinewidth": 0,
              "ticks": ""
             }
            },
            "type": "scatterpolar"
           }
          ],
          "scatterpolargl": [
           {
            "marker": {
             "colorbar": {
              "outlinewidth": 0,
              "ticks": ""
             }
            },
            "type": "scatterpolargl"
           }
          ],
          "scatterternary": [
           {
            "marker": {
             "colorbar": {
              "outlinewidth": 0,
              "ticks": ""
             }
            },
            "type": "scatterternary"
           }
          ],
          "surface": [
           {
            "colorbar": {
             "outlinewidth": 0,
             "ticks": ""
            },
            "colorscale": [
             [
              0,
              "#0d0887"
             ],
             [
              0.1111111111111111,
              "#46039f"
             ],
             [
              0.2222222222222222,
              "#7201a8"
             ],
             [
              0.3333333333333333,
              "#9c179e"
             ],
             [
              0.4444444444444444,
              "#bd3786"
             ],
             [
              0.5555555555555556,
              "#d8576b"
             ],
             [
              0.6666666666666666,
              "#ed7953"
             ],
             [
              0.7777777777777778,
              "#fb9f3a"
             ],
             [
              0.8888888888888888,
              "#fdca26"
             ],
             [
              1,
              "#f0f921"
             ]
            ],
            "type": "surface"
           }
          ],
          "table": [
           {
            "cells": {
             "fill": {
              "color": "#EBF0F8"
             },
             "line": {
              "color": "white"
             }
            },
            "header": {
             "fill": {
              "color": "#C8D4E3"
             },
             "line": {
              "color": "white"
             }
            },
            "type": "table"
           }
          ]
         },
         "layout": {
          "annotationdefaults": {
           "arrowcolor": "#2a3f5f",
           "arrowhead": 0,
           "arrowwidth": 1
          },
          "autotypenumbers": "strict",
          "coloraxis": {
           "colorbar": {
            "outlinewidth": 0,
            "ticks": ""
           }
          },
          "colorscale": {
           "diverging": [
            [
             0,
             "#8e0152"
            ],
            [
             0.1,
             "#c51b7d"
            ],
            [
             0.2,
             "#de77ae"
            ],
            [
             0.3,
             "#f1b6da"
            ],
            [
             0.4,
             "#fde0ef"
            ],
            [
             0.5,
             "#f7f7f7"
            ],
            [
             0.6,
             "#e6f5d0"
            ],
            [
             0.7,
             "#b8e186"
            ],
            [
             0.8,
             "#7fbc41"
            ],
            [
             0.9,
             "#4d9221"
            ],
            [
             1,
             "#276419"
            ]
           ],
           "sequential": [
            [
             0,
             "#0d0887"
            ],
            [
             0.1111111111111111,
             "#46039f"
            ],
            [
             0.2222222222222222,
             "#7201a8"
            ],
            [
             0.3333333333333333,
             "#9c179e"
            ],
            [
             0.4444444444444444,
             "#bd3786"
            ],
            [
             0.5555555555555556,
             "#d8576b"
            ],
            [
             0.6666666666666666,
             "#ed7953"
            ],
            [
             0.7777777777777778,
             "#fb9f3a"
            ],
            [
             0.8888888888888888,
             "#fdca26"
            ],
            [
             1,
             "#f0f921"
            ]
           ],
           "sequentialminus": [
            [
             0,
             "#0d0887"
            ],
            [
             0.1111111111111111,
             "#46039f"
            ],
            [
             0.2222222222222222,
             "#7201a8"
            ],
            [
             0.3333333333333333,
             "#9c179e"
            ],
            [
             0.4444444444444444,
             "#bd3786"
            ],
            [
             0.5555555555555556,
             "#d8576b"
            ],
            [
             0.6666666666666666,
             "#ed7953"
            ],
            [
             0.7777777777777778,
             "#fb9f3a"
            ],
            [
             0.8888888888888888,
             "#fdca26"
            ],
            [
             1,
             "#f0f921"
            ]
           ]
          },
          "colorway": [
           "#636efa",
           "#EF553B",
           "#00cc96",
           "#ab63fa",
           "#FFA15A",
           "#19d3f3",
           "#FF6692",
           "#B6E880",
           "#FF97FF",
           "#FECB52"
          ],
          "font": {
           "color": "#2a3f5f"
          },
          "geo": {
           "bgcolor": "white",
           "lakecolor": "white",
           "landcolor": "white",
           "showlakes": true,
           "showland": true,
           "subunitcolor": "#C8D4E3"
          },
          "hoverlabel": {
           "align": "left"
          },
          "hovermode": "closest",
          "mapbox": {
           "style": "light"
          },
          "paper_bgcolor": "white",
          "plot_bgcolor": "white",
          "polar": {
           "angularaxis": {
            "gridcolor": "#EBF0F8",
            "linecolor": "#EBF0F8",
            "ticks": ""
           },
           "bgcolor": "white",
           "radialaxis": {
            "gridcolor": "#EBF0F8",
            "linecolor": "#EBF0F8",
            "ticks": ""
           }
          },
          "scene": {
           "xaxis": {
            "backgroundcolor": "white",
            "gridcolor": "#DFE8F3",
            "gridwidth": 2,
            "linecolor": "#EBF0F8",
            "showbackground": true,
            "ticks": "",
            "zerolinecolor": "#EBF0F8"
           },
           "yaxis": {
            "backgroundcolor": "white",
            "gridcolor": "#DFE8F3",
            "gridwidth": 2,
            "linecolor": "#EBF0F8",
            "showbackground": true,
            "ticks": "",
            "zerolinecolor": "#EBF0F8"
           },
           "zaxis": {
            "backgroundcolor": "white",
            "gridcolor": "#DFE8F3",
            "gridwidth": 2,
            "linecolor": "#EBF0F8",
            "showbackground": true,
            "ticks": "",
            "zerolinecolor": "#EBF0F8"
           }
          },
          "shapedefaults": {
           "line": {
            "color": "#2a3f5f"
           }
          },
          "ternary": {
           "aaxis": {
            "gridcolor": "#DFE8F3",
            "linecolor": "#A2B1C6",
            "ticks": ""
           },
           "baxis": {
            "gridcolor": "#DFE8F3",
            "linecolor": "#A2B1C6",
            "ticks": ""
           },
           "bgcolor": "white",
           "caxis": {
            "gridcolor": "#DFE8F3",
            "linecolor": "#A2B1C6",
            "ticks": ""
           }
          },
          "title": {
           "x": 0.05
          },
          "xaxis": {
           "automargin": true,
           "gridcolor": "#EBF0F8",
           "linecolor": "#EBF0F8",
           "ticks": "",
           "title": {
            "standoff": 15
           },
           "zerolinecolor": "#EBF0F8",
           "zerolinewidth": 2
          },
          "yaxis": {
           "automargin": true,
           "gridcolor": "#EBF0F8",
           "linecolor": "#EBF0F8",
           "ticks": "",
           "title": {
            "standoff": 15
           },
           "zerolinecolor": "#EBF0F8",
           "zerolinewidth": 2
          }
         }
        },
        "title": {
         "text": "Metrices Over Time"
        },
        "xaxis": {
         "anchor": "y",
         "domain": [
          0,
          1
         ],
         "title": {
          "text": "Date"
         }
        },
        "yaxis": {
         "anchor": "x",
         "domain": [
          0,
          1
         ],
         "title": {
          "text": "Count"
         }
        }
       }
      }
     },
     "metadata": {},
     "output_type": "display_data"
    }
   ],
   "source": [
    "#Looking at all metrices like Likes, Saves and Follows\n",
    "\n",
    "fig = px.line(data_frame=df, y=[\"Likes\", \"Saves\", \"Follows\"], title=\"Metrices Over Time\")\n",
    "fig.update_layout(\n",
    "    xaxis_title = \"Date\",\n",
    "    yaxis_title = 'Count'\n",
    ")\n",
    "\n",
    "fig.show()"
   ]
  },
  {
   "cell_type": "code",
   "execution_count": 57,
   "metadata": {},
   "outputs": [
    {
     "data": {
      "application/vnd.plotly.v1+json": {
       "config": {
        "plotlyServerURL": "https://plot.ly"
       },
       "data": [
        {
         "domain": {
          "x": [
           0,
           1
          ],
          "y": [
           0,
           1
          ]
         },
         "hovertemplate": "category=%{label}<br>value=%{value}<extra></extra>",
         "labels": [
          "From Home",
          "From Home",
          "From Home",
          "From Home",
          "From Home",
          "From Home",
          "From Home",
          "From Home",
          "From Home",
          "From Home",
          "From Home",
          "From Home",
          "From Home",
          "From Home",
          "From Home",
          "From Home",
          "From Home",
          "From Home",
          "From Home",
          "From Home",
          "From Home",
          "From Home",
          "From Home",
          "From Home",
          "From Home",
          "From Home",
          "From Home",
          "From Home",
          "From Home",
          "From Home",
          "From Home",
          "From Home",
          "From Home",
          "From Home",
          "From Home",
          "From Home",
          "From Home",
          "From Home",
          "From Home",
          "From Home",
          "From Home",
          "From Home",
          "From Home",
          "From Home",
          "From Home",
          "From Home",
          "From Home",
          "From Home",
          "From Home",
          "From Home",
          "From Home",
          "From Home",
          "From Home",
          "From Home",
          "From Home",
          "From Home",
          "From Home",
          "From Home",
          "From Home",
          "From Home",
          "From Home",
          "From Home",
          "From Home",
          "From Home",
          "From Home",
          "From Home",
          "From Home",
          "From Home",
          "From Home",
          "From Home",
          "From Home",
          "From Home",
          "From Home",
          "From Home",
          "From Home",
          "From Home",
          "From Home",
          "From Home",
          "From Home",
          "From Home",
          "From Home",
          "From Home",
          "From Home",
          "From Home",
          "From Home",
          "From Home",
          "From Home",
          "From Home",
          "From Home",
          "From Home",
          "From Home",
          "From Home",
          "From Home",
          "From Home",
          "From Home",
          "From Home",
          "From Home",
          "From Home",
          "From Home",
          "From Home",
          "From Home",
          "From Home",
          "From Home",
          "From Home",
          "From Home",
          "From Home",
          "From Home",
          "From Home",
          "From Home",
          "From Home",
          "From Home",
          "From Home",
          "From Home",
          "From Home",
          "From Home",
          "From Home",
          "From Home",
          "From Home",
          "From Home",
          "From Hashtags",
          "From Hashtags",
          "From Hashtags",
          "From Hashtags",
          "From Hashtags",
          "From Hashtags",
          "From Hashtags",
          "From Hashtags",
          "From Hashtags",
          "From Hashtags",
          "From Hashtags",
          "From Hashtags",
          "From Hashtags",
          "From Hashtags",
          "From Hashtags",
          "From Hashtags",
          "From Hashtags",
          "From Hashtags",
          "From Hashtags",
          "From Hashtags",
          "From Hashtags",
          "From Hashtags",
          "From Hashtags",
          "From Hashtags",
          "From Hashtags",
          "From Hashtags",
          "From Hashtags",
          "From Hashtags",
          "From Hashtags",
          "From Hashtags",
          "From Hashtags",
          "From Hashtags",
          "From Hashtags",
          "From Hashtags",
          "From Hashtags",
          "From Hashtags",
          "From Hashtags",
          "From Hashtags",
          "From Hashtags",
          "From Hashtags",
          "From Hashtags",
          "From Hashtags",
          "From Hashtags",
          "From Hashtags",
          "From Hashtags",
          "From Hashtags",
          "From Hashtags",
          "From Hashtags",
          "From Hashtags",
          "From Hashtags",
          "From Hashtags",
          "From Hashtags",
          "From Hashtags",
          "From Hashtags",
          "From Hashtags",
          "From Hashtags",
          "From Hashtags",
          "From Hashtags",
          "From Hashtags",
          "From Hashtags",
          "From Hashtags",
          "From Hashtags",
          "From Hashtags",
          "From Hashtags",
          "From Hashtags",
          "From Hashtags",
          "From Hashtags",
          "From Hashtags",
          "From Hashtags",
          "From Hashtags",
          "From Hashtags",
          "From Hashtags",
          "From Hashtags",
          "From Hashtags",
          "From Hashtags",
          "From Hashtags",
          "From Hashtags",
          "From Hashtags",
          "From Hashtags",
          "From Hashtags",
          "From Hashtags",
          "From Hashtags",
          "From Hashtags",
          "From Hashtags",
          "From Hashtags",
          "From Hashtags",
          "From Hashtags",
          "From Hashtags",
          "From Hashtags",
          "From Hashtags",
          "From Hashtags",
          "From Hashtags",
          "From Hashtags",
          "From Hashtags",
          "From Hashtags",
          "From Hashtags",
          "From Hashtags",
          "From Hashtags",
          "From Hashtags",
          "From Hashtags",
          "From Hashtags",
          "From Hashtags",
          "From Hashtags",
          "From Hashtags",
          "From Hashtags",
          "From Hashtags",
          "From Hashtags",
          "From Hashtags",
          "From Hashtags",
          "From Hashtags",
          "From Hashtags",
          "From Hashtags",
          "From Hashtags",
          "From Hashtags",
          "From Hashtags",
          "From Hashtags",
          "From Hashtags",
          "From Hashtags",
          "From Hashtags",
          "From Explore",
          "From Explore",
          "From Explore",
          "From Explore",
          "From Explore",
          "From Explore",
          "From Explore",
          "From Explore",
          "From Explore",
          "From Explore",
          "From Explore",
          "From Explore",
          "From Explore",
          "From Explore",
          "From Explore",
          "From Explore",
          "From Explore",
          "From Explore",
          "From Explore",
          "From Explore",
          "From Explore",
          "From Explore",
          "From Explore",
          "From Explore",
          "From Explore",
          "From Explore",
          "From Explore",
          "From Explore",
          "From Explore",
          "From Explore",
          "From Explore",
          "From Explore",
          "From Explore",
          "From Explore",
          "From Explore",
          "From Explore",
          "From Explore",
          "From Explore",
          "From Explore",
          "From Explore",
          "From Explore",
          "From Explore",
          "From Explore",
          "From Explore",
          "From Explore",
          "From Explore",
          "From Explore",
          "From Explore",
          "From Explore",
          "From Explore",
          "From Explore",
          "From Explore",
          "From Explore",
          "From Explore",
          "From Explore",
          "From Explore",
          "From Explore",
          "From Explore",
          "From Explore",
          "From Explore",
          "From Explore",
          "From Explore",
          "From Explore",
          "From Explore",
          "From Explore",
          "From Explore",
          "From Explore",
          "From Explore",
          "From Explore",
          "From Explore",
          "From Explore",
          "From Explore",
          "From Explore",
          "From Explore",
          "From Explore",
          "From Explore",
          "From Explore",
          "From Explore",
          "From Explore",
          "From Explore",
          "From Explore",
          "From Explore",
          "From Explore",
          "From Explore",
          "From Explore",
          "From Explore",
          "From Explore",
          "From Explore",
          "From Explore",
          "From Explore",
          "From Explore",
          "From Explore",
          "From Explore",
          "From Explore",
          "From Explore",
          "From Explore",
          "From Explore",
          "From Explore",
          "From Explore",
          "From Explore",
          "From Explore",
          "From Explore",
          "From Explore",
          "From Explore",
          "From Explore",
          "From Explore",
          "From Explore",
          "From Explore",
          "From Explore",
          "From Explore",
          "From Explore",
          "From Explore",
          "From Explore",
          "From Explore",
          "From Explore",
          "From Explore",
          "From Explore",
          "From Explore",
          "From Explore",
          "From Other",
          "From Other",
          "From Other",
          "From Other",
          "From Other",
          "From Other",
          "From Other",
          "From Other",
          "From Other",
          "From Other",
          "From Other",
          "From Other",
          "From Other",
          "From Other",
          "From Other",
          "From Other",
          "From Other",
          "From Other",
          "From Other",
          "From Other",
          "From Other",
          "From Other",
          "From Other",
          "From Other",
          "From Other",
          "From Other",
          "From Other",
          "From Other",
          "From Other",
          "From Other",
          "From Other",
          "From Other",
          "From Other",
          "From Other",
          "From Other",
          "From Other",
          "From Other",
          "From Other",
          "From Other",
          "From Other",
          "From Other",
          "From Other",
          "From Other",
          "From Other",
          "From Other",
          "From Other",
          "From Other",
          "From Other",
          "From Other",
          "From Other",
          "From Other",
          "From Other",
          "From Other",
          "From Other",
          "From Other",
          "From Other",
          "From Other",
          "From Other",
          "From Other",
          "From Other",
          "From Other",
          "From Other",
          "From Other",
          "From Other",
          "From Other",
          "From Other",
          "From Other",
          "From Other",
          "From Other",
          "From Other",
          "From Other",
          "From Other",
          "From Other",
          "From Other",
          "From Other",
          "From Other",
          "From Other",
          "From Other",
          "From Other",
          "From Other",
          "From Other",
          "From Other",
          "From Other",
          "From Other",
          "From Other",
          "From Other",
          "From Other",
          "From Other",
          "From Other",
          "From Other",
          "From Other",
          "From Other",
          "From Other",
          "From Other",
          "From Other",
          "From Other",
          "From Other",
          "From Other",
          "From Other",
          "From Other",
          "From Other",
          "From Other",
          "From Other",
          "From Other",
          "From Other",
          "From Other",
          "From Other",
          "From Other",
          "From Other",
          "From Other",
          "From Other",
          "From Other",
          "From Other",
          "From Other",
          "From Other",
          "From Other",
          "From Other",
          "From Other",
          "From Other"
         ],
         "legendgroup": "",
         "name": "",
         "showlegend": true,
         "type": "pie",
         "values": [
          2586,
          2727,
          2085,
          2700,
          1704,
          2046,
          1543,
          2071,
          2384,
          2609,
          1597,
          2414,
          2168,
          2524,
          2525,
          2017,
          3401,
          1979,
          2177,
          1338,
          1304,
          2415,
          3065,
          2608,
          2406,
          2195,
          2275,
          2541,
          2244,
          2034,
          1977,
          1975,
          2879,
          2278,
          2679,
          1659,
          1774,
          2123,
          1308,
          1466,
          3144,
          2331,
          2746,
          2207,
          2632,
          3050,
          1747,
          2108,
          2782,
          4137,
          1945,
          2569,
          1716,
          2812,
          3152,
          2415,
          2125,
          1975,
          1910,
          2508,
          1780,
          2190,
          1711,
          1663,
          3717,
          1502,
          2357,
          3152,
          2125,
          1570,
          1975,
          1323,
          2509,
          1782,
          2225,
          1179,
          2106,
          2454,
          1926,
          2597,
          2252,
          2673,
          2017,
          3401,
          1979,
          2177,
          1338,
          1747,
          2108,
          2782,
          4137,
          1945,
          2608,
          2406,
          2195,
          2275,
          2541,
          2244,
          2034,
          2643,
          2000,
          2261,
          1807,
          2032,
          2517,
          2099,
          1855,
          1817,
          2816,
          2449,
          3813,
          1658,
          4439,
          2371,
          5185,
          1923,
          1133,
          11815,
          13473,
          1028,
          1838,
          1188,
          621,
          255,
          1214,
          599,
          628,
          857,
          1104,
          411,
          476,
          1274,
          212,
          5799,
          2351,
          278,
          707,
          3450,
          655,
          362,
          745,
          1254,
          201,
          1260,
          1248,
          2975,
          116,
          1278,
          771,
          4604,
          1721,
          139,
          1460,
          2803,
          796,
          435,
          1482,
          809,
          411,
          11817,
          2195,
          869,
          1109,
          616,
          969,
          1693,
          583,
          1938,
          3551,
          794,
          4221,
          1058,
          2974,
          6564,
          802,
          2249,
          1018,
          1880,
          166,
          3090,
          4036,
          2429,
          1284,
          841,
          1423,
          442,
          6610,
          2250,
          1518,
          1019,
          1699,
          183,
          3212,
          4041,
          1527,
          7761,
          1590,
          349,
          2376,
          1674,
          2003,
          2351,
          278,
          707,
          3450,
          655,
          1693,
          583,
          1938,
          3551,
          794,
          201,
          1260,
          1248,
          2975,
          116,
          1278,
          771,
          2006,
          2053,
          5055,
          1085,
          911,
          2660,
          2986,
          4156,
          10008,
          2769,
          2141,
          362,
          694,
          747,
          1624,
          3041,
          1368,
          1538,
          3147,
          4176,
          619,
          1174,
          0,
          932,
          279,
          329,
          333,
          500,
          248,
          178,
          162,
          185,
          673,
          201,
          208,
          298,
          128,
          341,
          153,
          276,
          249,
          676,
          2081,
          121,
          861,
          541,
          45,
          51,
          326,
          115,
          48,
          60,
          1239,
          521,
          562,
          29,
          59,
          332,
          45,
          37,
          564,
          318,
          589,
          199,
          468,
          181,
          72,
          76,
          2237,
          2355,
          84,
          796,
          84,
          468,
          617,
          545,
          354,
          244,
          492,
          360,
          69,
          48,
          36,
          166,
          1716,
          182,
          250,
          623,
          362,
          174,
          245,
          182,
          446,
          213,
          158,
          157,
          248,
          192,
          217,
          412,
          360,
          433,
          298,
          128,
          341,
          153,
          276,
          72,
          76,
          2237,
          2355,
          84,
          121,
          861,
          541,
          45,
          51,
          326,
          115,
          1068,
          988,
          300,
          463,
          857,
          737,
          5634,
          703,
          5192,
          900,
          12389,
          1135,
          2036,
          5762,
          6000,
          5352,
          2266,
          1367,
          17414,
          16444,
          56,
          78,
          533,
          73,
          37,
          43,
          25,
          60,
          49,
          46,
          15,
          75,
          40,
          223,
          794,
          108,
          73,
          32,
          296,
          39,
          37,
          18,
          748,
          87,
          26,
          36,
          65,
          9,
          34,
          41,
          23,
          43,
          32,
          27,
          26,
          21,
          35,
          36,
          18,
          17,
          468,
          75,
          24,
          317,
          25,
          64,
          86,
          34,
          226,
          205,
          139,
          83,
          48,
          72,
          187,
          64,
          99,
          44,
          60,
          139,
          76,
          27,
          50,
          234,
          1115,
          148,
          536,
          334,
          111,
          167,
          72,
          292,
          300,
          168,
          72,
          655,
          238,
          69,
          369,
          63,
          308,
          114,
          108,
          73,
          32,
          296,
          39,
          86,
          34,
          226,
          205,
          139,
          87,
          26,
          36,
          65,
          9,
          34,
          41,
          230,
          74,
          172,
          792,
          532,
          154,
          122,
          309,
          251,
          128,
          561,
          76,
          310,
          53,
          117,
          77,
          65,
          33,
          170,
          2547
         ]
        }
       ],
       "layout": {
        "legend": {
         "tracegroupgap": 0
        },
        "template": {
         "data": {
          "bar": [
           {
            "error_x": {
             "color": "#2a3f5f"
            },
            "error_y": {
             "color": "#2a3f5f"
            },
            "marker": {
             "line": {
              "color": "white",
              "width": 0.5
             },
             "pattern": {
              "fillmode": "overlay",
              "size": 10,
              "solidity": 0.2
             }
            },
            "type": "bar"
           }
          ],
          "barpolar": [
           {
            "marker": {
             "line": {
              "color": "white",
              "width": 0.5
             },
             "pattern": {
              "fillmode": "overlay",
              "size": 10,
              "solidity": 0.2
             }
            },
            "type": "barpolar"
           }
          ],
          "carpet": [
           {
            "aaxis": {
             "endlinecolor": "#2a3f5f",
             "gridcolor": "#C8D4E3",
             "linecolor": "#C8D4E3",
             "minorgridcolor": "#C8D4E3",
             "startlinecolor": "#2a3f5f"
            },
            "baxis": {
             "endlinecolor": "#2a3f5f",
             "gridcolor": "#C8D4E3",
             "linecolor": "#C8D4E3",
             "minorgridcolor": "#C8D4E3",
             "startlinecolor": "#2a3f5f"
            },
            "type": "carpet"
           }
          ],
          "choropleth": [
           {
            "colorbar": {
             "outlinewidth": 0,
             "ticks": ""
            },
            "type": "choropleth"
           }
          ],
          "contour": [
           {
            "colorbar": {
             "outlinewidth": 0,
             "ticks": ""
            },
            "colorscale": [
             [
              0,
              "#0d0887"
             ],
             [
              0.1111111111111111,
              "#46039f"
             ],
             [
              0.2222222222222222,
              "#7201a8"
             ],
             [
              0.3333333333333333,
              "#9c179e"
             ],
             [
              0.4444444444444444,
              "#bd3786"
             ],
             [
              0.5555555555555556,
              "#d8576b"
             ],
             [
              0.6666666666666666,
              "#ed7953"
             ],
             [
              0.7777777777777778,
              "#fb9f3a"
             ],
             [
              0.8888888888888888,
              "#fdca26"
             ],
             [
              1,
              "#f0f921"
             ]
            ],
            "type": "contour"
           }
          ],
          "contourcarpet": [
           {
            "colorbar": {
             "outlinewidth": 0,
             "ticks": ""
            },
            "type": "contourcarpet"
           }
          ],
          "heatmap": [
           {
            "colorbar": {
             "outlinewidth": 0,
             "ticks": ""
            },
            "colorscale": [
             [
              0,
              "#0d0887"
             ],
             [
              0.1111111111111111,
              "#46039f"
             ],
             [
              0.2222222222222222,
              "#7201a8"
             ],
             [
              0.3333333333333333,
              "#9c179e"
             ],
             [
              0.4444444444444444,
              "#bd3786"
             ],
             [
              0.5555555555555556,
              "#d8576b"
             ],
             [
              0.6666666666666666,
              "#ed7953"
             ],
             [
              0.7777777777777778,
              "#fb9f3a"
             ],
             [
              0.8888888888888888,
              "#fdca26"
             ],
             [
              1,
              "#f0f921"
             ]
            ],
            "type": "heatmap"
           }
          ],
          "heatmapgl": [
           {
            "colorbar": {
             "outlinewidth": 0,
             "ticks": ""
            },
            "colorscale": [
             [
              0,
              "#0d0887"
             ],
             [
              0.1111111111111111,
              "#46039f"
             ],
             [
              0.2222222222222222,
              "#7201a8"
             ],
             [
              0.3333333333333333,
              "#9c179e"
             ],
             [
              0.4444444444444444,
              "#bd3786"
             ],
             [
              0.5555555555555556,
              "#d8576b"
             ],
             [
              0.6666666666666666,
              "#ed7953"
             ],
             [
              0.7777777777777778,
              "#fb9f3a"
             ],
             [
              0.8888888888888888,
              "#fdca26"
             ],
             [
              1,
              "#f0f921"
             ]
            ],
            "type": "heatmapgl"
           }
          ],
          "histogram": [
           {
            "marker": {
             "pattern": {
              "fillmode": "overlay",
              "size": 10,
              "solidity": 0.2
             }
            },
            "type": "histogram"
           }
          ],
          "histogram2d": [
           {
            "colorbar": {
             "outlinewidth": 0,
             "ticks": ""
            },
            "colorscale": [
             [
              0,
              "#0d0887"
             ],
             [
              0.1111111111111111,
              "#46039f"
             ],
             [
              0.2222222222222222,
              "#7201a8"
             ],
             [
              0.3333333333333333,
              "#9c179e"
             ],
             [
              0.4444444444444444,
              "#bd3786"
             ],
             [
              0.5555555555555556,
              "#d8576b"
             ],
             [
              0.6666666666666666,
              "#ed7953"
             ],
             [
              0.7777777777777778,
              "#fb9f3a"
             ],
             [
              0.8888888888888888,
              "#fdca26"
             ],
             [
              1,
              "#f0f921"
             ]
            ],
            "type": "histogram2d"
           }
          ],
          "histogram2dcontour": [
           {
            "colorbar": {
             "outlinewidth": 0,
             "ticks": ""
            },
            "colorscale": [
             [
              0,
              "#0d0887"
             ],
             [
              0.1111111111111111,
              "#46039f"
             ],
             [
              0.2222222222222222,
              "#7201a8"
             ],
             [
              0.3333333333333333,
              "#9c179e"
             ],
             [
              0.4444444444444444,
              "#bd3786"
             ],
             [
              0.5555555555555556,
              "#d8576b"
             ],
             [
              0.6666666666666666,
              "#ed7953"
             ],
             [
              0.7777777777777778,
              "#fb9f3a"
             ],
             [
              0.8888888888888888,
              "#fdca26"
             ],
             [
              1,
              "#f0f921"
             ]
            ],
            "type": "histogram2dcontour"
           }
          ],
          "mesh3d": [
           {
            "colorbar": {
             "outlinewidth": 0,
             "ticks": ""
            },
            "type": "mesh3d"
           }
          ],
          "parcoords": [
           {
            "line": {
             "colorbar": {
              "outlinewidth": 0,
              "ticks": ""
             }
            },
            "type": "parcoords"
           }
          ],
          "pie": [
           {
            "automargin": true,
            "type": "pie"
           }
          ],
          "scatter": [
           {
            "fillpattern": {
             "fillmode": "overlay",
             "size": 10,
             "solidity": 0.2
            },
            "type": "scatter"
           }
          ],
          "scatter3d": [
           {
            "line": {
             "colorbar": {
              "outlinewidth": 0,
              "ticks": ""
             }
            },
            "marker": {
             "colorbar": {
              "outlinewidth": 0,
              "ticks": ""
             }
            },
            "type": "scatter3d"
           }
          ],
          "scattercarpet": [
           {
            "marker": {
             "colorbar": {
              "outlinewidth": 0,
              "ticks": ""
             }
            },
            "type": "scattercarpet"
           }
          ],
          "scattergeo": [
           {
            "marker": {
             "colorbar": {
              "outlinewidth": 0,
              "ticks": ""
             }
            },
            "type": "scattergeo"
           }
          ],
          "scattergl": [
           {
            "marker": {
             "colorbar": {
              "outlinewidth": 0,
              "ticks": ""
             }
            },
            "type": "scattergl"
           }
          ],
          "scattermapbox": [
           {
            "marker": {
             "colorbar": {
              "outlinewidth": 0,
              "ticks": ""
             }
            },
            "type": "scattermapbox"
           }
          ],
          "scatterpolar": [
           {
            "marker": {
             "colorbar": {
              "outlinewidth": 0,
              "ticks": ""
             }
            },
            "type": "scatterpolar"
           }
          ],
          "scatterpolargl": [
           {
            "marker": {
             "colorbar": {
              "outlinewidth": 0,
              "ticks": ""
             }
            },
            "type": "scatterpolargl"
           }
          ],
          "scatterternary": [
           {
            "marker": {
             "colorbar": {
              "outlinewidth": 0,
              "ticks": ""
             }
            },
            "type": "scatterternary"
           }
          ],
          "surface": [
           {
            "colorbar": {
             "outlinewidth": 0,
             "ticks": ""
            },
            "colorscale": [
             [
              0,
              "#0d0887"
             ],
             [
              0.1111111111111111,
              "#46039f"
             ],
             [
              0.2222222222222222,
              "#7201a8"
             ],
             [
              0.3333333333333333,
              "#9c179e"
             ],
             [
              0.4444444444444444,
              "#bd3786"
             ],
             [
              0.5555555555555556,
              "#d8576b"
             ],
             [
              0.6666666666666666,
              "#ed7953"
             ],
             [
              0.7777777777777778,
              "#fb9f3a"
             ],
             [
              0.8888888888888888,
              "#fdca26"
             ],
             [
              1,
              "#f0f921"
             ]
            ],
            "type": "surface"
           }
          ],
          "table": [
           {
            "cells": {
             "fill": {
              "color": "#EBF0F8"
             },
             "line": {
              "color": "white"
             }
            },
            "header": {
             "fill": {
              "color": "#C8D4E3"
             },
             "line": {
              "color": "white"
             }
            },
            "type": "table"
           }
          ]
         },
         "layout": {
          "annotationdefaults": {
           "arrowcolor": "#2a3f5f",
           "arrowhead": 0,
           "arrowwidth": 1
          },
          "autotypenumbers": "strict",
          "coloraxis": {
           "colorbar": {
            "outlinewidth": 0,
            "ticks": ""
           }
          },
          "colorscale": {
           "diverging": [
            [
             0,
             "#8e0152"
            ],
            [
             0.1,
             "#c51b7d"
            ],
            [
             0.2,
             "#de77ae"
            ],
            [
             0.3,
             "#f1b6da"
            ],
            [
             0.4,
             "#fde0ef"
            ],
            [
             0.5,
             "#f7f7f7"
            ],
            [
             0.6,
             "#e6f5d0"
            ],
            [
             0.7,
             "#b8e186"
            ],
            [
             0.8,
             "#7fbc41"
            ],
            [
             0.9,
             "#4d9221"
            ],
            [
             1,
             "#276419"
            ]
           ],
           "sequential": [
            [
             0,
             "#0d0887"
            ],
            [
             0.1111111111111111,
             "#46039f"
            ],
            [
             0.2222222222222222,
             "#7201a8"
            ],
            [
             0.3333333333333333,
             "#9c179e"
            ],
            [
             0.4444444444444444,
             "#bd3786"
            ],
            [
             0.5555555555555556,
             "#d8576b"
            ],
            [
             0.6666666666666666,
             "#ed7953"
            ],
            [
             0.7777777777777778,
             "#fb9f3a"
            ],
            [
             0.8888888888888888,
             "#fdca26"
            ],
            [
             1,
             "#f0f921"
            ]
           ],
           "sequentialminus": [
            [
             0,
             "#0d0887"
            ],
            [
             0.1111111111111111,
             "#46039f"
            ],
            [
             0.2222222222222222,
             "#7201a8"
            ],
            [
             0.3333333333333333,
             "#9c179e"
            ],
            [
             0.4444444444444444,
             "#bd3786"
            ],
            [
             0.5555555555555556,
             "#d8576b"
            ],
            [
             0.6666666666666666,
             "#ed7953"
            ],
            [
             0.7777777777777778,
             "#fb9f3a"
            ],
            [
             0.8888888888888888,
             "#fdca26"
            ],
            [
             1,
             "#f0f921"
            ]
           ]
          },
          "colorway": [
           "#636efa",
           "#EF553B",
           "#00cc96",
           "#ab63fa",
           "#FFA15A",
           "#19d3f3",
           "#FF6692",
           "#B6E880",
           "#FF97FF",
           "#FECB52"
          ],
          "font": {
           "color": "#2a3f5f"
          },
          "geo": {
           "bgcolor": "white",
           "lakecolor": "white",
           "landcolor": "white",
           "showlakes": true,
           "showland": true,
           "subunitcolor": "#C8D4E3"
          },
          "hoverlabel": {
           "align": "left"
          },
          "hovermode": "closest",
          "mapbox": {
           "style": "light"
          },
          "paper_bgcolor": "white",
          "plot_bgcolor": "white",
          "polar": {
           "angularaxis": {
            "gridcolor": "#EBF0F8",
            "linecolor": "#EBF0F8",
            "ticks": ""
           },
           "bgcolor": "white",
           "radialaxis": {
            "gridcolor": "#EBF0F8",
            "linecolor": "#EBF0F8",
            "ticks": ""
           }
          },
          "scene": {
           "xaxis": {
            "backgroundcolor": "white",
            "gridcolor": "#DFE8F3",
            "gridwidth": 2,
            "linecolor": "#EBF0F8",
            "showbackground": true,
            "ticks": "",
            "zerolinecolor": "#EBF0F8"
           },
           "yaxis": {
            "backgroundcolor": "white",
            "gridcolor": "#DFE8F3",
            "gridwidth": 2,
            "linecolor": "#EBF0F8",
            "showbackground": true,
            "ticks": "",
            "zerolinecolor": "#EBF0F8"
           },
           "zaxis": {
            "backgroundcolor": "white",
            "gridcolor": "#DFE8F3",
            "gridwidth": 2,
            "linecolor": "#EBF0F8",
            "showbackground": true,
            "ticks": "",
            "zerolinecolor": "#EBF0F8"
           }
          },
          "shapedefaults": {
           "line": {
            "color": "#2a3f5f"
           }
          },
          "ternary": {
           "aaxis": {
            "gridcolor": "#DFE8F3",
            "linecolor": "#A2B1C6",
            "ticks": ""
           },
           "baxis": {
            "gridcolor": "#DFE8F3",
            "linecolor": "#A2B1C6",
            "ticks": ""
           },
           "bgcolor": "white",
           "caxis": {
            "gridcolor": "#DFE8F3",
            "linecolor": "#A2B1C6",
            "ticks": ""
           }
          },
          "title": {
           "x": 0.05
          },
          "xaxis": {
           "automargin": true,
           "gridcolor": "#EBF0F8",
           "linecolor": "#EBF0F8",
           "ticks": "",
           "title": {
            "standoff": 15
           },
           "zerolinecolor": "#EBF0F8",
           "zerolinewidth": 2
          },
          "yaxis": {
           "automargin": true,
           "gridcolor": "#EBF0F8",
           "linecolor": "#EBF0F8",
           "ticks": "",
           "title": {
            "standoff": 15
           },
           "zerolinecolor": "#EBF0F8",
           "zerolinewidth": 2
          }
         }
        },
        "title": {
         "text": "Pie Chart"
        }
       }
      }
     },
     "metadata": {},
     "output_type": "display_data"
    }
   ],
   "source": [
    "# Distribution of Reach from Different sources\n",
    "\n",
    "category_columns = ['From Home', 'From Hashtags', 'From Explore', 'From Other']\n",
    "#Melted the columns into one \n",
    "melted_df = df.melt(value_vars=category_columns, var_name='category', value_name='value')\n",
    "fig = px.pie(melted_df, names='category', values='value', title='Reach from Different Sources')\n",
    "fig.show()\n"
   ]
  },
  {
   "cell_type": "code",
   "execution_count": 58,
   "metadata": {},
   "outputs": [
    {
     "data": {
      "application/vnd.plotly.v1+json": {
       "config": {
        "plotlyServerURL": "https://plot.ly"
       },
       "data": [
        {
         "domain": {
          "x": [
           0,
           1
          ],
          "y": [
           0,
           1
          ]
         },
         "hovertemplate": "category=%{label}<br>value=%{value}<extra></extra>",
         "labels": [
          "Likes",
          "Likes",
          "Likes",
          "Likes",
          "Likes",
          "Likes",
          "Likes",
          "Likes",
          "Likes",
          "Likes",
          "Likes",
          "Likes",
          "Likes",
          "Likes",
          "Likes",
          "Likes",
          "Likes",
          "Likes",
          "Likes",
          "Likes",
          "Likes",
          "Likes",
          "Likes",
          "Likes",
          "Likes",
          "Likes",
          "Likes",
          "Likes",
          "Likes",
          "Likes",
          "Likes",
          "Likes",
          "Likes",
          "Likes",
          "Likes",
          "Likes",
          "Likes",
          "Likes",
          "Likes",
          "Likes",
          "Likes",
          "Likes",
          "Likes",
          "Likes",
          "Likes",
          "Likes",
          "Likes",
          "Likes",
          "Likes",
          "Likes",
          "Likes",
          "Likes",
          "Likes",
          "Likes",
          "Likes",
          "Likes",
          "Likes",
          "Likes",
          "Likes",
          "Likes",
          "Likes",
          "Likes",
          "Likes",
          "Likes",
          "Likes",
          "Likes",
          "Likes",
          "Likes",
          "Likes",
          "Likes",
          "Likes",
          "Likes",
          "Likes",
          "Likes",
          "Likes",
          "Likes",
          "Likes",
          "Likes",
          "Likes",
          "Likes",
          "Likes",
          "Likes",
          "Likes",
          "Likes",
          "Likes",
          "Likes",
          "Likes",
          "Likes",
          "Likes",
          "Likes",
          "Likes",
          "Likes",
          "Likes",
          "Likes",
          "Likes",
          "Likes",
          "Likes",
          "Likes",
          "Likes",
          "Likes",
          "Likes",
          "Likes",
          "Likes",
          "Likes",
          "Likes",
          "Likes",
          "Likes",
          "Likes",
          "Likes",
          "Likes",
          "Likes",
          "Likes",
          "Likes",
          "Likes",
          "Likes",
          "Likes",
          "Likes",
          "Likes",
          "Likes",
          "Saves",
          "Saves",
          "Saves",
          "Saves",
          "Saves",
          "Saves",
          "Saves",
          "Saves",
          "Saves",
          "Saves",
          "Saves",
          "Saves",
          "Saves",
          "Saves",
          "Saves",
          "Saves",
          "Saves",
          "Saves",
          "Saves",
          "Saves",
          "Saves",
          "Saves",
          "Saves",
          "Saves",
          "Saves",
          "Saves",
          "Saves",
          "Saves",
          "Saves",
          "Saves",
          "Saves",
          "Saves",
          "Saves",
          "Saves",
          "Saves",
          "Saves",
          "Saves",
          "Saves",
          "Saves",
          "Saves",
          "Saves",
          "Saves",
          "Saves",
          "Saves",
          "Saves",
          "Saves",
          "Saves",
          "Saves",
          "Saves",
          "Saves",
          "Saves",
          "Saves",
          "Saves",
          "Saves",
          "Saves",
          "Saves",
          "Saves",
          "Saves",
          "Saves",
          "Saves",
          "Saves",
          "Saves",
          "Saves",
          "Saves",
          "Saves",
          "Saves",
          "Saves",
          "Saves",
          "Saves",
          "Saves",
          "Saves",
          "Saves",
          "Saves",
          "Saves",
          "Saves",
          "Saves",
          "Saves",
          "Saves",
          "Saves",
          "Saves",
          "Saves",
          "Saves",
          "Saves",
          "Saves",
          "Saves",
          "Saves",
          "Saves",
          "Saves",
          "Saves",
          "Saves",
          "Saves",
          "Saves",
          "Saves",
          "Saves",
          "Saves",
          "Saves",
          "Saves",
          "Saves",
          "Saves",
          "Saves",
          "Saves",
          "Saves",
          "Saves",
          "Saves",
          "Saves",
          "Saves",
          "Saves",
          "Saves",
          "Saves",
          "Saves",
          "Saves",
          "Saves",
          "Saves",
          "Saves",
          "Saves",
          "Saves",
          "Saves",
          "Saves",
          "Saves",
          "Shares",
          "Shares",
          "Shares",
          "Shares",
          "Shares",
          "Shares",
          "Shares",
          "Shares",
          "Shares",
          "Shares",
          "Shares",
          "Shares",
          "Shares",
          "Shares",
          "Shares",
          "Shares",
          "Shares",
          "Shares",
          "Shares",
          "Shares",
          "Shares",
          "Shares",
          "Shares",
          "Shares",
          "Shares",
          "Shares",
          "Shares",
          "Shares",
          "Shares",
          "Shares",
          "Shares",
          "Shares",
          "Shares",
          "Shares",
          "Shares",
          "Shares",
          "Shares",
          "Shares",
          "Shares",
          "Shares",
          "Shares",
          "Shares",
          "Shares",
          "Shares",
          "Shares",
          "Shares",
          "Shares",
          "Shares",
          "Shares",
          "Shares",
          "Shares",
          "Shares",
          "Shares",
          "Shares",
          "Shares",
          "Shares",
          "Shares",
          "Shares",
          "Shares",
          "Shares",
          "Shares",
          "Shares",
          "Shares",
          "Shares",
          "Shares",
          "Shares",
          "Shares",
          "Shares",
          "Shares",
          "Shares",
          "Shares",
          "Shares",
          "Shares",
          "Shares",
          "Shares",
          "Shares",
          "Shares",
          "Shares",
          "Shares",
          "Shares",
          "Shares",
          "Shares",
          "Shares",
          "Shares",
          "Shares",
          "Shares",
          "Shares",
          "Shares",
          "Shares",
          "Shares",
          "Shares",
          "Shares",
          "Shares",
          "Shares",
          "Shares",
          "Shares",
          "Shares",
          "Shares",
          "Shares",
          "Shares",
          "Shares",
          "Shares",
          "Shares",
          "Shares",
          "Shares",
          "Shares",
          "Shares",
          "Shares",
          "Shares",
          "Shares",
          "Shares",
          "Shares",
          "Shares",
          "Shares",
          "Shares",
          "Shares",
          "Shares",
          "Shares",
          "Shares",
          "Comments",
          "Comments",
          "Comments",
          "Comments",
          "Comments",
          "Comments",
          "Comments",
          "Comments",
          "Comments",
          "Comments",
          "Comments",
          "Comments",
          "Comments",
          "Comments",
          "Comments",
          "Comments",
          "Comments",
          "Comments",
          "Comments",
          "Comments",
          "Comments",
          "Comments",
          "Comments",
          "Comments",
          "Comments",
          "Comments",
          "Comments",
          "Comments",
          "Comments",
          "Comments",
          "Comments",
          "Comments",
          "Comments",
          "Comments",
          "Comments",
          "Comments",
          "Comments",
          "Comments",
          "Comments",
          "Comments",
          "Comments",
          "Comments",
          "Comments",
          "Comments",
          "Comments",
          "Comments",
          "Comments",
          "Comments",
          "Comments",
          "Comments",
          "Comments",
          "Comments",
          "Comments",
          "Comments",
          "Comments",
          "Comments",
          "Comments",
          "Comments",
          "Comments",
          "Comments",
          "Comments",
          "Comments",
          "Comments",
          "Comments",
          "Comments",
          "Comments",
          "Comments",
          "Comments",
          "Comments",
          "Comments",
          "Comments",
          "Comments",
          "Comments",
          "Comments",
          "Comments",
          "Comments",
          "Comments",
          "Comments",
          "Comments",
          "Comments",
          "Comments",
          "Comments",
          "Comments",
          "Comments",
          "Comments",
          "Comments",
          "Comments",
          "Comments",
          "Comments",
          "Comments",
          "Comments",
          "Comments",
          "Comments",
          "Comments",
          "Comments",
          "Comments",
          "Comments",
          "Comments",
          "Comments",
          "Comments",
          "Comments",
          "Comments",
          "Comments",
          "Comments",
          "Comments",
          "Comments",
          "Comments",
          "Comments",
          "Comments",
          "Comments",
          "Comments",
          "Comments",
          "Comments",
          "Comments",
          "Comments",
          "Comments",
          "Comments",
          "Comments",
          "Comments"
         ],
         "legendgroup": "",
         "name": "",
         "showlegend": true,
         "type": "pie",
         "values": [
          162,
          224,
          131,
          213,
          123,
          144,
          76,
          124,
          159,
          191,
          81,
          151,
          162,
          142,
          294,
          159,
          205,
          121,
          151,
          72,
          76,
          91,
          195,
          129,
          160,
          175,
          147,
          114,
          151,
          92,
          214,
          150,
          122,
          152,
          196,
          86,
          85,
          156,
          72,
          82,
          416,
          180,
          150,
          127,
          167,
          225,
          137,
          114,
          263,
          328,
          126,
          236,
          99,
          212,
          297,
          142,
          186,
          112,
          149,
          132,
          115,
          248,
          178,
          107,
          269,
          96,
          134,
          301,
          187,
          94,
          114,
          96,
          138,
          122,
          257,
          95,
          244,
          190,
          118,
          178,
          170,
          250,
          159,
          205,
          121,
          151,
          72,
          137,
          114,
          263,
          328,
          126,
          129,
          160,
          175,
          147,
          114,
          151,
          92,
          275,
          192,
          203,
          145,
          168,
          194,
          250,
          171,
          416,
          249,
          308,
          163,
          86,
          210,
          172,
          373,
          148,
          92,
          549,
          443,
          98,
          194,
          41,
          172,
          96,
          74,
          22,
          135,
          155,
          122,
          28,
          122,
          119,
          121,
          100,
          101,
          111,
          106,
          82,
          40,
          49,
          72,
          167,
          63,
          144,
          135,
          61,
          40,
          139,
          52,
          84,
          81,
          79,
          105,
          90,
          34,
          45,
          98,
          35,
          49,
          252,
          167,
          111,
          90,
          144,
          263,
          137,
          67,
          288,
          668,
          42,
          342,
          48,
          250,
          219,
          118,
          143,
          99,
          89,
          148,
          42,
          171,
          109,
          38,
          421,
          38,
          116,
          225,
          144,
          51,
          104,
          33,
          174,
          46,
          179,
          34,
          99,
          174,
          70,
          149,
          207,
          318,
          101,
          111,
          106,
          82,
          40,
          137,
          67,
          288,
          668,
          42,
          63,
          144,
          135,
          61,
          40,
          139,
          52,
          393,
          152,
          83,
          74,
          94,
          188,
          214,
          73,
          285,
          469,
          504,
          149,
          55,
          273,
          182,
          573,
          135,
          36,
          1095,
          653,
          5,
          14,
          1,
          7,
          4,
          10,
          1,
          9,
          8,
          3,
          3,
          14,
          11,
          5,
          10,
          11,
          18,
          1,
          6,
          20,
          5,
          4,
          9,
          14,
          3,
          5,
          6,
          4,
          3,
          4,
          3,
          15,
          4,
          3,
          8,
          0,
          3,
          11,
          1,
          3,
          20,
          13,
          4,
          2,
          5,
          19,
          10,
          3,
          15,
          41,
          1,
          16,
          1,
          8,
          15,
          9,
          2,
          7,
          16,
          14,
          6,
          5,
          1,
          0,
          12,
          5,
          0,
          15,
          2,
          3,
          7,
          0,
          15,
          6,
          6,
          0,
          1,
          11,
          2,
          6,
          12,
          22,
          11,
          18,
          1,
          6,
          20,
          10,
          3,
          15,
          41,
          1,
          14,
          3,
          5,
          6,
          4,
          3,
          4,
          27,
          13,
          7,
          2,
          12,
          15,
          8,
          3,
          7,
          22,
          23,
          8,
          4,
          13,
          17,
          38,
          1,
          1,
          75,
          26,
          9,
          7,
          11,
          10,
          5,
          7,
          5,
          4,
          6,
          6,
          6,
          8,
          7,
          5,
          6,
          7,
          17,
          8,
          6,
          8,
          4,
          3,
          7,
          5,
          8,
          11,
          19,
          10,
          11,
          11,
          9,
          11,
          8,
          6,
          7,
          6,
          3,
          4,
          2,
          6,
          6,
          4,
          8,
          4,
          9,
          6,
          4,
          3,
          5,
          8,
          4,
          9,
          2,
          11,
          13,
          6,
          9,
          1,
          3,
          5,
          7,
          8,
          2,
          0,
          7,
          3,
          6,
          13,
          9,
          0,
          1,
          5,
          5,
          7,
          8,
          3,
          9,
          6,
          4,
          6,
          7,
          9,
          7,
          17,
          8,
          6,
          8,
          4,
          3,
          5,
          8,
          4,
          5,
          8,
          11,
          19,
          10,
          11,
          11,
          10,
          6,
          8,
          4,
          1,
          4,
          7,
          8,
          7,
          8,
          3,
          5,
          6,
          4,
          10,
          2,
          4,
          0,
          2,
          5
         ]
        }
       ],
       "layout": {
        "legend": {
         "tracegroupgap": 0
        },
        "template": {
         "data": {
          "bar": [
           {
            "error_x": {
             "color": "#2a3f5f"
            },
            "error_y": {
             "color": "#2a3f5f"
            },
            "marker": {
             "line": {
              "color": "white",
              "width": 0.5
             },
             "pattern": {
              "fillmode": "overlay",
              "size": 10,
              "solidity": 0.2
             }
            },
            "type": "bar"
           }
          ],
          "barpolar": [
           {
            "marker": {
             "line": {
              "color": "white",
              "width": 0.5
             },
             "pattern": {
              "fillmode": "overlay",
              "size": 10,
              "solidity": 0.2
             }
            },
            "type": "barpolar"
           }
          ],
          "carpet": [
           {
            "aaxis": {
             "endlinecolor": "#2a3f5f",
             "gridcolor": "#C8D4E3",
             "linecolor": "#C8D4E3",
             "minorgridcolor": "#C8D4E3",
             "startlinecolor": "#2a3f5f"
            },
            "baxis": {
             "endlinecolor": "#2a3f5f",
             "gridcolor": "#C8D4E3",
             "linecolor": "#C8D4E3",
             "minorgridcolor": "#C8D4E3",
             "startlinecolor": "#2a3f5f"
            },
            "type": "carpet"
           }
          ],
          "choropleth": [
           {
            "colorbar": {
             "outlinewidth": 0,
             "ticks": ""
            },
            "type": "choropleth"
           }
          ],
          "contour": [
           {
            "colorbar": {
             "outlinewidth": 0,
             "ticks": ""
            },
            "colorscale": [
             [
              0,
              "#0d0887"
             ],
             [
              0.1111111111111111,
              "#46039f"
             ],
             [
              0.2222222222222222,
              "#7201a8"
             ],
             [
              0.3333333333333333,
              "#9c179e"
             ],
             [
              0.4444444444444444,
              "#bd3786"
             ],
             [
              0.5555555555555556,
              "#d8576b"
             ],
             [
              0.6666666666666666,
              "#ed7953"
             ],
             [
              0.7777777777777778,
              "#fb9f3a"
             ],
             [
              0.8888888888888888,
              "#fdca26"
             ],
             [
              1,
              "#f0f921"
             ]
            ],
            "type": "contour"
           }
          ],
          "contourcarpet": [
           {
            "colorbar": {
             "outlinewidth": 0,
             "ticks": ""
            },
            "type": "contourcarpet"
           }
          ],
          "heatmap": [
           {
            "colorbar": {
             "outlinewidth": 0,
             "ticks": ""
            },
            "colorscale": [
             [
              0,
              "#0d0887"
             ],
             [
              0.1111111111111111,
              "#46039f"
             ],
             [
              0.2222222222222222,
              "#7201a8"
             ],
             [
              0.3333333333333333,
              "#9c179e"
             ],
             [
              0.4444444444444444,
              "#bd3786"
             ],
             [
              0.5555555555555556,
              "#d8576b"
             ],
             [
              0.6666666666666666,
              "#ed7953"
             ],
             [
              0.7777777777777778,
              "#fb9f3a"
             ],
             [
              0.8888888888888888,
              "#fdca26"
             ],
             [
              1,
              "#f0f921"
             ]
            ],
            "type": "heatmap"
           }
          ],
          "heatmapgl": [
           {
            "colorbar": {
             "outlinewidth": 0,
             "ticks": ""
            },
            "colorscale": [
             [
              0,
              "#0d0887"
             ],
             [
              0.1111111111111111,
              "#46039f"
             ],
             [
              0.2222222222222222,
              "#7201a8"
             ],
             [
              0.3333333333333333,
              "#9c179e"
             ],
             [
              0.4444444444444444,
              "#bd3786"
             ],
             [
              0.5555555555555556,
              "#d8576b"
             ],
             [
              0.6666666666666666,
              "#ed7953"
             ],
             [
              0.7777777777777778,
              "#fb9f3a"
             ],
             [
              0.8888888888888888,
              "#fdca26"
             ],
             [
              1,
              "#f0f921"
             ]
            ],
            "type": "heatmapgl"
           }
          ],
          "histogram": [
           {
            "marker": {
             "pattern": {
              "fillmode": "overlay",
              "size": 10,
              "solidity": 0.2
             }
            },
            "type": "histogram"
           }
          ],
          "histogram2d": [
           {
            "colorbar": {
             "outlinewidth": 0,
             "ticks": ""
            },
            "colorscale": [
             [
              0,
              "#0d0887"
             ],
             [
              0.1111111111111111,
              "#46039f"
             ],
             [
              0.2222222222222222,
              "#7201a8"
             ],
             [
              0.3333333333333333,
              "#9c179e"
             ],
             [
              0.4444444444444444,
              "#bd3786"
             ],
             [
              0.5555555555555556,
              "#d8576b"
             ],
             [
              0.6666666666666666,
              "#ed7953"
             ],
             [
              0.7777777777777778,
              "#fb9f3a"
             ],
             [
              0.8888888888888888,
              "#fdca26"
             ],
             [
              1,
              "#f0f921"
             ]
            ],
            "type": "histogram2d"
           }
          ],
          "histogram2dcontour": [
           {
            "colorbar": {
             "outlinewidth": 0,
             "ticks": ""
            },
            "colorscale": [
             [
              0,
              "#0d0887"
             ],
             [
              0.1111111111111111,
              "#46039f"
             ],
             [
              0.2222222222222222,
              "#7201a8"
             ],
             [
              0.3333333333333333,
              "#9c179e"
             ],
             [
              0.4444444444444444,
              "#bd3786"
             ],
             [
              0.5555555555555556,
              "#d8576b"
             ],
             [
              0.6666666666666666,
              "#ed7953"
             ],
             [
              0.7777777777777778,
              "#fb9f3a"
             ],
             [
              0.8888888888888888,
              "#fdca26"
             ],
             [
              1,
              "#f0f921"
             ]
            ],
            "type": "histogram2dcontour"
           }
          ],
          "mesh3d": [
           {
            "colorbar": {
             "outlinewidth": 0,
             "ticks": ""
            },
            "type": "mesh3d"
           }
          ],
          "parcoords": [
           {
            "line": {
             "colorbar": {
              "outlinewidth": 0,
              "ticks": ""
             }
            },
            "type": "parcoords"
           }
          ],
          "pie": [
           {
            "automargin": true,
            "type": "pie"
           }
          ],
          "scatter": [
           {
            "fillpattern": {
             "fillmode": "overlay",
             "size": 10,
             "solidity": 0.2
            },
            "type": "scatter"
           }
          ],
          "scatter3d": [
           {
            "line": {
             "colorbar": {
              "outlinewidth": 0,
              "ticks": ""
             }
            },
            "marker": {
             "colorbar": {
              "outlinewidth": 0,
              "ticks": ""
             }
            },
            "type": "scatter3d"
           }
          ],
          "scattercarpet": [
           {
            "marker": {
             "colorbar": {
              "outlinewidth": 0,
              "ticks": ""
             }
            },
            "type": "scattercarpet"
           }
          ],
          "scattergeo": [
           {
            "marker": {
             "colorbar": {
              "outlinewidth": 0,
              "ticks": ""
             }
            },
            "type": "scattergeo"
           }
          ],
          "scattergl": [
           {
            "marker": {
             "colorbar": {
              "outlinewidth": 0,
              "ticks": ""
             }
            },
            "type": "scattergl"
           }
          ],
          "scattermapbox": [
           {
            "marker": {
             "colorbar": {
              "outlinewidth": 0,
              "ticks": ""
             }
            },
            "type": "scattermapbox"
           }
          ],
          "scatterpolar": [
           {
            "marker": {
             "colorbar": {
              "outlinewidth": 0,
              "ticks": ""
             }
            },
            "type": "scatterpolar"
           }
          ],
          "scatterpolargl": [
           {
            "marker": {
             "colorbar": {
              "outlinewidth": 0,
              "ticks": ""
             }
            },
            "type": "scatterpolargl"
           }
          ],
          "scatterternary": [
           {
            "marker": {
             "colorbar": {
              "outlinewidth": 0,
              "ticks": ""
             }
            },
            "type": "scatterternary"
           }
          ],
          "surface": [
           {
            "colorbar": {
             "outlinewidth": 0,
             "ticks": ""
            },
            "colorscale": [
             [
              0,
              "#0d0887"
             ],
             [
              0.1111111111111111,
              "#46039f"
             ],
             [
              0.2222222222222222,
              "#7201a8"
             ],
             [
              0.3333333333333333,
              "#9c179e"
             ],
             [
              0.4444444444444444,
              "#bd3786"
             ],
             [
              0.5555555555555556,
              "#d8576b"
             ],
             [
              0.6666666666666666,
              "#ed7953"
             ],
             [
              0.7777777777777778,
              "#fb9f3a"
             ],
             [
              0.8888888888888888,
              "#fdca26"
             ],
             [
              1,
              "#f0f921"
             ]
            ],
            "type": "surface"
           }
          ],
          "table": [
           {
            "cells": {
             "fill": {
              "color": "#EBF0F8"
             },
             "line": {
              "color": "white"
             }
            },
            "header": {
             "fill": {
              "color": "#C8D4E3"
             },
             "line": {
              "color": "white"
             }
            },
            "type": "table"
           }
          ]
         },
         "layout": {
          "annotationdefaults": {
           "arrowcolor": "#2a3f5f",
           "arrowhead": 0,
           "arrowwidth": 1
          },
          "autotypenumbers": "strict",
          "coloraxis": {
           "colorbar": {
            "outlinewidth": 0,
            "ticks": ""
           }
          },
          "colorscale": {
           "diverging": [
            [
             0,
             "#8e0152"
            ],
            [
             0.1,
             "#c51b7d"
            ],
            [
             0.2,
             "#de77ae"
            ],
            [
             0.3,
             "#f1b6da"
            ],
            [
             0.4,
             "#fde0ef"
            ],
            [
             0.5,
             "#f7f7f7"
            ],
            [
             0.6,
             "#e6f5d0"
            ],
            [
             0.7,
             "#b8e186"
            ],
            [
             0.8,
             "#7fbc41"
            ],
            [
             0.9,
             "#4d9221"
            ],
            [
             1,
             "#276419"
            ]
           ],
           "sequential": [
            [
             0,
             "#0d0887"
            ],
            [
             0.1111111111111111,
             "#46039f"
            ],
            [
             0.2222222222222222,
             "#7201a8"
            ],
            [
             0.3333333333333333,
             "#9c179e"
            ],
            [
             0.4444444444444444,
             "#bd3786"
            ],
            [
             0.5555555555555556,
             "#d8576b"
            ],
            [
             0.6666666666666666,
             "#ed7953"
            ],
            [
             0.7777777777777778,
             "#fb9f3a"
            ],
            [
             0.8888888888888888,
             "#fdca26"
            ],
            [
             1,
             "#f0f921"
            ]
           ],
           "sequentialminus": [
            [
             0,
             "#0d0887"
            ],
            [
             0.1111111111111111,
             "#46039f"
            ],
            [
             0.2222222222222222,
             "#7201a8"
            ],
            [
             0.3333333333333333,
             "#9c179e"
            ],
            [
             0.4444444444444444,
             "#bd3786"
            ],
            [
             0.5555555555555556,
             "#d8576b"
            ],
            [
             0.6666666666666666,
             "#ed7953"
            ],
            [
             0.7777777777777778,
             "#fb9f3a"
            ],
            [
             0.8888888888888888,
             "#fdca26"
            ],
            [
             1,
             "#f0f921"
            ]
           ]
          },
          "colorway": [
           "#636efa",
           "#EF553B",
           "#00cc96",
           "#ab63fa",
           "#FFA15A",
           "#19d3f3",
           "#FF6692",
           "#B6E880",
           "#FF97FF",
           "#FECB52"
          ],
          "font": {
           "color": "#2a3f5f"
          },
          "geo": {
           "bgcolor": "white",
           "lakecolor": "white",
           "landcolor": "white",
           "showlakes": true,
           "showland": true,
           "subunitcolor": "#C8D4E3"
          },
          "hoverlabel": {
           "align": "left"
          },
          "hovermode": "closest",
          "mapbox": {
           "style": "light"
          },
          "paper_bgcolor": "white",
          "plot_bgcolor": "white",
          "polar": {
           "angularaxis": {
            "gridcolor": "#EBF0F8",
            "linecolor": "#EBF0F8",
            "ticks": ""
           },
           "bgcolor": "white",
           "radialaxis": {
            "gridcolor": "#EBF0F8",
            "linecolor": "#EBF0F8",
            "ticks": ""
           }
          },
          "scene": {
           "xaxis": {
            "backgroundcolor": "white",
            "gridcolor": "#DFE8F3",
            "gridwidth": 2,
            "linecolor": "#EBF0F8",
            "showbackground": true,
            "ticks": "",
            "zerolinecolor": "#EBF0F8"
           },
           "yaxis": {
            "backgroundcolor": "white",
            "gridcolor": "#DFE8F3",
            "gridwidth": 2,
            "linecolor": "#EBF0F8",
            "showbackground": true,
            "ticks": "",
            "zerolinecolor": "#EBF0F8"
           },
           "zaxis": {
            "backgroundcolor": "white",
            "gridcolor": "#DFE8F3",
            "gridwidth": 2,
            "linecolor": "#EBF0F8",
            "showbackground": true,
            "ticks": "",
            "zerolinecolor": "#EBF0F8"
           }
          },
          "shapedefaults": {
           "line": {
            "color": "#2a3f5f"
           }
          },
          "ternary": {
           "aaxis": {
            "gridcolor": "#DFE8F3",
            "linecolor": "#A2B1C6",
            "ticks": ""
           },
           "baxis": {
            "gridcolor": "#DFE8F3",
            "linecolor": "#A2B1C6",
            "ticks": ""
           },
           "bgcolor": "white",
           "caxis": {
            "gridcolor": "#DFE8F3",
            "linecolor": "#A2B1C6",
            "ticks": ""
           }
          },
          "title": {
           "x": 0.05
          },
          "xaxis": {
           "automargin": true,
           "gridcolor": "#EBF0F8",
           "linecolor": "#EBF0F8",
           "ticks": "",
           "title": {
            "standoff": 15
           },
           "zerolinecolor": "#EBF0F8",
           "zerolinewidth": 2
          },
          "yaxis": {
           "automargin": true,
           "gridcolor": "#EBF0F8",
           "linecolor": "#EBF0F8",
           "ticks": "",
           "title": {
            "standoff": 15
           },
           "zerolinecolor": "#EBF0F8",
           "zerolinewidth": 2
          }
         }
        },
        "title": {
         "text": "Pie Chart"
        }
       }
      }
     },
     "metadata": {},
     "output_type": "display_data"
    }
   ],
   "source": [
    "#Distribution of Engagement sources\n",
    "\n",
    "category_columns = ['Likes', 'Saves', 'Shares', 'Comments']\n",
    "melted_df = df.melt(value_vars=category_columns, var_name='category', value_name='value')\n",
    "fig = px.pie(melted_df, names='category', values='value', title='Engagement Sources')\n",
    "fig.show()"
   ]
  },
  {
   "cell_type": "code",
   "execution_count": 80,
   "metadata": {},
   "outputs": [
    {
     "data": {
      "application/vnd.plotly.v1+json": {
       "config": {
        "plotlyServerURL": "https://plot.ly"
       },
       "data": [
        {
         "mode": "markers",
         "name": "Scatter plot",
         "type": "scatter",
         "x": [
          35,
          48,
          62,
          23,
          8,
          9,
          26,
          12,
          36,
          31,
          29,
          15,
          8,
          20,
          181,
          17,
          16,
          21,
          77,
          10,
          9,
          11,
          144,
          14,
          10,
          19,
          69,
          11,
          19,
          9,
          57,
          13,
          11,
          24,
          81,
          4,
          7,
          14,
          18,
          8,
          330,
          21,
          19,
          32,
          19,
          21,
          14,
          30,
          39,
          42,
          31,
          20,
          12,
          22,
          306,
          13,
          26,
          16,
          15,
          15,
          39,
          21,
          8,
          45,
          50,
          37,
          25,
          347,
          26,
          48,
          16,
          26,
          17,
          52,
          22,
          41,
          155,
          12,
          22,
          20,
          23,
          25,
          17,
          16,
          21,
          77,
          10,
          14,
          30,
          39,
          42,
          31,
          14,
          10,
          19,
          69,
          11,
          19,
          9,
          38,
          42,
          92,
          75,
          21,
          26,
          39,
          74,
          467,
          24,
          70,
          22,
          46,
          61,
          237,
          73,
          20,
          34,
          148,
          611
         ],
         "y": [
          2,
          10,
          12,
          8,
          0,
          2,
          0,
          6,
          4,
          6,
          4,
          0,
          2,
          4,
          42,
          6,
          2,
          2,
          30,
          0,
          0,
          24,
          100,
          2,
          4,
          6,
          6,
          6,
          2,
          2,
          20,
          2,
          4,
          8,
          26,
          2,
          2,
          4,
          0,
          2,
          94,
          8,
          18,
          10,
          4,
          4,
          4,
          4,
          18,
          38,
          10,
          12,
          4,
          4,
          74,
          0,
          6,
          6,
          0,
          6,
          12,
          10,
          8,
          8,
          46,
          12,
          10,
          94,
          6,
          10,
          6,
          4,
          12,
          16,
          12,
          8,
          32,
          8,
          16,
          6,
          10,
          10,
          6,
          2,
          2,
          30,
          0,
          4,
          4,
          18,
          38,
          10,
          2,
          4,
          6,
          6,
          6,
          2,
          2,
          14,
          8,
          14,
          28,
          18,
          12,
          34,
          26,
          260,
          16,
          96,
          20,
          30,
          58,
          100,
          80,
          18,
          10,
          214,
          228
         ]
        },
        {
         "mode": "lines",
         "name": "Line",
         "type": "scatter",
         "x": [
          0,
          611
         ],
         "y": [
          0,
          250
         ]
        }
       ],
       "layout": {
        "template": {
         "data": {
          "bar": [
           {
            "error_x": {
             "color": "#2a3f5f"
            },
            "error_y": {
             "color": "#2a3f5f"
            },
            "marker": {
             "line": {
              "color": "white",
              "width": 0.5
             },
             "pattern": {
              "fillmode": "overlay",
              "size": 10,
              "solidity": 0.2
             }
            },
            "type": "bar"
           }
          ],
          "barpolar": [
           {
            "marker": {
             "line": {
              "color": "white",
              "width": 0.5
             },
             "pattern": {
              "fillmode": "overlay",
              "size": 10,
              "solidity": 0.2
             }
            },
            "type": "barpolar"
           }
          ],
          "carpet": [
           {
            "aaxis": {
             "endlinecolor": "#2a3f5f",
             "gridcolor": "#C8D4E3",
             "linecolor": "#C8D4E3",
             "minorgridcolor": "#C8D4E3",
             "startlinecolor": "#2a3f5f"
            },
            "baxis": {
             "endlinecolor": "#2a3f5f",
             "gridcolor": "#C8D4E3",
             "linecolor": "#C8D4E3",
             "minorgridcolor": "#C8D4E3",
             "startlinecolor": "#2a3f5f"
            },
            "type": "carpet"
           }
          ],
          "choropleth": [
           {
            "colorbar": {
             "outlinewidth": 0,
             "ticks": ""
            },
            "type": "choropleth"
           }
          ],
          "contour": [
           {
            "colorbar": {
             "outlinewidth": 0,
             "ticks": ""
            },
            "colorscale": [
             [
              0,
              "#0d0887"
             ],
             [
              0.1111111111111111,
              "#46039f"
             ],
             [
              0.2222222222222222,
              "#7201a8"
             ],
             [
              0.3333333333333333,
              "#9c179e"
             ],
             [
              0.4444444444444444,
              "#bd3786"
             ],
             [
              0.5555555555555556,
              "#d8576b"
             ],
             [
              0.6666666666666666,
              "#ed7953"
             ],
             [
              0.7777777777777778,
              "#fb9f3a"
             ],
             [
              0.8888888888888888,
              "#fdca26"
             ],
             [
              1,
              "#f0f921"
             ]
            ],
            "type": "contour"
           }
          ],
          "contourcarpet": [
           {
            "colorbar": {
             "outlinewidth": 0,
             "ticks": ""
            },
            "type": "contourcarpet"
           }
          ],
          "heatmap": [
           {
            "colorbar": {
             "outlinewidth": 0,
             "ticks": ""
            },
            "colorscale": [
             [
              0,
              "#0d0887"
             ],
             [
              0.1111111111111111,
              "#46039f"
             ],
             [
              0.2222222222222222,
              "#7201a8"
             ],
             [
              0.3333333333333333,
              "#9c179e"
             ],
             [
              0.4444444444444444,
              "#bd3786"
             ],
             [
              0.5555555555555556,
              "#d8576b"
             ],
             [
              0.6666666666666666,
              "#ed7953"
             ],
             [
              0.7777777777777778,
              "#fb9f3a"
             ],
             [
              0.8888888888888888,
              "#fdca26"
             ],
             [
              1,
              "#f0f921"
             ]
            ],
            "type": "heatmap"
           }
          ],
          "heatmapgl": [
           {
            "colorbar": {
             "outlinewidth": 0,
             "ticks": ""
            },
            "colorscale": [
             [
              0,
              "#0d0887"
             ],
             [
              0.1111111111111111,
              "#46039f"
             ],
             [
              0.2222222222222222,
              "#7201a8"
             ],
             [
              0.3333333333333333,
              "#9c179e"
             ],
             [
              0.4444444444444444,
              "#bd3786"
             ],
             [
              0.5555555555555556,
              "#d8576b"
             ],
             [
              0.6666666666666666,
              "#ed7953"
             ],
             [
              0.7777777777777778,
              "#fb9f3a"
             ],
             [
              0.8888888888888888,
              "#fdca26"
             ],
             [
              1,
              "#f0f921"
             ]
            ],
            "type": "heatmapgl"
           }
          ],
          "histogram": [
           {
            "marker": {
             "pattern": {
              "fillmode": "overlay",
              "size": 10,
              "solidity": 0.2
             }
            },
            "type": "histogram"
           }
          ],
          "histogram2d": [
           {
            "colorbar": {
             "outlinewidth": 0,
             "ticks": ""
            },
            "colorscale": [
             [
              0,
              "#0d0887"
             ],
             [
              0.1111111111111111,
              "#46039f"
             ],
             [
              0.2222222222222222,
              "#7201a8"
             ],
             [
              0.3333333333333333,
              "#9c179e"
             ],
             [
              0.4444444444444444,
              "#bd3786"
             ],
             [
              0.5555555555555556,
              "#d8576b"
             ],
             [
              0.6666666666666666,
              "#ed7953"
             ],
             [
              0.7777777777777778,
              "#fb9f3a"
             ],
             [
              0.8888888888888888,
              "#fdca26"
             ],
             [
              1,
              "#f0f921"
             ]
            ],
            "type": "histogram2d"
           }
          ],
          "histogram2dcontour": [
           {
            "colorbar": {
             "outlinewidth": 0,
             "ticks": ""
            },
            "colorscale": [
             [
              0,
              "#0d0887"
             ],
             [
              0.1111111111111111,
              "#46039f"
             ],
             [
              0.2222222222222222,
              "#7201a8"
             ],
             [
              0.3333333333333333,
              "#9c179e"
             ],
             [
              0.4444444444444444,
              "#bd3786"
             ],
             [
              0.5555555555555556,
              "#d8576b"
             ],
             [
              0.6666666666666666,
              "#ed7953"
             ],
             [
              0.7777777777777778,
              "#fb9f3a"
             ],
             [
              0.8888888888888888,
              "#fdca26"
             ],
             [
              1,
              "#f0f921"
             ]
            ],
            "type": "histogram2dcontour"
           }
          ],
          "mesh3d": [
           {
            "colorbar": {
             "outlinewidth": 0,
             "ticks": ""
            },
            "type": "mesh3d"
           }
          ],
          "parcoords": [
           {
            "line": {
             "colorbar": {
              "outlinewidth": 0,
              "ticks": ""
             }
            },
            "type": "parcoords"
           }
          ],
          "pie": [
           {
            "automargin": true,
            "type": "pie"
           }
          ],
          "scatter": [
           {
            "fillpattern": {
             "fillmode": "overlay",
             "size": 10,
             "solidity": 0.2
            },
            "type": "scatter"
           }
          ],
          "scatter3d": [
           {
            "line": {
             "colorbar": {
              "outlinewidth": 0,
              "ticks": ""
             }
            },
            "marker": {
             "colorbar": {
              "outlinewidth": 0,
              "ticks": ""
             }
            },
            "type": "scatter3d"
           }
          ],
          "scattercarpet": [
           {
            "marker": {
             "colorbar": {
              "outlinewidth": 0,
              "ticks": ""
             }
            },
            "type": "scattercarpet"
           }
          ],
          "scattergeo": [
           {
            "marker": {
             "colorbar": {
              "outlinewidth": 0,
              "ticks": ""
             }
            },
            "type": "scattergeo"
           }
          ],
          "scattergl": [
           {
            "marker": {
             "colorbar": {
              "outlinewidth": 0,
              "ticks": ""
             }
            },
            "type": "scattergl"
           }
          ],
          "scattermapbox": [
           {
            "marker": {
             "colorbar": {
              "outlinewidth": 0,
              "ticks": ""
             }
            },
            "type": "scattermapbox"
           }
          ],
          "scatterpolar": [
           {
            "marker": {
             "colorbar": {
              "outlinewidth": 0,
              "ticks": ""
             }
            },
            "type": "scatterpolar"
           }
          ],
          "scatterpolargl": [
           {
            "marker": {
             "colorbar": {
              "outlinewidth": 0,
              "ticks": ""
             }
            },
            "type": "scatterpolargl"
           }
          ],
          "scatterternary": [
           {
            "marker": {
             "colorbar": {
              "outlinewidth": 0,
              "ticks": ""
             }
            },
            "type": "scatterternary"
           }
          ],
          "surface": [
           {
            "colorbar": {
             "outlinewidth": 0,
             "ticks": ""
            },
            "colorscale": [
             [
              0,
              "#0d0887"
             ],
             [
              0.1111111111111111,
              "#46039f"
             ],
             [
              0.2222222222222222,
              "#7201a8"
             ],
             [
              0.3333333333333333,
              "#9c179e"
             ],
             [
              0.4444444444444444,
              "#bd3786"
             ],
             [
              0.5555555555555556,
              "#d8576b"
             ],
             [
              0.6666666666666666,
              "#ed7953"
             ],
             [
              0.7777777777777778,
              "#fb9f3a"
             ],
             [
              0.8888888888888888,
              "#fdca26"
             ],
             [
              1,
              "#f0f921"
             ]
            ],
            "type": "surface"
           }
          ],
          "table": [
           {
            "cells": {
             "fill": {
              "color": "#EBF0F8"
             },
             "line": {
              "color": "white"
             }
            },
            "header": {
             "fill": {
              "color": "#C8D4E3"
             },
             "line": {
              "color": "white"
             }
            },
            "type": "table"
           }
          ]
         },
         "layout": {
          "annotationdefaults": {
           "arrowcolor": "#2a3f5f",
           "arrowhead": 0,
           "arrowwidth": 1
          },
          "autotypenumbers": "strict",
          "coloraxis": {
           "colorbar": {
            "outlinewidth": 0,
            "ticks": ""
           }
          },
          "colorscale": {
           "diverging": [
            [
             0,
             "#8e0152"
            ],
            [
             0.1,
             "#c51b7d"
            ],
            [
             0.2,
             "#de77ae"
            ],
            [
             0.3,
             "#f1b6da"
            ],
            [
             0.4,
             "#fde0ef"
            ],
            [
             0.5,
             "#f7f7f7"
            ],
            [
             0.6,
             "#e6f5d0"
            ],
            [
             0.7,
             "#b8e186"
            ],
            [
             0.8,
             "#7fbc41"
            ],
            [
             0.9,
             "#4d9221"
            ],
            [
             1,
             "#276419"
            ]
           ],
           "sequential": [
            [
             0,
             "#0d0887"
            ],
            [
             0.1111111111111111,
             "#46039f"
            ],
            [
             0.2222222222222222,
             "#7201a8"
            ],
            [
             0.3333333333333333,
             "#9c179e"
            ],
            [
             0.4444444444444444,
             "#bd3786"
            ],
            [
             0.5555555555555556,
             "#d8576b"
            ],
            [
             0.6666666666666666,
             "#ed7953"
            ],
            [
             0.7777777777777778,
             "#fb9f3a"
            ],
            [
             0.8888888888888888,
             "#fdca26"
            ],
            [
             1,
             "#f0f921"
            ]
           ],
           "sequentialminus": [
            [
             0,
             "#0d0887"
            ],
            [
             0.1111111111111111,
             "#46039f"
            ],
            [
             0.2222222222222222,
             "#7201a8"
            ],
            [
             0.3333333333333333,
             "#9c179e"
            ],
            [
             0.4444444444444444,
             "#bd3786"
            ],
            [
             0.5555555555555556,
             "#d8576b"
            ],
            [
             0.6666666666666666,
             "#ed7953"
            ],
            [
             0.7777777777777778,
             "#fb9f3a"
            ],
            [
             0.8888888888888888,
             "#fdca26"
            ],
            [
             1,
             "#f0f921"
            ]
           ]
          },
          "colorway": [
           "#636efa",
           "#EF553B",
           "#00cc96",
           "#ab63fa",
           "#FFA15A",
           "#19d3f3",
           "#FF6692",
           "#B6E880",
           "#FF97FF",
           "#FECB52"
          ],
          "font": {
           "color": "#2a3f5f"
          },
          "geo": {
           "bgcolor": "white",
           "lakecolor": "white",
           "landcolor": "white",
           "showlakes": true,
           "showland": true,
           "subunitcolor": "#C8D4E3"
          },
          "hoverlabel": {
           "align": "left"
          },
          "hovermode": "closest",
          "mapbox": {
           "style": "light"
          },
          "paper_bgcolor": "white",
          "plot_bgcolor": "white",
          "polar": {
           "angularaxis": {
            "gridcolor": "#EBF0F8",
            "linecolor": "#EBF0F8",
            "ticks": ""
           },
           "bgcolor": "white",
           "radialaxis": {
            "gridcolor": "#EBF0F8",
            "linecolor": "#EBF0F8",
            "ticks": ""
           }
          },
          "scene": {
           "xaxis": {
            "backgroundcolor": "white",
            "gridcolor": "#DFE8F3",
            "gridwidth": 2,
            "linecolor": "#EBF0F8",
            "showbackground": true,
            "ticks": "",
            "zerolinecolor": "#EBF0F8"
           },
           "yaxis": {
            "backgroundcolor": "white",
            "gridcolor": "#DFE8F3",
            "gridwidth": 2,
            "linecolor": "#EBF0F8",
            "showbackground": true,
            "ticks": "",
            "zerolinecolor": "#EBF0F8"
           },
           "zaxis": {
            "backgroundcolor": "white",
            "gridcolor": "#DFE8F3",
            "gridwidth": 2,
            "linecolor": "#EBF0F8",
            "showbackground": true,
            "ticks": "",
            "zerolinecolor": "#EBF0F8"
           }
          },
          "shapedefaults": {
           "line": {
            "color": "#2a3f5f"
           }
          },
          "ternary": {
           "aaxis": {
            "gridcolor": "#DFE8F3",
            "linecolor": "#A2B1C6",
            "ticks": ""
           },
           "baxis": {
            "gridcolor": "#DFE8F3",
            "linecolor": "#A2B1C6",
            "ticks": ""
           },
           "bgcolor": "white",
           "caxis": {
            "gridcolor": "#DFE8F3",
            "linecolor": "#A2B1C6",
            "ticks": ""
           }
          },
          "title": {
           "x": 0.05
          },
          "xaxis": {
           "automargin": true,
           "gridcolor": "#EBF0F8",
           "linecolor": "#EBF0F8",
           "ticks": "",
           "title": {
            "standoff": 15
           },
           "zerolinecolor": "#EBF0F8",
           "zerolinewidth": 2
          },
          "yaxis": {
           "automargin": true,
           "gridcolor": "#EBF0F8",
           "linecolor": "#EBF0F8",
           "ticks": "",
           "title": {
            "standoff": 15
           },
           "zerolinecolor": "#EBF0F8",
           "zerolinewidth": 2
          }
         }
        },
        "title": {
         "text": "Profile Visits Vs. Follows"
        }
       }
      }
     },
     "metadata": {},
     "output_type": "display_data"
    }
   ],
   "source": [
    "#Relatonship between Profile visits and Follows\n",
    "\n",
    "x_values = df[\"Profile Visits\"]\n",
    "y_values = df[\"Follows\"]\n",
    "\n",
    "#Defining the values for Line\n",
    "line_x_values = [0, x_values.max()]\n",
    "line_y_values = [0 , 250]\n",
    "\n",
    "#Creating the Scatter plot and line \n",
    "scatter = go.Scatter(x=x_values, y=y_values, mode='markers', name=\"Scatter plot\")\n",
    "line_trace = go.Scatter(x=line_x_values, y=line_y_values, mode='lines', name='Line')\n",
    "\n",
    "\n",
    "fig = go.Figure()\n",
    "fig.add_trace(scatter)\n",
    "fig.add_trace(line_trace)\n",
    "\n",
    "fig.update_layout(title = \"Profile Visits Vs. Follows\")\n",
    "\n",
    "fig.show()"
   ]
  },
  {
   "cell_type": "code",
   "execution_count": 107,
   "metadata": {},
   "outputs": [
    {
     "data": {
      "image/png": "[encoded data removed]",
      "text/plain": [
       "<Figure size 1000x500 with 1 Axes>"
      ]
     },
     "metadata": {},
     "output_type": "display_data"
    }
   ],
   "source": [
    "#Showing Hashtags using wordcloud\n",
    "\n",
    "hashtags_list = df['Hashtags']\n",
    "all_hashtags = ' '.join(hashtags_list)\n",
    "wordcloud = WordCloud(width=800, height=400, background_color='black').generate(all_hashtags)\n",
    "plt.figure(figsize=(10, 5))\n",
    "\n",
    "#Interpolation is the used to estimate the value of a function.\n",
    "plt.imshow(wordcloud, interpolation='nearest')\n",
    "plt.show()\n"
   ]
  },
  {
   "cell_type": "code",
   "execution_count": 115,
   "metadata": {},
   "outputs": [
    {
     "data": {
      "application/vnd.plotly.v1+json": {
       "config": {
        "plotlyServerURL": "https://plot.ly"
       },
       "data": [
        {
         "colorscale": [
          [
           0,
           "#440154"
          ],
          [
           0.1111111111111111,
           "#482878"
          ],
          [
           0.2222222222222222,
           "#3e4989"
          ],
          [
           0.3333333333333333,
           "#31688e"
          ],
          [
           0.4444444444444444,
           "#26828e"
          ],
          [
           0.5555555555555556,
           "#1f9e89"
          ],
          [
           0.6666666666666666,
           "#35b779"
          ],
          [
           0.7777777777777778,
           "#6ece58"
          ],
          [
           0.8888888888888888,
           "#b5de2b"
          ],
          [
           1,
           "#fde725"
          ]
         ],
         "type": "heatmap",
         "x": [
          "Impressions",
          "From Home",
          "From Hashtags",
          "From Explore",
          "From Other",
          "Saves",
          "Comments",
          "Shares",
          "Likes",
          "Profile Visits",
          "Follows"
         ],
         "y": [
          "Impressions",
          "From Home",
          "From Hashtags",
          "From Explore",
          "From Other",
          "Saves",
          "Comments",
          "Shares",
          "Likes",
          "Profile Visits",
          "Follows"
         ],
         "z": [
          [
           1,
           0.8446984764644079,
           0.5607600444158378,
           0.8936074202433567,
           0.5929604758091378,
           0.7792314114268593,
           -0.028523933548663824,
           0.6346751252181763,
           0.8498353377178177,
           0.7609809286546657,
           0.8893634430344086
          ],
          [
           0.8446984764644079,
           1,
           0.1775156543309878,
           0.800573110578866,
           0.5556659551465412,
           0.768817005684724,
           0.012716248342545502,
           0.6749850448685393,
           0.698329637893805,
           0.531076205366268,
           0.6726750588858736
          ],
          [
           0.5607600444158378,
           0.1775156543309878,
           1,
           0.1904532189703739,
           0.2296233181732429,
           0.30592870314657494,
           0.1614388259073108,
           0.21951145515685286,
           0.6621242000877943,
           0.6913449048454711,
           0.5554854735531087
          ],
          [
           0.8936074202433567,
           0.800573110578866,
           0.1904532189703739,
           1,
           0.49568473618614567,
           0.7478028035868068,
           -0.15856537914498336,
           0.6157309658741993,
           0.653699336224973,
           0.5318502558055156,
           0.7960189422044351
          ],
          [
           0.5929604758091378,
           0.5556659551465412,
           0.2296233181732429,
           0.49568473618614567,
           1,
           0.3319068864386735,
           -0.1087029734222875,
           0.15683375635736396,
           0.3935104122090607,
           0.6330799446255249,
           0.5467370225356449
          ],
          [
           0.7792314114268593,
           0.768817005684724,
           0.30592870314657494,
           0.7478028035868068,
           0.3319068864386735,
           1,
           -0.026912263707560984,
           0.860324185158795,
           0.8456432932068351,
           0.36062821319868793,
           0.6284608823148304
          ],
          [
           -0.028523933548663824,
           0.012716248342545502,
           0.1614388259073108,
           -0.15856537914498336,
           -0.1087029734222875,
           -0.026912263707560984,
           1,
           0.016932532855360494,
           0.1235861027264814,
           0.09671424134518669,
           -0.060630774375331827
          ],
          [
           0.6346751252181763,
           0.6749850448685393,
           0.21951145515685286,
           0.6157309658741993,
           0.15683375635736396,
           0.860324185158795,
           0.016932532855360494,
           1,
           0.707794002688105,
           0.24536082330737743,
           0.4930698051158401
          ],
          [
           0.8498353377178177,
           0.698329637893805,
           0.6621242000877943,
           0.653699336224973,
           0.3935104122090607,
           0.8456432932068351,
           0.1235861027264814,
           0.707794002688105,
           1,
           0.6261070345218044,
           0.746333165592919
          ],
          [
           0.7609809286546657,
           0.531076205366268,
           0.6913449048454711,
           0.5318502558055156,
           0.6330799446255249,
           0.36062821319868793,
           0.09671424134518669,
           0.24536082330737743,
           0.6261070345218044,
           1,
           0.8531517459145104
          ],
          [
           0.8893634430344086,
           0.6726750588858736,
           0.5554854735531087,
           0.7960189422044351,
           0.5467370225356449,
           0.6284608823148304,
           -0.060630774375331827,
           0.4930698051158401,
           0.746333165592919,
           0.8531517459145104,
           1
          ]
         ]
        }
       ],
       "layout": {
        "height": 400,
        "template": {
         "data": {
          "bar": [
           {
            "error_x": {
             "color": "#2a3f5f"
            },
            "error_y": {
             "color": "#2a3f5f"
            },
            "marker": {
             "line": {
              "color": "white",
              "width": 0.5
             },
             "pattern": {
              "fillmode": "overlay",
              "size": 10,
              "solidity": 0.2
             }
            },
            "type": "bar"
           }
          ],
          "barpolar": [
           {
            "marker": {
             "line": {
              "color": "white",
              "width": 0.5
             },
             "pattern": {
              "fillmode": "overlay",
              "size": 10,
              "solidity": 0.2
             }
            },
            "type": "barpolar"
           }
          ],
          "carpet": [
           {
            "aaxis": {
             "endlinecolor": "#2a3f5f",
             "gridcolor": "#C8D4E3",
             "linecolor": "#C8D4E3",
             "minorgridcolor": "#C8D4E3",
             "startlinecolor": "#2a3f5f"
            },
            "baxis": {
             "endlinecolor": "#2a3f5f",
             "gridcolor": "#C8D4E3",
             "linecolor": "#C8D4E3",
             "minorgridcolor": "#C8D4E3",
             "startlinecolor": "#2a3f5f"
            },
            "type": "carpet"
           }
          ],
          "choropleth": [
           {
            "colorbar": {
             "outlinewidth": 0,
             "ticks": ""
            },
            "type": "choropleth"
           }
          ],
          "contour": [
           {
            "colorbar": {
             "outlinewidth": 0,
             "ticks": ""
            },
            "colorscale": [
             [
              0,
              "#0d0887"
             ],
             [
              0.1111111111111111,
              "#46039f"
             ],
             [
              0.2222222222222222,
              "#7201a8"
             ],
             [
              0.3333333333333333,
              "#9c179e"
             ],
             [
              0.4444444444444444,
              "#bd3786"
             ],
             [
              0.5555555555555556,
              "#d8576b"
             ],
             [
              0.6666666666666666,
              "#ed7953"
             ],
             [
              0.7777777777777778,
              "#fb9f3a"
             ],
             [
              0.8888888888888888,
              "#fdca26"
             ],
             [
              1,
              "#f0f921"
             ]
            ],
            "type": "contour"
           }
          ],
          "contourcarpet": [
           {
            "colorbar": {
             "outlinewidth": 0,
             "ticks": ""
            },
            "type": "contourcarpet"
           }
          ],
          "heatmap": [
           {
            "colorbar": {
             "outlinewidth": 0,
             "ticks": ""
            },
            "colorscale": [
             [
              0,
              "#0d0887"
             ],
             [
              0.1111111111111111,
              "#46039f"
             ],
             [
              0.2222222222222222,
              "#7201a8"
             ],
             [
              0.3333333333333333,
              "#9c179e"
             ],
             [
              0.4444444444444444,
              "#bd3786"
             ],
             [
              0.5555555555555556,
              "#d8576b"
             ],
             [
              0.6666666666666666,
              "#ed7953"
             ],
             [
              0.7777777777777778,
              "#fb9f3a"
             ],
             [
              0.8888888888888888,
              "#fdca26"
             ],
             [
              1,
              "#f0f921"
             ]
            ],
            "type": "heatmap"
           }
          ],
          "heatmapgl": [
           {
            "colorbar": {
             "outlinewidth": 0,
             "ticks": ""
            },
            "colorscale": [
             [
              0,
              "#0d0887"
             ],
             [
              0.1111111111111111,
              "#46039f"
             ],
             [
              0.2222222222222222,
              "#7201a8"
             ],
             [
              0.3333333333333333,
              "#9c179e"
             ],
             [
              0.4444444444444444,
              "#bd3786"
             ],
             [
              0.5555555555555556,
              "#d8576b"
             ],
             [
              0.6666666666666666,
              "#ed7953"
             ],
             [
              0.7777777777777778,
              "#fb9f3a"
             ],
             [
              0.8888888888888888,
              "#fdca26"
             ],
             [
              1,
              "#f0f921"
             ]
            ],
            "type": "heatmapgl"
           }
          ],
          "histogram": [
           {
            "marker": {
             "pattern": {
              "fillmode": "overlay",
              "size": 10,
              "solidity": 0.2
             }
            },
            "type": "histogram"
           }
          ],
          "histogram2d": [
           {
            "colorbar": {
             "outlinewidth": 0,
             "ticks": ""
            },
            "colorscale": [
             [
              0,
              "#0d0887"
             ],
             [
              0.1111111111111111,
              "#46039f"
             ],
             [
              0.2222222222222222,
              "#7201a8"
             ],
             [
              0.3333333333333333,
              "#9c179e"
             ],
             [
              0.4444444444444444,
              "#bd3786"
             ],
             [
              0.5555555555555556,
              "#d8576b"
             ],
             [
              0.6666666666666666,
              "#ed7953"
             ],
             [
              0.7777777777777778,
              "#fb9f3a"
             ],
             [
              0.8888888888888888,
              "#fdca26"
             ],
             [
              1,
              "#f0f921"
             ]
            ],
            "type": "histogram2d"
           }
          ],
          "histogram2dcontour": [
           {
            "colorbar": {
             "outlinewidth": 0,
             "ticks": ""
            },
            "colorscale": [
             [
              0,
              "#0d0887"
             ],
             [
              0.1111111111111111,
              "#46039f"
             ],
             [
              0.2222222222222222,
              "#7201a8"
             ],
             [
              0.3333333333333333,
              "#9c179e"
             ],
             [
              0.4444444444444444,
              "#bd3786"
             ],
             [
              0.5555555555555556,
              "#d8576b"
             ],
             [
              0.6666666666666666,
              "#ed7953"
             ],
             [
              0.7777777777777778,
              "#fb9f3a"
             ],
             [
              0.8888888888888888,
              "#fdca26"
             ],
             [
              1,
              "#f0f921"
             ]
            ],
            "type": "histogram2dcontour"
           }
          ],
          "mesh3d": [
           {
            "colorbar": {
             "outlinewidth": 0,
             "ticks": ""
            },
            "type": "mesh3d"
           }
          ],
          "parcoords": [
           {
            "line": {
             "colorbar": {
              "outlinewidth": 0,
              "ticks": ""
             }
            },
            "type": "parcoords"
           }
          ],
          "pie": [
           {
            "automargin": true,
            "type": "pie"
           }
          ],
          "scatter": [
           {
            "fillpattern": {
             "fillmode": "overlay",
             "size": 10,
             "solidity": 0.2
            },
            "type": "scatter"
           }
          ],
          "scatter3d": [
           {
            "line": {
             "colorbar": {
              "outlinewidth": 0,
              "ticks": ""
             }
            },
            "marker": {
             "colorbar": {
              "outlinewidth": 0,
              "ticks": ""
             }
            },
            "type": "scatter3d"
           }
          ],
          "scattercarpet": [
           {
            "marker": {
             "colorbar": {
              "outlinewidth": 0,
              "ticks": ""
             }
            },
            "type": "scattercarpet"
           }
          ],
          "scattergeo": [
           {
            "marker": {
             "colorbar": {
              "outlinewidth": 0,
              "ticks": ""
             }
            },
            "type": "scattergeo"
           }
          ],
          "scattergl": [
           {
            "marker": {
             "colorbar": {
              "outlinewidth": 0,
              "ticks": ""
             }
            },
            "type": "scattergl"
           }
          ],
          "scattermapbox": [
           {
            "marker": {
             "colorbar": {
              "outlinewidth": 0,
              "ticks": ""
             }
            },
            "type": "scattermapbox"
           }
          ],
          "scatterpolar": [
           {
            "marker": {
             "colorbar": {
              "outlinewidth": 0,
              "ticks": ""
             }
            },
            "type": "scatterpolar"
           }
          ],
          "scatterpolargl": [
           {
            "marker": {
             "colorbar": {
              "outlinewidth": 0,
              "ticks": ""
             }
            },
            "type": "scatterpolargl"
           }
          ],
          "scatterternary": [
           {
            "marker": {
             "colorbar": {
              "outlinewidth": 0,
              "ticks": ""
             }
            },
            "type": "scatterternary"
           }
          ],
          "surface": [
           {
            "colorbar": {
             "outlinewidth": 0,
             "ticks": ""
            },
            "colorscale": [
             [
              0,
              "#0d0887"
             ],
             [
              0.1111111111111111,
              "#46039f"
             ],
             [
              0.2222222222222222,
              "#7201a8"
             ],
             [
              0.3333333333333333,
              "#9c179e"
             ],
             [
              0.4444444444444444,
              "#bd3786"
             ],
             [
              0.5555555555555556,
              "#d8576b"
             ],
             [
              0.6666666666666666,
              "#ed7953"
             ],
             [
              0.7777777777777778,
              "#fb9f3a"
             ],
             [
              0.8888888888888888,
              "#fdca26"
             ],
             [
              1,
              "#f0f921"
             ]
            ],
            "type": "surface"
           }
          ],
          "table": [
           {
            "cells": {
             "fill": {
              "color": "#EBF0F8"
             },
             "line": {
              "color": "white"
             }
            },
            "header": {
             "fill": {
              "color": "#C8D4E3"
             },
             "line": {
              "color": "white"
             }
            },
            "type": "table"
           }
          ]
         },
         "layout": {
          "annotationdefaults": {
           "arrowcolor": "#2a3f5f",
           "arrowhead": 0,
           "arrowwidth": 1
          },
          "autotypenumbers": "strict",
          "coloraxis": {
           "colorbar": {
            "outlinewidth": 0,
            "ticks": ""
           }
          },
          "colorscale": {
           "diverging": [
            [
             0,
             "#8e0152"
            ],
            [
             0.1,
             "#c51b7d"
            ],
            [
             0.2,
             "#de77ae"
            ],
            [
             0.3,
             "#f1b6da"
            ],
            [
             0.4,
             "#fde0ef"
            ],
            [
             0.5,
             "#f7f7f7"
            ],
            [
             0.6,
             "#e6f5d0"
            ],
            [
             0.7,
             "#b8e186"
            ],
            [
             0.8,
             "#7fbc41"
            ],
            [
             0.9,
             "#4d9221"
            ],
            [
             1,
             "#276419"
            ]
           ],
           "sequential": [
            [
             0,
             "#0d0887"
            ],
            [
             0.1111111111111111,
             "#46039f"
            ],
            [
             0.2222222222222222,
             "#7201a8"
            ],
            [
             0.3333333333333333,
             "#9c179e"
            ],
            [
             0.4444444444444444,
             "#bd3786"
            ],
            [
             0.5555555555555556,
             "#d8576b"
            ],
            [
             0.6666666666666666,
             "#ed7953"
            ],
            [
             0.7777777777777778,
             "#fb9f3a"
            ],
            [
             0.8888888888888888,
             "#fdca26"
            ],
            [
             1,
             "#f0f921"
            ]
           ],
           "sequentialminus": [
            [
             0,
             "#0d0887"
            ],
            [
             0.1111111111111111,
             "#46039f"
            ],
            [
             0.2222222222222222,
             "#7201a8"
            ],
            [
             0.3333333333333333,
             "#9c179e"
            ],
            [
             0.4444444444444444,
             "#bd3786"
            ],
            [
             0.5555555555555556,
             "#d8576b"
            ],
            [
             0.6666666666666666,
             "#ed7953"
            ],
            [
             0.7777777777777778,
             "#fb9f3a"
            ],
            [
             0.8888888888888888,
             "#fdca26"
            ],
            [
             1,
             "#f0f921"
            ]
           ]
          },
          "colorway": [
           "#636efa",
           "#EF553B",
           "#00cc96",
           "#ab63fa",
           "#FFA15A",
           "#19d3f3",
           "#FF6692",
           "#B6E880",
           "#FF97FF",
           "#FECB52"
          ],
          "font": {
           "color": "#2a3f5f"
          },
          "geo": {
           "bgcolor": "white",
           "lakecolor": "white",
           "landcolor": "white",
           "showlakes": true,
           "showland": true,
           "subunitcolor": "#C8D4E3"
          },
          "hoverlabel": {
           "align": "left"
          },
          "hovermode": "closest",
          "mapbox": {
           "style": "light"
          },
          "paper_bgcolor": "white",
          "plot_bgcolor": "white",
          "polar": {
           "angularaxis": {
            "gridcolor": "#EBF0F8",
            "linecolor": "#EBF0F8",
            "ticks": ""
           },
           "bgcolor": "white",
           "radialaxis": {
            "gridcolor": "#EBF0F8",
            "linecolor": "#EBF0F8",
            "ticks": ""
           }
          },
          "scene": {
           "xaxis": {
            "backgroundcolor": "white",
            "gridcolor": "#DFE8F3",
            "gridwidth": 2,
            "linecolor": "#EBF0F8",
            "showbackground": true,
            "ticks": "",
            "zerolinecolor": "#EBF0F8"
           },
           "yaxis": {
            "backgroundcolor": "white",
            "gridcolor": "#DFE8F3",
            "gridwidth": 2,
            "linecolor": "#EBF0F8",
            "showbackground": true,
            "ticks": "",
            "zerolinecolor": "#EBF0F8"
           },
           "zaxis": {
            "backgroundcolor": "white",
            "gridcolor": "#DFE8F3",
            "gridwidth": 2,
            "linecolor": "#EBF0F8",
            "showbackground": true,
            "ticks": "",
            "zerolinecolor": "#EBF0F8"
           }
          },
          "shapedefaults": {
           "line": {
            "color": "#2a3f5f"
           }
          },
          "ternary": {
           "aaxis": {
            "gridcolor": "#DFE8F3",
            "linecolor": "#A2B1C6",
            "ticks": ""
           },
           "baxis": {
            "gridcolor": "#DFE8F3",
            "linecolor": "#A2B1C6",
            "ticks": ""
           },
           "bgcolor": "white",
           "caxis": {
            "gridcolor": "#DFE8F3",
            "linecolor": "#A2B1C6",
            "ticks": ""
           }
          },
          "title": {
           "x": 0.05
          },
          "xaxis": {
           "automargin": true,
           "gridcolor": "#EBF0F8",
           "linecolor": "#EBF0F8",
           "ticks": "",
           "title": {
            "standoff": 15
           },
           "zerolinecolor": "#EBF0F8",
           "zerolinewidth": 2
          },
          "yaxis": {
           "automargin": true,
           "gridcolor": "#EBF0F8",
           "linecolor": "#EBF0F8",
           "ticks": "",
           "title": {
            "standoff": 15
           },
           "zerolinecolor": "#EBF0F8",
           "zerolinewidth": 2
          }
         }
        },
        "title": {
         "text": "Correlation Matrix"
        },
        "width": 800
       }
      }
     },
     "metadata": {},
     "output_type": "display_data"
    }
   ],
   "source": [
    "#Correlation matrix\n",
    "df_numeric = df.select_dtypes(include=[np.number])\n",
    "corr_plt = df_numeric.corr()\n",
    "\n",
    "\n",
    "fig = go.Figure(data=go.Heatmap(\n",
    "    z=corr_plt.values,\n",
    "    x=corr_plt.columns,\n",
    "    y=corr_plt.columns,\n",
    "    colorscale='Viridis',  # Adjust the color scale as needed\n",
    "))\n",
    "\n",
    "fig.update_layout(title=\"Correlation Matrix\", \n",
    "                  width= 800, height= 400)\n",
    "\n",
    "fig.show()"
   ]
  },
  {
   "cell_type": "code",
   "execution_count": 153,
   "metadata": {},
   "outputs": [
    {
     "data": {
      "application/vnd.plotly.v1+json": {
       "config": {
        "plotlyServerURL": "https://plot.ly"
       },
       "data": [
        {
         "alignmentgroup": "True",
         "bingroup": "x",
         "hovertemplate": "variable=Hashtags<br>value=%{x}<br>count=%{y}<extra></extra>",
         "legendgroup": "Hashtags",
         "marker": {
          "color": "#636efa",
          "pattern": {
           "shape": ""
          }
         },
         "name": "Hashtags",
         "offsetgroup": "Hashtags",
         "orientation": "v",
         "showlegend": true,
         "type": "histogram",
         "x": [
          "#finance",
          "#money",
          "#business",
          "#investing",
          "#investment",
          "#trading",
          "#stockmarket",
          "#data",
          "#datascience",
          "#dataanalysis",
          "#dataanalytics",
          "#datascientist",
          "#machinelearning",
          "#python",
          "#pythonprogramming",
          "#pythonprojects",
          "#pythoncode",
          "#artificialintelligence",
          "#ai",
          "#dataanalyst",
          "#amankharwal",
          "#thecleverprogrammer",
          "#healthcare",
          "#health",
          "#covid",
          "#data",
          "#datascience",
          "#dataanalysis",
          "#dataanalytics",
          "#datascientist",
          "#machinelearning",
          "#python",
          "#pythonprogramming",
          "#pythonprojects",
          "#pythoncode",
          "#artificialintelligence",
          "#ai",
          "#dataanalyst",
          "#amankharwal",
          "#thecleverprogrammer",
          "#data",
          "#datascience",
          "#dataanalysis",
          "#dataanalytics",
          "#datascientist",
          "#machinelearning",
          "#python",
          "#pythonprogramming",
          "#pythonprojects",
          "#pythoncode",
          "#artificialintelligence",
          "#ai",
          "#deeplearning",
          "#machinelearningprojects",
          "#datascienceprojects",
          "#amankharwal",
          "#thecleverprogrammer",
          "#machinelearningmodels",
          "#python",
          "#pythonprogramming",
          "#pythonprojects",
          "#pythoncode",
          "#pythonlearning",
          "#pythondeveloper",
          "#pythoncoding",
          "#pythonprogrammer",
          "#amankharwal",
          "#thecleverprogrammer",
          "#pythonprojects",
          "#datavisualization",
          "#datascience",
          "#data",
          "#dataanalytics",
          "#machinelearning",
          "#dataanalysis",
          "#artificialintelligence",
          "#python",
          "#datascientist",
          "#bigdata",
          "#deeplearning",
          "#dataviz",
          "#ai",
          "#analytics",
          "#technology",
          "#dataanalyst",
          "#programming",
          "#pythonprogramming",
          "#statistics",
          "#coding",
          "#businessintelligence",
          "#datamining",
          "#tech",
          "#business",
          "#computerscience",
          "#tableau",
          "#database",
          "#thecleverprogrammer",
          "#amankharwal",
          "#data",
          "#datascience",
          "#dataanalysis",
          "#dataanalytics",
          "#datascientist",
          "#machinelearning",
          "#python",
          "#pythonprogramming",
          "#pythonprojects",
          "#pythoncode",
          "#artificialintelligence",
          "#ai",
          "#deeplearning",
          "#algorithm",
          "#algorithms",
          "#machinelearningalgorithms",
          "#ml",
          "#amankharwal",
          "#thecleverprogrammer",
          "#softskills",
          "#stockmarket",
          "#investing",
          "#stocks",
          "#trading",
          "#money",
          "#investment",
          "#finance",
          "#forex",
          "#datavisualization",
          "#datascience",
          "#data",
          "#dataanalytics",
          "#machinelearning",
          "#dataanalysis",
          "#ai",
          "#candlestick",
          "#candlestickcharts",
          "#python",
          "#pythonprogramming",
          "#pythonprojects",
          "#pythoncode",
          "#pythonlearning",
          "#pythondeveloper",
          "#pythoncoding",
          "#pythonprogrammer",
          "#amankharwal",
          "#thecleverprogrammer",
          "#pythonprojects",
          "#pythonbooks",
          "#bookstagram",
          "#dataanalytics",
          "#datascience",
          "#data",
          "#machinelearning",
          "#datavisualization",
          "#bigdata",
          "#artificialintelligence",
          "#datascientist",
          "#python",
          "#analytics",
          "#ai",
          "#dataanalysis",
          "#deeplearning",
          "#technology",
          "#programming",
          "#coding",
          "#dataanalyst",
          "#business",
          "#pythonprogramming",
          "#datamining",
          "#tech",
          "#businessintelligence",
          "#database",
          "#computerscience",
          "#statistics",
          "#powerbi",
          "#dataanalysisprojects",
          "#businessanalytics",
          "#thecleverprogrammer",
          "#amankharwal",
          "#python",
          "#pythonprogramming",
          "#pythonprojects",
          "#pythoncode",
          "#pythonlearning",
          "#pythondeveloper",
          "#pythoncoding",
          "#pythonprogrammer",
          "#amankharwal",
          "#thecleverprogrammer",
          "#pythonprojects",
          "#neuralnetwork",
          "#machinelearning",
          "#artificialintelligence",
          "#deeplearning",
          "#python",
          "#ai",
          "#datascience",
          "#neuralnetworks",
          "#programming",
          "#tensorflow",
          "#datascientist",
          "#pythonprogramming",
          "#tech",
          "#technology",
          "#artificialintelligenceai",
          "#machinelearningalgorithms",
          "#computerscience",
          "#coding",
          "#ml",
          "#data",
          "#amankharwal",
          "#thecleverprogrammer",
          "#alexnet",
          "#python",
          "#pythonprogramming",
          "#pythonprojects",
          "#pythoncode",
          "#pythonlearning",
          "#pythondeveloper",
          "#pythoncoding",
          "#pythonprogrammer",
          "#amankharwal",
          "#thecleverprogrammer",
          "#pythonprojects",
          "#data",
          "#datascience",
          "#dataanalysis",
          "#dataanalytics",
          "#datascientist",
          "#machinelearning",
          "#python",
          "#pythonprogramming",
          "#pythonprojects",
          "#pythoncode",
          "#artificialintelligence",
          "#ai",
          "#deeplearning",
          "#algorithm",
          "#algorithms",
          "#machinelearningalgorithms",
          "#ml",
          "#amankharwal",
          "#thecleverprogrammer",
          "#stockmarket",
          "#investing",
          "#stocks",
          "#trading",
          "#money",
          "#investment",
          "#finance",
          "#forex",
          "#datavisualization",
          "#datascience",
          "#data",
          "#dataanalytics",
          "#machinelearning",
          "#dataanalysis",
          "#ai",
          "#candlestick",
          "#candlestickcharts",
          "#amankharwal",
          "#thecleverprogrammer",
          "#data",
          "#datascience",
          "#dataanalysis",
          "#dataanalytics",
          "#datascientist",
          "#machinelearning",
          "#python",
          "#pythonprogramming",
          "#pythonprojects",
          "#pythoncode",
          "#artificialintelligence",
          "#ai",
          "#deeplearning",
          "#sentimentanalysis",
          "#sentiment",
          "#nlp",
          "#naturallanguageprocessing",
          "#amankharwal",
          "#thecleverprogrammer",
          "#timeseries",
          "#time",
          "#statistics",
          "#datascience",
          "#bigdata",
          "#machinelearning",
          "#python",
          "#ai",
          "#timeseriesanalysis",
          "#datavisualization",
          "#dataanalytics",
          "#data",
          "#iot",
          "#analysis",
          "#timeseriesmalaysia",
          "#artificialintelligence",
          "#analytics",
          "#amankharwal",
          "#thecleverprogrammer",
          "#career",
          "#job",
          "#jobs",
          "#jobsearch",
          "#education",
          "#business",
          "#success",
          "#careergoals",
          "#motivation",
          "#work",
          "#careerdevelopment",
          "#careers",
          "#goals",
          "#resume",
          "#students",
          "#careeradvice",
          "#datascience",
          "#marketing",
          "#digitalmarketing",
          "#media",
          "#socialmedia",
          "#IT",
          "#webdevelopment",
          "#amankharwal",
          "#thecleverprogrammer",
          "#timeseries",
          "#time",
          "#statistics",
          "#datascience",
          "#bigdata",
          "#machinelearning",
          "#python",
          "#ai",
          "#timeseriesanalysis",
          "#datavisualization",
          "#dataanalytics",
          "#data",
          "#iot",
          "#analysis",
          "#timeseriesmalaysia",
          "#artificialintelligence",
          "#analytics",
          "#amankharwal",
          "#thecleverprogrammer",
          "#data",
          "#datascience",
          "#dataanalysis",
          "#dataanalytics",
          "#datascientist",
          "#machinelearning",
          "#python",
          "#pythonprogramming",
          "#pythonprojects",
          "#pythoncode",
          "#artificialintelligence",
          "#ai",
          "#deeplearning",
          "#machinelearningprojects",
          "#datascienceprojects",
          "#amankharwal",
          "#thecleverprogrammer",
          "#machinelearningmodels",
          "#stress",
          "#stressdetection",
          "#data",
          "#datascience",
          "#dataanalysis",
          "#dataanalytics",
          "#datascientist",
          "#machinelearning",
          "#python",
          "#pythonprogramming",
          "#pythonprojects",
          "#pythoncode",
          "#artificialintelligence",
          "#ai",
          "#deeplearning",
          "#machinelearningprojects",
          "#datascienceprojects",
          "#amankharwal",
          "#thecleverprogrammer",
          "#machinelearningmodels",
          "#zomato",
          "#business",
          "#casestudy",
          "#businessmodel",
          "#datavisualization",
          "#datascience",
          "#data",
          "#dataanalytics",
          "#machinelearning",
          "#dataanalysis",
          "#artificialintelligence",
          "#python",
          "#datascientist",
          "#bigdata",
          "#deeplearning",
          "#dataviz",
          "#ai",
          "#analytics",
          "#technology",
          "#dataanalyst",
          "#programming",
          "#pythonprogramming",
          "#statistics",
          "#coding",
          "#businessintelligence",
          "#datamining",
          "#tech",
          "#business",
          "#boxplots",
          "#thecleverprogrammer",
          "#amankharwal",
          "#neuralnetwork",
          "#machinelearning",
          "#artificialintelligence",
          "#deeplearning",
          "#python",
          "#ai",
          "#datascience",
          "#neuralnetworks",
          "#programming",
          "#tensorflow",
          "#datascientist",
          "#pythonprogramming",
          "#tech",
          "#technology",
          "#artificialintelligenceai",
          "#machinelearningalgorithms",
          "#computerscience",
          "#coding",
          "#ml",
          "#data",
          "#amankharwal",
          "#thecleverprogrammer",
          "#python",
          "#pythonprogramming",
          "#pythonprojects",
          "#pythoncode",
          "#pythonlearning",
          "#pythondeveloper",
          "#pythoncoding",
          "#pythonprogrammer",
          "#amankharwal",
          "#thecleverprogrammer",
          "#pythonprojects",
          "#programming",
          "#coding",
          "#programmer",
          "#python",
          "#developer",
          "#javascript",
          "#technology",
          "#code",
          "#coder",
          "#java",
          "#html",
          "#computerscience",
          "#tech",
          "#css",
          "#webdeveloper",
          "#software",
          "#webdevelopment",
          "#codinglife",
          "#softwaredeveloper",
          "#linux",
          "#programmingmemes",
          "#webdesign",
          "#programmers",
          "#php",
          "#programminglife",
          "#machinelearning",
          "#hacking",
          "#pythonprogramming",
          "#thecleverprogrammer",
          "#amankharwal",
          "#deeplearning",
          "#machinelearning",
          "#artificialintelligence",
          "#datascience",
          "#ai",
          "#python",
          "#coding",
          "#technology",
          "#programming",
          "#bigdata",
          "#dataanalytics",
          "#datascientist",
          "#data",
          "#computerscience",
          "#tech",
          "#neuralnetwork",
          "#amankharwal",
          "#thecleverprogrammer",
          "#deeplearning",
          "#machinelearning",
          "#artificialintelligence",
          "#datascience",
          "#ai",
          "#python",
          "#coding",
          "#technology",
          "#programming",
          "#bigdata",
          "#dataanalytics",
          "#datascientist",
          "#data",
          "#computerscience",
          "#tech",
          "#neuralnetwork",
          "#amankharwal",
          "#thecleverprogrammer",
          "#data",
          "#datascience",
          "#dataanalysis",
          "#dataanalytics",
          "#datascientist",
          "#machinelearning",
          "#python",
          "#pythonprogramming",
          "#pythonprojects",
          "#pythoncode",
          "#artificialintelligence",
          "#ai",
          "#deeplearning",
          "#machinelearningprojects",
          "#datascienceprojects",
          "#amankharwal",
          "#thecleverprogrammer",
          "#bitcoin",
          "#cryptocurrency",
          "#programming",
          "#coding",
          "#programmer",
          "#python",
          "#developer",
          "#javascript",
          "#technology",
          "#code",
          "#coder",
          "#java",
          "#html",
          "#computerscience",
          "#tech",
          "#css",
          "#webdeveloper",
          "#software",
          "#webdevelopment",
          "#codinglife",
          "#softwaredeveloper",
          "#linux",
          "#programmingmemes",
          "#webdesign",
          "#programmers",
          "#php",
          "#programminglife",
          "#machinelearning",
          "#hacking",
          "#pythonprogramming",
          "#thecleverprogrammer",
          "#amankharwal",
          "#data",
          "#datascience",
          "#dataanalysis",
          "#dataanalytics",
          "#datascientist",
          "#machinelearning",
          "#python",
          "#pythonprogramming",
          "#pythonprojects",
          "#pythoncode",
          "#artificialintelligence",
          "#ai",
          "#deeplearning",
          "#algorithm",
          "#algorithms",
          "#machinelearningalgorithms",
          "#ml",
          "#amankharwal",
          "#thecleverprogrammer",
          "#projects",
          "#casestudies",
          "#data",
          "#datascience",
          "#dataanalysis",
          "#dataanalytics",
          "#datascientist",
          "#machinelearning",
          "#python",
          "#pythonprogramming",
          "#pythonprojects",
          "#pythoncode",
          "#artificialintelligence",
          "#ai",
          "#deeplearning",
          "#machinelearningprojects",
          "#datascienceprojects",
          "#amankharwal",
          "#thecleverprogrammer",
          "#machinelearningmodels",
          "#zomato",
          "#business",
          "#casestudy",
          "#businessmodel",
          "#amazonfinds",
          "#data",
          "#datascience",
          "#dataanalysis",
          "#dataanalytics",
          "#datascientist",
          "#machinelearning",
          "#python",
          "#pythonprogramming",
          "#pythonprojects",
          "#pythoncode",
          "#artificialintelligence",
          "#ai",
          "#deeplearning",
          "#machinelearningprojects",
          "#datascienceprojects",
          "#amankharwal",
          "#thecleverprogrammer",
          "#data",
          "#technology",
          "#datascience",
          "#business",
          "#tech",
          "#bigdata",
          "#dataanalytics",
          "#machinelearning",
          "#ai",
          "#analytics",
          "#datavisualization",
          "#security",
          "#artificialintelligence",
          "#cybersecurity",
          "#programming",
          "#python",
          "#software",
          "#coding",
          "#network",
          "#internet",
          "#cloud",
          "#dataanalysis",
          "#innovation",
          "#datascientist",
          "#database",
          "#amankharwal",
          "#thecleverprogrammer",
          "#google",
          "#programming",
          "#coding",
          "#programmer",
          "#python",
          "#developer",
          "#javascript",
          "#technology",
          "#code",
          "#coder",
          "#java",
          "#html",
          "#computerscience",
          "#tech",
          "#css",
          "#webdeveloper",
          "#software",
          "#webdevelopment",
          "#codinglife",
          "#softwaredeveloper",
          "#linux",
          "#programmingmemes",
          "#webdesign",
          "#programmers",
          "#php",
          "#programminglife",
          "#machinelearning",
          "#hacking",
          "#pythonprogramming",
          "#thecleverprogrammer",
          "#amankharwal",
          "#data",
          "#datascience",
          "#dataanalysis",
          "#dataanalytics",
          "#datascientist",
          "#machinelearning",
          "#python",
          "#pythonprogramming",
          "#pythonprojects",
          "#pythoncode",
          "#artificialintelligence",
          "#ai",
          "#deeplearning",
          "#sentimentanalysis",
          "#sentiment",
          "#nlp",
          "#naturallanguageprocessing",
          "#amankharwal",
          "#thecleverprogrammer",
          "#neuralnetwork",
          "#machinelearning",
          "#artificialintelligence",
          "#deeplearning",
          "#python",
          "#ai",
          "#datascience",
          "#neuralnetworks",
          "#programming",
          "#tensorflow",
          "#datascientist",
          "#pythonprogramming",
          "#tech",
          "#technology",
          "#artificialintelligenceai",
          "#machinelearningalgorithms",
          "#computerscience",
          "#coding",
          "#ml",
          "#data",
          "#amankharwal",
          "#thecleverprogrammer",
          "#data",
          "#datascience",
          "#dataanalysis",
          "#dataanalytics",
          "#datascientist",
          "#machinelearning",
          "#python",
          "#pythonprogramming",
          "#pythonprojects",
          "#pythoncode",
          "#artificialintelligence",
          "#ai",
          "#deeplearning",
          "#sentimentanalysis",
          "#sentiment",
          "#nlp",
          "#naturallanguageprocessing",
          "#amankharwal",
          "#thecleverprogrammer",
          "#data",
          "#technology",
          "#datascience",
          "#business",
          "#tech",
          "#bigdata",
          "#dataanalytics",
          "#machinelearning",
          "#ai",
          "#analytics",
          "#datavisualization",
          "#security",
          "#artificialintelligence",
          "#cybersecurity",
          "#programming",
          "#python",
          "#software",
          "#coding",
          "#network",
          "#internet",
          "#cloud",
          "#dataanalysis",
          "#innovation",
          "#datascientist",
          "#database",
          "#amankharwal",
          "#thecleverprogrammer",
          "#facebook",
          "#data",
          "#datascience",
          "#dataanalysis",
          "#dataanalytics",
          "#datascientist",
          "#machinelearning",
          "#python",
          "#pythonprogramming",
          "#pythonprojects",
          "#pythoncode",
          "#artificialintelligence",
          "#ai",
          "#deeplearning",
          "#sentimentanalysis",
          "#sentiment",
          "#nlp",
          "#naturallanguageprocessing",
          "#amankharwal",
          "#thecleverprogrammer",
          "#data",
          "#datascience",
          "#dataanalysis",
          "#dataanalytics",
          "#datascientist",
          "#machinelearning",
          "#python",
          "#pythonprogramming",
          "#pythonprojects",
          "#pythoncode",
          "#artificialintelligence",
          "#ai",
          "#deeplearning",
          "#sentimentanalysis",
          "#sentiment",
          "#nlp",
          "#naturallanguageprocessing",
          "#amankharwal",
          "#thecleverprogrammer",
          "#neuralnetwork",
          "#machinelearning",
          "#artificialintelligence",
          "#deeplearning",
          "#python",
          "#ai",
          "#datascience",
          "#neuralnetworks",
          "#programming",
          "#tensorflow",
          "#datascientist",
          "#pythonprogramming",
          "#tech",
          "#technology",
          "#artificialintelligenceai",
          "#machinelearningalgorithms",
          "#computerscience",
          "#coding",
          "#ml",
          "#data",
          "#amankharwal",
          "#thecleverprogrammer",
          "#data",
          "#datascience",
          "#dataanalysis",
          "#dataanalytics",
          "#datascientist",
          "#machinelearning",
          "#python",
          "#pythonprogramming",
          "#pythonprojects",
          "#pythoncode",
          "#artificialintelligence",
          "#ai",
          "#deeplearning",
          "#machinelearningprojects",
          "#datascienceprojects",
          "#amankharwal",
          "#thecleverprogrammer",
          "#data",
          "#datascience",
          "#dataanalysis",
          "#dataanalytics",
          "#datascientist",
          "#machinelearning",
          "#python",
          "#pythonprogramming",
          "#pythonprojects",
          "#pythoncode",
          "#artificialintelligence",
          "#ai",
          "#deeplearning",
          "#machinelearningprojects",
          "#datascienceprojects",
          "#amankharwal",
          "#thecleverprogrammer",
          "#interview",
          "#datascienceinterview",
          "#data",
          "#datascience",
          "#dataanalysis",
          "#dataanalytics",
          "#datascientist",
          "#machinelearning",
          "#python",
          "#pythonprogramming",
          "#pythonprojects",
          "#pythoncode",
          "#artificialintelligence",
          "#ai",
          "#deeplearning",
          "#machinelearningprojects",
          "#datascienceprojects",
          "#amankharwal",
          "#thecleverprogrammer",
          "#interview",
          "#neuralnetworks",
          "#python",
          "#pythonprogramming",
          "#pythonprojects",
          "#pythoncode",
          "#pythonlearning",
          "#pythondeveloper",
          "#pythoncoding",
          "#pythonprogrammer",
          "#amankharwal",
          "#thecleverprogrammer",
          "#pythonprojects",
          "#otp",
          "#otpverification",
          "#python",
          "#pythonprogramming",
          "#pythonprojects",
          "#pythoncode",
          "#pythonlearning",
          "#pythondeveloper",
          "#pythoncoding",
          "#pythonprogrammer",
          "#amankharwal",
          "#thecleverprogrammer",
          "#pythonprojects",
          "#qrcodes",
          "#python",
          "#pythonprogramming",
          "#pythonprojects",
          "#pythoncode",
          "#pythonlearning",
          "#pythondeveloper",
          "#pythoncoding",
          "#pythonprogrammer",
          "#amankharwal",
          "#thecleverprogrammer",
          "#pythonprojects",
          "#data",
          "#datascience",
          "#dataanalysis",
          "#dataanalytics",
          "#datascientist",
          "#machinelearning",
          "#python",
          "#pythonprogramming",
          "#pythonprojects",
          "#pythoncode",
          "#artificialintelligence",
          "#ai",
          "#deeplearning",
          "#machinelearningprojects",
          "#datascienceprojects",
          "#amankharwal",
          "#thecleverprogrammer",
          "#dataanalytics",
          "#datascience",
          "#data",
          "#machinelearning",
          "#datavisualization",
          "#bigdata",
          "#artificialintelligence",
          "#datascientist",
          "#python",
          "#analytics",
          "#ai",
          "#dataanalysis",
          "#deeplearning",
          "#technology",
          "#programming",
          "#coding",
          "#dataanalyst",
          "#business",
          "#pythonprogramming",
          "#datamining",
          "#tech",
          "#businessintelligence",
          "#database",
          "#computerscience",
          "#statistics",
          "#powerbi",
          "#dataanalysisprojects",
          "#businessanalytics",
          "#thecleverprogrammer",
          "#amankharwal",
          "#data",
          "#datascience",
          "#dataanalysis",
          "#dataanalytics",
          "#datascientist",
          "#machinelearning",
          "#python",
          "#pythonprogramming",
          "#pythonprojects",
          "#pythoncode",
          "#artificialintelligence",
          "#ai",
          "#deeplearning",
          "#machinelearningprojects",
          "#datascienceprojects",
          "#amankharwal",
          "#thecleverprogrammer",
          "#data",
          "#datascience",
          "#dataanalysis",
          "#dataanalytics",
          "#datascientist",
          "#machinelearning",
          "#python",
          "#pythonprogramming",
          "#pythonprojects",
          "#pythoncode",
          "#artificialintelligence",
          "#ai",
          "#deeplearning",
          "#machinelearningprojects",
          "#datascienceprojects",
          "#amankharwal",
          "#thecleverprogrammer",
          "#timeseries",
          "#time",
          "#statistics",
          "#datascience",
          "#bigdata",
          "#machinelearning",
          "#python",
          "#ai",
          "#timeseriesanalysis",
          "#datavisualization",
          "#dataanalytics",
          "#data",
          "#iot",
          "#analysis",
          "#timeseriesmalaysia",
          "#artificialintelligence",
          "#analytics",
          "#amankharwal",
          "#thecleverprogrammer",
          "#data",
          "#datascience",
          "#dataanalysis",
          "#dataanalytics",
          "#datascientist",
          "#machinelearning",
          "#python",
          "#pythonprogramming",
          "#pythonprojects",
          "#pythoncode",
          "#artificialintelligence",
          "#ai",
          "#deeplearning",
          "#machinelearningprojects",
          "#datascienceprojects",
          "#amankharwal",
          "#thecleverprogrammer",
          "#data",
          "#datascience",
          "#dataanalysis",
          "#dataanalytics",
          "#datascientist",
          "#machinelearning",
          "#python",
          "#pythonprogramming",
          "#pythonprojects",
          "#pythoncode",
          "#artificialintelligence",
          "#ai",
          "#deeplearning",
          "#machinelearningprojects",
          "#datascienceprojects",
          "#amankharwal",
          "#thecleverprogrammer",
          "#data",
          "#datascience",
          "#dataanalysis",
          "#dataanalytics",
          "#datascientist",
          "#machinelearning",
          "#python",
          "#pythonprogramming",
          "#pythonprojects",
          "#pythoncode",
          "#artificialintelligence",
          "#ai",
          "#deeplearning",
          "#machinelearningprojects",
          "#datascienceprojects",
          "#amankharwal",
          "#thecleverprogrammer",
          "#python",
          "#pythonprogramming",
          "#pythonprojects",
          "#pythoncode",
          "#pythonlearning",
          "#pythondeveloper",
          "#pythoncoding",
          "#pythonprogrammer",
          "#amankharwal",
          "#thecleverprogrammer",
          "#pythonprojects",
          "#datavisualization",
          "#datascience",
          "#data",
          "#dataanalytics",
          "#machinelearning",
          "#dataanalysis",
          "#artificialintelligence",
          "#python",
          "#datascientist",
          "#bigdata",
          "#deeplearning",
          "#dataviz",
          "#ai",
          "#analytics",
          "#technology",
          "#dataanalyst",
          "#programming",
          "#pythonprogramming",
          "#statistics",
          "#coding",
          "#businessintelligence",
          "#datamining",
          "#tech",
          "#business",
          "#computerscience",
          "#tableau",
          "#database",
          "#bigdataanalytics",
          "#powerbi",
          "#recommended",
          "#recommendations",
          "#recommendationsystem",
          "#recommendation",
          "#data",
          "#datascience",
          "#dataanalysis",
          "#dataanalytics",
          "#datascientist",
          "#machinelearning",
          "#python",
          "#pythonprogramming",
          "#pythonprojects",
          "#pythoncode",
          "#artificialintelligence",
          "#ai",
          "#amankharwal",
          "#thecleverprogrammer",
          "#datavisualization",
          "#datascience",
          "#data",
          "#dataanalytics",
          "#machinelearning",
          "#dataanalysis",
          "#artificialintelligence",
          "#python",
          "#datascientist",
          "#bigdata",
          "#deeplearning",
          "#dataviz",
          "#ai",
          "#analytics",
          "#technology",
          "#dataanalyst",
          "#programming",
          "#pythonprogramming",
          "#statistics",
          "#amankharwal",
          "#thecleverprogrammer",
          "#data",
          "#datascience",
          "#dataanalysis",
          "#dataanalytics",
          "#datascientist",
          "#machinelearning",
          "#python",
          "#pythonprogramming",
          "#pythonprojects",
          "#pythoncode",
          "#artificialintelligence",
          "#ai",
          "#deeplearning",
          "#machinelearningprojects",
          "#datascienceprojects",
          "#amankharwal",
          "#thecleverprogrammer",
          "#finance",
          "#business",
          "#money",
          "#investing",
          "#coding",
          "#programming",
          "#programmer",
          "#python",
          "#developer",
          "#javascript",
          "#code",
          "#coder",
          "#technology",
          "#html",
          "#computerscience",
          "#codinglife",
          "#java",
          "#webdeveloper",
          "#tech",
          "#css",
          "#webdevelopment",
          "#software",
          "#softwaredeveloper",
          "#interview",
          "#job",
          "#codinginterview",
          "#amankharwal",
          "#thecleverprogrammer",
          "#data",
          "#datascience",
          "#dataanalysis",
          "#dataanalytics",
          "#datascientist",
          "#machinelearning",
          "#python",
          "#pythonprogramming",
          "#pythonprojects",
          "#pythoncode",
          "#artificialintelligence",
          "#ai",
          "#deeplearning",
          "#machinelearningprojects",
          "#datascienceprojects",
          "#amankharwal",
          "#thecleverprogrammer",
          "#healthcare",
          "#health",
          "#covid",
          "#data",
          "#datascience",
          "#dataanalysis",
          "#dataanalytics",
          "#datascientist",
          "#machinelearning",
          "#python",
          "#pythonprogramming",
          "#pythonprojects",
          "#pythoncode",
          "#artificialintelligence",
          "#ai",
          "#dataanalyst",
          "#amankharwal",
          "#thecleverprogrammer",
          "#data",
          "#datascience",
          "#dataanalysis",
          "#dataanalytics",
          "#datascientist",
          "#machinelearning",
          "#python",
          "#pythonprogramming",
          "#pythonprojects",
          "#pythoncode",
          "#artificialintelligence",
          "#ai",
          "#deeplearning",
          "#machinelearningprojects",
          "#datascienceprojects",
          "#amankharwal",
          "#thecleverprogrammer",
          "#data",
          "#datascience",
          "#dataanalysis",
          "#dataanalytics",
          "#datascientist",
          "#machinelearning",
          "#python",
          "#pythonprogramming",
          "#pythonprojects",
          "#pythoncode",
          "#artificialintelligence",
          "#ai",
          "#deeplearning",
          "#algorithm",
          "#algorithms",
          "#machinelearningalgorithms",
          "#amankharwal",
          "#thecleverprogrammer",
          "#python",
          "#pythonprogramming",
          "#pythonprojects",
          "#pythoncode",
          "#pythonlearning",
          "#pythondeveloper",
          "#pythoncoding",
          "#pythonprogrammer",
          "#amankharwal",
          "#thecleverprogrammer",
          "#data",
          "#datascience",
          "#dataanalysis",
          "#dataanalytics",
          "#datascientist",
          "#machinelearning",
          "#python",
          "#pythonprogramming",
          "#pythonprojects",
          "#pythoncode",
          "#artificialintelligence",
          "#ai",
          "#deeplearning",
          "#machinelearningprojects",
          "#datascienceprojects",
          "#amankharwal",
          "#thecleverprogrammer",
          "#bitcoin",
          "#cryptocurrency",
          "#python",
          "#pythonprogramming",
          "#pythonprojects",
          "#pythoncode",
          "#pythonlearning",
          "#pythondeveloper",
          "#pythoncoding",
          "#pythonprogrammer",
          "#amankharwal",
          "#thecleverprogrammer",
          "#python",
          "#pythonprogramming",
          "#pythonprojects",
          "#pythoncode",
          "#pythonlearning",
          "#pythondeveloper",
          "#pythoncoding",
          "#pythonprogrammer",
          "#amankharwal",
          "#thecleverprogrammer",
          "#pythonprojects",
          "#recommended",
          "#recommendations",
          "#recommendationsystem",
          "#recommendation",
          "#data",
          "#datascience",
          "#dataanalysis",
          "#dataanalytics",
          "#datascientist",
          "#machinelearning",
          "#python",
          "#pythonprogramming",
          "#pythonprojects",
          "#pythoncode",
          "#artificialintelligence",
          "#ai",
          "#amankharwal",
          "#thecleverprogrammer",
          "#data",
          "#datascience",
          "#dataanalysis",
          "#dataanalytics",
          "#datascientist",
          "#machinelearning",
          "#python",
          "#pythonprogramming",
          "#pythonprojects",
          "#pythoncode",
          "#artificialintelligence",
          "#ai",
          "#deeplearning",
          "#sentimentanalysis",
          "#sentiment",
          "#nlp",
          "#naturallanguageprocessing",
          "#amankharwal",
          "#thecleverprogrammer",
          "#flipkart",
          "#datavisualization",
          "#datascience",
          "#data",
          "#dataanalytics",
          "#machinelearning",
          "#dataanalysis",
          "#artificialintelligence",
          "#python",
          "#datascientist",
          "#bigdata",
          "#deeplearning",
          "#dataviz",
          "#ai",
          "#analytics",
          "#technology",
          "#dataanalyst",
          "#programming",
          "#pythonprogramming",
          "#statistics",
          "#amankharwal",
          "#thecleverprogrammer",
          "#data",
          "#datascience",
          "#dataanalysis",
          "#dataanalytics",
          "#datascientist",
          "#machinelearning",
          "#python",
          "#pythonprogramming",
          "#pythonprojects",
          "#pythoncode",
          "#artificialintelligence",
          "#ai",
          "#deeplearning",
          "#machinelearningprojects",
          "#datascienceprojects",
          "#amankharwal",
          "#thecleverprogrammer",
          "#news",
          "#coding",
          "#programming",
          "#programmer",
          "#python",
          "#developer",
          "#javascript",
          "#code",
          "#coder",
          "#technology",
          "#html",
          "#computerscience",
          "#codinglife",
          "#java",
          "#webdeveloper",
          "#tech",
          "#css",
          "#webdevelopment",
          "#software",
          "#softwaredeveloper",
          "#interview",
          "#job",
          "#codinginterview",
          "#amankharwal",
          "#thecleverprogrammer",
          "#data",
          "#datascience",
          "#dataanalysis",
          "#dataanalytics",
          "#datascientist",
          "#machinelearning",
          "#python",
          "#pythonprogramming",
          "#pythonprojects",
          "#pythoncode",
          "#artificialintelligence",
          "#ai",
          "#deeplearning",
          "#machinelearningprojects",
          "#datascienceprojects",
          "#amankharwal",
          "#thecleverprogrammer",
          "#healthcare",
          "#health",
          "#covid",
          "#data",
          "#datascience",
          "#dataanalysis",
          "#dataanalytics",
          "#datascientist",
          "#machinelearning",
          "#python",
          "#pythonprogramming",
          "#pythonprojects",
          "#pythoncode",
          "#artificialintelligence",
          "#ai",
          "#dataanalyst",
          "#amankharwal",
          "#thecleverprogrammer",
          "#python",
          "#pythonprogramming",
          "#pythonprojects",
          "#pythoncode",
          "#pythonlearning",
          "#pythondeveloper",
          "#pythoncoding",
          "#pythonprogrammer",
          "#amankharwal",
          "#thecleverprogrammer",
          "#naturallanguageprocessing",
          "#nlp",
          "#data",
          "#datascience",
          "#dataanalysis",
          "#dataanalytics",
          "#datascientist",
          "#machinelearning",
          "#python",
          "#pythonprogramming",
          "#pythonprojects",
          "#pythoncode",
          "#artificialintelligence",
          "#ai",
          "#deeplearning",
          "#algorithm",
          "#algorithms",
          "#machinelearningalgorithms",
          "#amankharwal",
          "#thecleverprogrammer",
          "#data",
          "#datascience",
          "#dataanalysis",
          "#dataanalytics",
          "#datascientist",
          "#machinelearning",
          "#python",
          "#pythonprogramming",
          "#pythonprojects",
          "#pythoncode",
          "#artificialintelligence",
          "#ai",
          "#deeplearning",
          "#machinelearningprojects",
          "#datascienceprojects",
          "#amankharwal",
          "#thecleverprogrammer",
          "#python",
          "#pythonprogramming",
          "#pythonprojects",
          "#pythoncode",
          "#pythonlearning",
          "#pythondeveloper",
          "#pythoncoding",
          "#pythonprogrammer",
          "#amankharwal",
          "#thecleverprogrammer",
          "#pythonprogram",
          "@codergallery",
          "#data",
          "#datascience",
          "#dataanalysis",
          "#dataanalytics",
          "#datascientist",
          "#machinelearning",
          "#python",
          "#pythonprogramming",
          "#pythonprojects",
          "#pythoncode",
          "#artificialintelligence",
          "#ai",
          "#deeplearning",
          "#machinelearningprojects",
          "#datascienceprojects",
          "#amankharwal",
          "#thecleverprogrammer",
          "#whatsapp",
          "#data",
          "#datascience",
          "#dataanalysis",
          "#dataanalytics",
          "#datascientist",
          "#machinelearning",
          "#python",
          "#pythonprogramming",
          "#pythonprojects",
          "#pythoncode",
          "#artificialintelligence",
          "#ai",
          "#deeplearning",
          "#machinelearningprojects",
          "#datascienceprojects",
          "#amankharwal",
          "#thecleverprogrammer",
          "#data",
          "#datascience",
          "#dataanalysis",
          "#dataanalytics",
          "#datascientist",
          "#machinelearning",
          "#python",
          "#pythonprogramming",
          "#pythonprojects",
          "#pythoncode",
          "#artificialintelligence",
          "#ai",
          "#deeplearning",
          "#machinelearningprojects",
          "#datascienceprojects",
          "#amankharwal",
          "#thecleverprogrammer",
          "#roadmap",
          "#timeseries",
          "#time",
          "#statistics",
          "#datascience",
          "#bigdata",
          "#machinelearning",
          "#python",
          "#ai",
          "#timeseriesanalysis",
          "#datavisualization",
          "#dataanalytics",
          "#data",
          "#iot",
          "#analysis",
          "#timeseriesmalaysia",
          "#artificialintelligence",
          "#analytics",
          "#amankharwal",
          "#thecleverprogrammer",
          "#career",
          "#job",
          "#jobs",
          "#jobsearch",
          "#education",
          "#business",
          "#success",
          "#careergoals",
          "#motivation",
          "#work",
          "#careerdevelopment",
          "#careers",
          "#goals",
          "#resume",
          "#students",
          "#careeradvice",
          "#datascience",
          "#marketing",
          "#digitalmarketing",
          "#media",
          "#socialmedia",
          "#IT",
          "#webdevelopment",
          "#amankharwal",
          "#thecleverprogrammer",
          "#timeseries",
          "#time",
          "#statistics",
          "#datascience",
          "#bigdata",
          "#machinelearning",
          "#python",
          "#ai",
          "#timeseriesanalysis",
          "#datavisualization",
          "#dataanalytics",
          "#data",
          "#iot",
          "#analysis",
          "#timeseriesmalaysia",
          "#artificialintelligence",
          "#analytics",
          "#amankharwal",
          "#thecleverprogrammer",
          "#data",
          "#datascience",
          "#dataanalysis",
          "#dataanalytics",
          "#datascientist",
          "#machinelearning",
          "#python",
          "#pythonprogramming",
          "#pythonprojects",
          "#pythoncode",
          "#artificialintelligence",
          "#ai",
          "#deeplearning",
          "#machinelearningprojects",
          "#datascienceprojects",
          "#amankharwal",
          "#thecleverprogrammer",
          "#machinelearningmodels",
          "#stress",
          "#stressdetection",
          "#data",
          "#datascience",
          "#dataanalysis",
          "#dataanalytics",
          "#datascientist",
          "#machinelearning",
          "#python",
          "#pythonprogramming",
          "#pythonprojects",
          "#pythoncode",
          "#artificialintelligence",
          "#ai",
          "#deeplearning",
          "#machinelearningprojects",
          "#datascienceprojects",
          "#amankharwal",
          "#thecleverprogrammer",
          "#machinelearningmodels",
          "#zomato",
          "#business",
          "#casestudy",
          "#businessmodel",
          "#data",
          "#datascience",
          "#dataanalysis",
          "#dataanalytics",
          "#datascientist",
          "#machinelearning",
          "#python",
          "#pythonprogramming",
          "#pythonprojects",
          "#pythoncode",
          "#artificialintelligence",
          "#ai",
          "#deeplearning",
          "#machinelearningprojects",
          "#datascienceprojects",
          "#amankharwal",
          "#thecleverprogrammer",
          "#dataanalytics",
          "#datascience",
          "#data",
          "#machinelearning",
          "#datavisualization",
          "#bigdata",
          "#artificialintelligence",
          "#datascientist",
          "#python",
          "#analytics",
          "#ai",
          "#dataanalysis",
          "#deeplearning",
          "#technology",
          "#programming",
          "#coding",
          "#dataanalyst",
          "#business",
          "#pythonprogramming",
          "#datamining",
          "#tech",
          "#businessintelligence",
          "#database",
          "#computerscience",
          "#statistics",
          "#powerbi",
          "#dataanalysisprojects",
          "#businessanalytics",
          "#thecleverprogrammer",
          "#amankharwal",
          "#data",
          "#datascience",
          "#dataanalysis",
          "#dataanalytics",
          "#datascientist",
          "#machinelearning",
          "#python",
          "#pythonprogramming",
          "#pythonprojects",
          "#pythoncode",
          "#artificialintelligence",
          "#ai",
          "#deeplearning",
          "#machinelearningprojects",
          "#datascienceprojects",
          "#amankharwal",
          "#thecleverprogrammer",
          "#data",
          "#datascience",
          "#dataanalysis",
          "#dataanalytics",
          "#datascientist",
          "#machinelearning",
          "#python",
          "#pythonprogramming",
          "#pythonprojects",
          "#pythoncode",
          "#artificialintelligence",
          "#ai",
          "#deeplearning",
          "#machinelearningprojects",
          "#datascienceprojects",
          "#amankharwal",
          "#thecleverprogrammer",
          "#timeseries",
          "#time",
          "#statistics",
          "#datascience",
          "#bigdata",
          "#machinelearning",
          "#python",
          "#ai",
          "#timeseriesanalysis",
          "#datavisualization",
          "#dataanalytics",
          "#data",
          "#iot",
          "#analysis",
          "#timeseriesmalaysia",
          "#artificialintelligence",
          "#analytics",
          "#amankharwal",
          "#thecleverprogrammer",
          "#programming",
          "#coding",
          "#programmer",
          "#python",
          "#developer",
          "#javascript",
          "#technology",
          "#code",
          "#coder",
          "#java",
          "#html",
          "#computerscience",
          "#tech",
          "#css",
          "#webdeveloper",
          "#software",
          "#webdevelopment",
          "#codinglife",
          "#softwaredeveloper",
          "#linux",
          "#programmingmemes",
          "#webdesign",
          "#programmers",
          "#php",
          "#programminglife",
          "#machinelearning",
          "#hacking",
          "#pythonprogramming",
          "#thecleverprogrammer",
          "#amankharwal",
          "#deeplearning",
          "#machinelearning",
          "#artificialintelligence",
          "#datascience",
          "#ai",
          "#python",
          "#coding",
          "#technology",
          "#programming",
          "#bigdata",
          "#dataanalytics",
          "#datascientist",
          "#data",
          "#computerscience",
          "#tech",
          "#neuralnetwork",
          "#amankharwal",
          "#thecleverprogrammer",
          "#deeplearning",
          "#machinelearning",
          "#artificialintelligence",
          "#datascience",
          "#ai",
          "#python",
          "#coding",
          "#technology",
          "#programming",
          "#bigdata",
          "#dataanalytics",
          "#datascientist",
          "#data",
          "#computerscience",
          "#tech",
          "#neuralnetwork",
          "#amankharwal",
          "#thecleverprogrammer",
          "#data",
          "#datascience",
          "#dataanalysis",
          "#dataanalytics",
          "#datascientist",
          "#machinelearning",
          "#python",
          "#pythonprogramming",
          "#pythonprojects",
          "#pythoncode",
          "#artificialintelligence",
          "#ai",
          "#deeplearning",
          "#machinelearningprojects",
          "#datascienceprojects",
          "#amankharwal",
          "#thecleverprogrammer",
          "#bitcoin",
          "#cryptocurrency",
          "#programming",
          "#coding",
          "#programmer",
          "#python",
          "#developer",
          "#javascript",
          "#technology",
          "#code",
          "#coder",
          "#java",
          "#html",
          "#computerscience",
          "#tech",
          "#css",
          "#webdeveloper",
          "#software",
          "#webdevelopment",
          "#codinglife",
          "#softwaredeveloper",
          "#linux",
          "#programmingmemes",
          "#webdesign",
          "#programmers",
          "#php",
          "#programminglife",
          "#machinelearning",
          "#hacking",
          "#pythonprogramming",
          "#thecleverprogrammer",
          "#amankharwal",
          "#data",
          "#datascience",
          "#dataanalysis",
          "#dataanalytics",
          "#datascientist",
          "#machinelearning",
          "#python",
          "#pythonprogramming",
          "#pythonprojects",
          "#pythoncode",
          "#artificialintelligence",
          "#ai",
          "#deeplearning",
          "#algorithm",
          "#algorithms",
          "#machinelearningalgorithms",
          "#ml",
          "#amankharwal",
          "#thecleverprogrammer",
          "#projects",
          "#casestudies",
          "#data",
          "#datascience",
          "#dataanalysis",
          "#dataanalytics",
          "#datascientist",
          "#machinelearning",
          "#python",
          "#pythonprogramming",
          "#pythonprojects",
          "#pythoncode",
          "#artificialintelligence",
          "#ai",
          "#deeplearning",
          "#machinelearningprojects",
          "#datascienceprojects",
          "#amankharwal",
          "#thecleverprogrammer",
          "#machinelearningmodels",
          "#zomato",
          "#business",
          "#casestudy",
          "#businessmodel",
          "#amazonfinds",
          "#data",
          "#datascience",
          "#dataanalysis",
          "#dataanalytics",
          "#datascientist",
          "#machinelearning",
          "#python",
          "#pythonprogramming",
          "#pythonprojects",
          "#pythoncode",
          "#artificialintelligence",
          "#ai",
          "#deeplearning",
          "#machinelearningprojects",
          "#datascienceprojects",
          "#amankharwal",
          "#thecleverprogrammer",
          "#roadmap",
          "#data",
          "#datascience",
          "#dataanalysis",
          "#dataanalytics",
          "#datascientist",
          "#machinelearning",
          "#python",
          "#pythonprogramming",
          "#pythonprojects",
          "#pythoncode",
          "#artificialintelligence",
          "#ai",
          "#deeplearning",
          "#machinelearningprojects",
          "#datascienceprojects",
          "#amankharwal",
          "#thecleverprogrammer",
          "#data",
          "#datascience",
          "#dataanalysis",
          "#dataanalytics",
          "#datascientist",
          "#machinelearning",
          "#python",
          "#pythonprogramming",
          "#pythonprojects",
          "#pythoncode",
          "#artificialintelligence",
          "#ai",
          "#deeplearning",
          "#sentimentanalysis",
          "#sentiment",
          "#nlp",
          "#naturallanguageprocessing",
          "#amankharwal",
          "#thecleverprogrammer",
          "#ukraine",
          "#python",
          "#pythonprogramming",
          "#pythonprojects",
          "#pythoncode",
          "#pythonlearning",
          "#pythondeveloper",
          "#pythoncoding",
          "#pythonprogrammer",
          "#amankharwal",
          "#thecleverprogrammer",
          "#pythonprojects",
          "#otp",
          "#otpverification",
          "#python",
          "#pythonprogramming",
          "#pythonprojects",
          "#pythoncode",
          "#pythonlearning",
          "#pythondeveloper",
          "#pythoncoding",
          "#pythonprogrammer",
          "#amankharwal",
          "#thecleverprogrammer",
          "#coding",
          "#programming",
          "#computerscience",
          "#datascience",
          "#webdevelopment",
          "#machinelearning",
          "#data",
          "#datascience",
          "#dataanalysis",
          "#dataanalytics",
          "#datascientist",
          "#machinelearning",
          "#python",
          "#pythonprogramming",
          "#pythonprojects",
          "#pythoncode",
          "#artificialintelligence",
          "#ai",
          "#deeplearning",
          "#machinelearningprojects",
          "#datascienceprojects",
          "#amankharwal",
          "#thecleverprogrammer",
          "#data",
          "#datascience",
          "#dataanalysis",
          "#dataanalytics",
          "#datascientist",
          "#machinelearning",
          "#python",
          "#pythonprogramming",
          "#pythonprojects",
          "#pythoncode",
          "#artificialintelligence",
          "#ai",
          "#deeplearning",
          "#machinelearningprojects",
          "#datascienceprojects",
          "#amankharwal",
          "#thecleverprogrammer",
          "#data",
          "#datascience",
          "#dataanalysis",
          "#dataanalytics",
          "#datascientist",
          "#machinelearning",
          "#python",
          "#pythonprogramming",
          "#pythonprojects",
          "#pythoncode",
          "#artificialintelligence",
          "#ai",
          "#deeplearning",
          "#machinelearningprojects",
          "#datascienceprojects",
          "#amankharwal",
          "#thecleverprogrammer",
          "#instagram",
          "#instagramreach",
          "#machinelearning",
          "#machinelearningalgorithms",
          "#datascience",
          "#dataanalysis",
          "#dataanalytics",
          "#datascientist",
          "#python",
          "#pythonprogramming",
          "#pythonprojects",
          "#pythoncode",
          "#artificialintelligence",
          "#ai",
          "#deeplearning",
          "#algorithm",
          "#algorithms",
          "#amankharwal",
          "#thecleverprogrammer",
          "#datascience",
          "#datasciencejobs",
          "#datasciencetraining",
          "#datascienceeducation",
          "#datasciencecourse",
          "#data",
          "#dataanalysis",
          "#dataanalytics",
          "#datascientist",
          "#machinelearning",
          "#artificialintelligence",
          "#ai",
          "#deeplearning",
          "#machinelearningprojects",
          "#datascienceprojects",
          "#amankharwal",
          "#thecleverprogrammer",
          "#sql",
          "#mysql",
          "#datascience",
          "#datasciencejobs",
          "#datasciencetraining",
          "#datascienceeducation",
          "#datasciencecourse",
          "#data",
          "#dataanalysis",
          "#dataanalytics",
          "#datascientist",
          "#machinelearning",
          "#artificialintelligence",
          "#ai",
          "#deeplearning",
          "#machinelearningprojects",
          "#datascienceprojects",
          "#amankharwal",
          "#thecleverprogrammer",
          "#datavisualization",
          "#datascience",
          "#datasciencejobs",
          "#datasciencetraining",
          "#datascienceeducation",
          "#datasciencecourse",
          "#data",
          "#dataanalysis",
          "#dataanalytics",
          "#datascientist",
          "#machinelearning",
          "#artificialintelligence",
          "#ai",
          "#deeplearning",
          "#machinelearningprojects",
          "#datascienceprojects",
          "#amankharwal",
          "#thecleverprogrammer",
          "#python",
          "#pythonprogramming",
          "#pythoncode",
          "#pythonlearning",
          "#pythondeveloper",
          "#pythonprogrammer",
          "#pythonprojects",
          "#python3",
          "#pythoncoding",
          "#pythonprogramminglanguage",
          "#amankharwal",
          "#thecleverprogrammer",
          "#nlp",
          "#naturallanguageprocessing",
          "#python",
          "#pythonprogramming",
          "#pythoncode",
          "#pythonlearning",
          "#pythondeveloper",
          "#pythonprogrammer",
          "#pythonprojects",
          "#python3",
          "#pythoncoding",
          "#pythonprogramminglanguage",
          "#amankharwal",
          "#thecleverprogrammer",
          "#datascience",
          "#datasciencejobs",
          "#datasciencetraining",
          "#datascienceeducation",
          "#datasciencecourse",
          "#data",
          "#dataanalysis",
          "#dataanalytics",
          "#datascientist",
          "#machinelearning",
          "#artificialintelligence",
          "#ai",
          "#deeplearning",
          "#machinelearningprojects",
          "#datascienceprojects",
          "#amankharwal",
          "#thecleverprogrammer",
          "#datascience",
          "#datasciencejobs",
          "#datasciencetraining",
          "#datascienceeducation",
          "#datasciencecourse",
          "#data",
          "#dataanalysis",
          "#dataanalytics",
          "#datascientist",
          "#machinelearning",
          "#artificialintelligence",
          "#ai",
          "#deeplearning",
          "#machinelearningprojects",
          "#datascienceprojects",
          "#amankharwal",
          "#thecleverprogrammer",
          "#machinelearning",
          "#machinelearningalgorithms",
          "#datascience",
          "#dataanalysis",
          "#dataanalytics",
          "#datascientist",
          "#python",
          "#pythonprogramming",
          "#pythonprojects",
          "#pythoncode",
          "#artificialintelligence",
          "#ai",
          "#deeplearning",
          "#algorithm",
          "#algorithms",
          "#amankharwal",
          "#thecleverprogrammer",
          "#clustering",
          "#machinelearning",
          "#machinelearningalgorithms",
          "#datascience",
          "#dataanalysis",
          "#dataanalytics",
          "#datascientist",
          "#python",
          "#pythonprogramming",
          "#pythonprojects",
          "#pythoncode",
          "#artificialintelligence",
          "#ai",
          "#deeplearning",
          "#algorithm",
          "#algorithms",
          "#amankharwal",
          "#thecleverprogrammer",
          "#clustering",
          "#datascience",
          "#datasciencejobs",
          "#datasciencetraining",
          "#datascienceeducation",
          "#datasciencecourse",
          "#data",
          "#dataanalysis",
          "#dataanalytics",
          "#datascientist",
          "#machinelearning",
          "#artificialintelligence",
          "#ai",
          "#deeplearning",
          "#machinelearningprojects",
          "#datascienceprojects",
          "#amankharwal",
          "#thecleverprogrammer",
          "#python",
          "#pythonprogramming",
          "#pythonprojects",
          "#pythoncode",
          "#pythonlearning",
          "#pythondeveloper",
          "#pythoncoding",
          "#pythonprogrammer",
          "#amankharwal",
          "#thecleverprogrammer",
          "#pythonprojects"
         ],
         "xaxis": "x",
         "yaxis": "y"
        }
       ],
       "layout": {
        "barmode": "relative",
        "legend": {
         "title": {
          "text": "variable"
         },
         "tracegroupgap": 0
        },
        "template": {
         "data": {
          "bar": [
           {
            "error_x": {
             "color": "#2a3f5f"
            },
            "error_y": {
             "color": "#2a3f5f"
            },
            "marker": {
             "line": {
              "color": "white",
              "width": 0.5
             },
             "pattern": {
              "fillmode": "overlay",
              "size": 10,
              "solidity": 0.2
             }
            },
            "type": "bar"
           }
          ],
          "barpolar": [
           {
            "marker": {
             "line": {
              "color": "white",
              "width": 0.5
             },
             "pattern": {
              "fillmode": "overlay",
              "size": 10,
              "solidity": 0.2
             }
            },
            "type": "barpolar"
           }
          ],
          "carpet": [
           {
            "aaxis": {
             "endlinecolor": "#2a3f5f",
             "gridcolor": "#C8D4E3",
             "linecolor": "#C8D4E3",
             "minorgridcolor": "#C8D4E3",
             "startlinecolor": "#2a3f5f"
            },
            "baxis": {
             "endlinecolor": "#2a3f5f",
             "gridcolor": "#C8D4E3",
             "linecolor": "#C8D4E3",
             "minorgridcolor": "#C8D4E3",
             "startlinecolor": "#2a3f5f"
            },
            "type": "carpet"
           }
          ],
          "choropleth": [
           {
            "colorbar": {
             "outlinewidth": 0,
             "ticks": ""
            },
            "type": "choropleth"
           }
          ],
          "contour": [
           {
            "colorbar": {
             "outlinewidth": 0,
             "ticks": ""
            },
            "colorscale": [
             [
              0,
              "#0d0887"
             ],
             [
              0.1111111111111111,
              "#46039f"
             ],
             [
              0.2222222222222222,
              "#7201a8"
             ],
             [
              0.3333333333333333,
              "#9c179e"
             ],
             [
              0.4444444444444444,
              "#bd3786"
             ],
             [
              0.5555555555555556,
              "#d8576b"
             ],
             [
              0.6666666666666666,
              "#ed7953"
             ],
             [
              0.7777777777777778,
              "#fb9f3a"
             ],
             [
              0.8888888888888888,
              "#fdca26"
             ],
             [
              1,
              "#f0f921"
             ]
            ],
            "type": "contour"
           }
          ],
          "contourcarpet": [
           {
            "colorbar": {
             "outlinewidth": 0,
             "ticks": ""
            },
            "type": "contourcarpet"
           }
          ],
          "heatmap": [
           {
            "colorbar": {
             "outlinewidth": 0,
             "ticks": ""
            },
            "colorscale": [
             [
              0,
              "#0d0887"
             ],
             [
              0.1111111111111111,
              "#46039f"
             ],
             [
              0.2222222222222222,
              "#7201a8"
             ],
             [
              0.3333333333333333,
              "#9c179e"
             ],
             [
              0.4444444444444444,
              "#bd3786"
             ],
             [
              0.5555555555555556,
              "#d8576b"
             ],
             [
              0.6666666666666666,
              "#ed7953"
             ],
             [
              0.7777777777777778,
              "#fb9f3a"
             ],
             [
              0.8888888888888888,
              "#fdca26"
             ],
             [
              1,
              "#f0f921"
             ]
            ],
            "type": "heatmap"
           }
          ],
          "heatmapgl": [
           {
            "colorbar": {
             "outlinewidth": 0,
             "ticks": ""
            },
            "colorscale": [
             [
              0,
              "#0d0887"
             ],
             [
              0.1111111111111111,
              "#46039f"
             ],
             [
              0.2222222222222222,
              "#7201a8"
             ],
             [
              0.3333333333333333,
              "#9c179e"
             ],
             [
              0.4444444444444444,
              "#bd3786"
             ],
             [
              0.5555555555555556,
              "#d8576b"
             ],
             [
              0.6666666666666666,
              "#ed7953"
             ],
             [
              0.7777777777777778,
              "#fb9f3a"
             ],
             [
              0.8888888888888888,
              "#fdca26"
             ],
             [
              1,
              "#f0f921"
             ]
            ],
            "type": "heatmapgl"
           }
          ],
          "histogram": [
           {
            "marker": {
             "pattern": {
              "fillmode": "overlay",
              "size": 10,
              "solidity": 0.2
             }
            },
            "type": "histogram"
           }
          ],
          "histogram2d": [
           {
            "colorbar": {
             "outlinewidth": 0,
             "ticks": ""
            },
            "colorscale": [
             [
              0,
              "#0d0887"
             ],
             [
              0.1111111111111111,
              "#46039f"
             ],
             [
              0.2222222222222222,
              "#7201a8"
             ],
             [
              0.3333333333333333,
              "#9c179e"
             ],
             [
              0.4444444444444444,
              "#bd3786"
             ],
             [
              0.5555555555555556,
              "#d8576b"
             ],
             [
              0.6666666666666666,
              "#ed7953"
             ],
             [
              0.7777777777777778,
              "#fb9f3a"
             ],
             [
              0.8888888888888888,
              "#fdca26"
             ],
             [
              1,
              "#f0f921"
             ]
            ],
            "type": "histogram2d"
           }
          ],
          "histogram2dcontour": [
           {
            "colorbar": {
             "outlinewidth": 0,
             "ticks": ""
            },
            "colorscale": [
             [
              0,
              "#0d0887"
             ],
             [
              0.1111111111111111,
              "#46039f"
             ],
             [
              0.2222222222222222,
              "#7201a8"
             ],
             [
              0.3333333333333333,
              "#9c179e"
             ],
             [
              0.4444444444444444,
              "#bd3786"
             ],
             [
              0.5555555555555556,
              "#d8576b"
             ],
             [
              0.6666666666666666,
              "#ed7953"
             ],
             [
              0.7777777777777778,
              "#fb9f3a"
             ],
             [
              0.8888888888888888,
              "#fdca26"
             ],
             [
              1,
              "#f0f921"
             ]
            ],
            "type": "histogram2dcontour"
           }
          ],
          "mesh3d": [
           {
            "colorbar": {
             "outlinewidth": 0,
             "ticks": ""
            },
            "type": "mesh3d"
           }
          ],
          "parcoords": [
           {
            "line": {
             "colorbar": {
              "outlinewidth": 0,
              "ticks": ""
             }
            },
            "type": "parcoords"
           }
          ],
          "pie": [
           {
            "automargin": true,
            "type": "pie"
           }
          ],
          "scatter": [
           {
            "fillpattern": {
             "fillmode": "overlay",
             "size": 10,
             "solidity": 0.2
            },
            "type": "scatter"
           }
          ],
          "scatter3d": [
           {
            "line": {
             "colorbar": {
              "outlinewidth": 0,
              "ticks": ""
             }
            },
            "marker": {
             "colorbar": {
              "outlinewidth": 0,
              "ticks": ""
             }
            },
            "type": "scatter3d"
           }
          ],
          "scattercarpet": [
           {
            "marker": {
             "colorbar": {
              "outlinewidth": 0,
              "ticks": ""
             }
            },
            "type": "scattercarpet"
           }
          ],
          "scattergeo": [
           {
            "marker": {
             "colorbar": {
              "outlinewidth": 0,
              "ticks": ""
             }
            },
            "type": "scattergeo"
           }
          ],
          "scattergl": [
           {
            "marker": {
             "colorbar": {
              "outlinewidth": 0,
              "ticks": ""
             }
            },
            "type": "scattergl"
           }
          ],
          "scattermapbox": [
           {
            "marker": {
             "colorbar": {
              "outlinewidth": 0,
              "ticks": ""
             }
            },
            "type": "scattermapbox"
           }
          ],
          "scatterpolar": [
           {
            "marker": {
             "colorbar": {
              "outlinewidth": 0,
              "ticks": ""
             }
            },
            "type": "scatterpolar"
           }
          ],
          "scatterpolargl": [
           {
            "marker": {
             "colorbar": {
              "outlinewidth": 0,
              "ticks": ""
             }
            },
            "type": "scatterpolargl"
           }
          ],
          "scatterternary": [
           {
            "marker": {
             "colorbar": {
              "outlinewidth": 0,
              "ticks": ""
             }
            },
            "type": "scatterternary"
           }
          ],
          "surface": [
           {
            "colorbar": {
             "outlinewidth": 0,
             "ticks": ""
            },
            "colorscale": [
             [
              0,
              "#0d0887"
             ],
             [
              0.1111111111111111,
              "#46039f"
             ],
             [
              0.2222222222222222,
              "#7201a8"
             ],
             [
              0.3333333333333333,
              "#9c179e"
             ],
             [
              0.4444444444444444,
              "#bd3786"
             ],
             [
              0.5555555555555556,
              "#d8576b"
             ],
             [
              0.6666666666666666,
              "#ed7953"
             ],
             [
              0.7777777777777778,
              "#fb9f3a"
             ],
             [
              0.8888888888888888,
              "#fdca26"
             ],
             [
              1,
              "#f0f921"
             ]
            ],
            "type": "surface"
           }
          ],
          "table": [
           {
            "cells": {
             "fill": {
              "color": "#EBF0F8"
             },
             "line": {
              "color": "white"
             }
            },
            "header": {
             "fill": {
              "color": "#C8D4E3"
             },
             "line": {
              "color": "white"
             }
            },
            "type": "table"
           }
          ]
         },
         "layout": {
          "annotationdefaults": {
           "arrowcolor": "#2a3f5f",
           "arrowhead": 0,
           "arrowwidth": 1
          },
          "autotypenumbers": "strict",
          "coloraxis": {
           "colorbar": {
            "outlinewidth": 0,
            "ticks": ""
           }
          },
          "colorscale": {
           "diverging": [
            [
             0,
             "#8e0152"
            ],
            [
             0.1,
             "#c51b7d"
            ],
            [
             0.2,
             "#de77ae"
            ],
            [
             0.3,
             "#f1b6da"
            ],
            [
             0.4,
             "#fde0ef"
            ],
            [
             0.5,
             "#f7f7f7"
            ],
            [
             0.6,
             "#e6f5d0"
            ],
            [
             0.7,
             "#b8e186"
            ],
            [
             0.8,
             "#7fbc41"
            ],
            [
             0.9,
             "#4d9221"
            ],
            [
             1,
             "#276419"
            ]
           ],
           "sequential": [
            [
             0,
             "#0d0887"
            ],
            [
             0.1111111111111111,
             "#46039f"
            ],
            [
             0.2222222222222222,
             "#7201a8"
            ],
            [
             0.3333333333333333,
             "#9c179e"
            ],
            [
             0.4444444444444444,
             "#bd3786"
            ],
            [
             0.5555555555555556,
             "#d8576b"
            ],
            [
             0.6666666666666666,
             "#ed7953"
            ],
            [
             0.7777777777777778,
             "#fb9f3a"
            ],
            [
             0.8888888888888888,
             "#fdca26"
            ],
            [
             1,
             "#f0f921"
            ]
           ],
           "sequentialminus": [
            [
             0,
             "#0d0887"
            ],
            [
             0.1111111111111111,
             "#46039f"
            ],
            [
             0.2222222222222222,
             "#7201a8"
            ],
            [
             0.3333333333333333,
             "#9c179e"
            ],
            [
             0.4444444444444444,
             "#bd3786"
            ],
            [
             0.5555555555555556,
             "#d8576b"
            ],
            [
             0.6666666666666666,
             "#ed7953"
            ],
            [
             0.7777777777777778,
             "#fb9f3a"
            ],
            [
             0.8888888888888888,
             "#fdca26"
            ],
            [
             1,
             "#f0f921"
            ]
           ]
          },
          "colorway": [
           "#636efa",
           "#EF553B",
           "#00cc96",
           "#ab63fa",
           "#FFA15A",
           "#19d3f3",
           "#FF6692",
           "#B6E880",
           "#FF97FF",
           "#FECB52"
          ],
          "font": {
           "color": "#2a3f5f"
          },
          "geo": {
           "bgcolor": "white",
           "lakecolor": "white",
           "landcolor": "white",
           "showlakes": true,
           "showland": true,
           "subunitcolor": "#C8D4E3"
          },
          "hoverlabel": {
           "align": "left"
          },
          "hovermode": "closest",
          "mapbox": {
           "style": "light"
          },
          "paper_bgcolor": "white",
          "plot_bgcolor": "white",
          "polar": {
           "angularaxis": {
            "gridcolor": "#EBF0F8",
            "linecolor": "#EBF0F8",
            "ticks": ""
           },
           "bgcolor": "white",
           "radialaxis": {
            "gridcolor": "#EBF0F8",
            "linecolor": "#EBF0F8",
            "ticks": ""
           }
          },
          "scene": {
           "xaxis": {
            "backgroundcolor": "white",
            "gridcolor": "#DFE8F3",
            "gridwidth": 2,
            "linecolor": "#EBF0F8",
            "showbackground": true,
            "ticks": "",
            "zerolinecolor": "#EBF0F8"
           },
           "yaxis": {
            "backgroundcolor": "white",
            "gridcolor": "#DFE8F3",
            "gridwidth": 2,
            "linecolor": "#EBF0F8",
            "showbackground": true,
            "ticks": "",
            "zerolinecolor": "#EBF0F8"
           },
           "zaxis": {
            "backgroundcolor": "white",
            "gridcolor": "#DFE8F3",
            "gridwidth": 2,
            "linecolor": "#EBF0F8",
            "showbackground": true,
            "ticks": "",
            "zerolinecolor": "#EBF0F8"
           }
          },
          "shapedefaults": {
           "line": {
            "color": "#2a3f5f"
           }
          },
          "ternary": {
           "aaxis": {
            "gridcolor": "#DFE8F3",
            "linecolor": "#A2B1C6",
            "ticks": ""
           },
           "baxis": {
            "gridcolor": "#DFE8F3",
            "linecolor": "#A2B1C6",
            "ticks": ""
           },
           "bgcolor": "white",
           "caxis": {
            "gridcolor": "#DFE8F3",
            "linecolor": "#A2B1C6",
            "ticks": ""
           }
          },
          "title": {
           "x": 0.05
          },
          "xaxis": {
           "automargin": true,
           "gridcolor": "#EBF0F8",
           "linecolor": "#EBF0F8",
           "ticks": "",
           "title": {
            "standoff": 15
           },
           "zerolinecolor": "#EBF0F8",
           "zerolinewidth": 2
          },
          "yaxis": {
           "automargin": true,
           "gridcolor": "#EBF0F8",
           "linecolor": "#EBF0F8",
           "ticks": "",
           "title": {
            "standoff": 15
           },
           "zerolinecolor": "#EBF0F8",
           "zerolinewidth": 2
          }
         }
        },
        "title": {
         "text": "Distribution of Hashtags"
        },
        "xaxis": {
         "anchor": "y",
         "domain": [
          0,
          1
         ],
         "title": {
          "text": "Hashtag"
         }
        },
        "yaxis": {
         "anchor": "x",
         "domain": [
          0,
          1
         ],
         "title": {
          "text": "Count"
         }
        }
       }
      }
     },
     "metadata": {},
     "output_type": "display_data"
    }
   ],
   "source": [
    "hashtag_counts = (\n",
    "    df['Hashtags'].str.split().explode())\n",
    "\n",
    "\n",
    "fig = px.histogram(hashtag_counts, title='Distribution of Hashtags')\n",
    "\n",
    "fig.update_layout(\n",
    "    xaxis_title='Hashtag',\n",
    "    yaxis_title='Count')\n",
    "fig.show()\n"
   ]
  },
  {
   "cell_type": "markdown",
   "metadata": {},
   "source": [
    "## Summary of the Above Tasks\n",
    "\n",
    "- Looked at data, its columns. Explored data using its statistics and checked for missing values\n",
    "- Using Histogram looked at distribution of Impressions \n",
    "- Explored Impressions on post over time\n",
    "- Explored Entities like \"Likes, Saves, Follows\" from each post\n",
    "- Using a pie chart looked at Reach and engagment from different sources \n",
    "- Used wordcloud and created a Correlation matrix \n",
    "- Explored more info using Hashtags data"
   ]
  }
 ],
 "metadata": {
  "kernelspec": {
   "display_name": "Python 3",
   "language": "python",
   "name": "python3"
  },
  "language_info": {
   "codemirror_mode": {
    "name": "ipython",
    "version": 3
   },
   "file_extension": ".py",
   "mimetype": "text/x-python",
   "name": "python",
   "nbconvert_exporter": "python",
   "pygments_lexer": "ipython3",
   "version": "3.10.2"
  }
 },
 "nbformat": 4,
 "nbformat_minor": 2
}
